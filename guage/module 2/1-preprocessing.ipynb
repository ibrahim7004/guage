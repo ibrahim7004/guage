{
 "cells": [
  {
   "cell_type": "markdown",
   "metadata": {},
   "source": [
    "    Pandas Basics"
   ]
  },
  {
   "cell_type": "code",
   "execution_count": 9,
   "metadata": {},
   "outputs": [],
   "source": [
    "import pandas as pd\n",
    "\n",
    "data = {'Name' : ['Alice', 'Bob', 'Charlie'], 'Age':[25,30,45], 'City':['NY', 'LA', 'Boston']}\n",
    "\n",
    "df = pd.DataFrame(data)"
   ]
  },
  {
   "cell_type": "code",
   "execution_count": 10,
   "metadata": {},
   "outputs": [
    {
     "data": {
      "text/html": [
       "<div>\n",
       "<style scoped>\n",
       "    .dataframe tbody tr th:only-of-type {\n",
       "        vertical-align: middle;\n",
       "    }\n",
       "\n",
       "    .dataframe tbody tr th {\n",
       "        vertical-align: top;\n",
       "    }\n",
       "\n",
       "    .dataframe thead th {\n",
       "        text-align: right;\n",
       "    }\n",
       "</style>\n",
       "<table border=\"1\" class=\"dataframe\">\n",
       "  <thead>\n",
       "    <tr style=\"text-align: right;\">\n",
       "      <th></th>\n",
       "      <th>Name</th>\n",
       "      <th>Age</th>\n",
       "      <th>City</th>\n",
       "    </tr>\n",
       "  </thead>\n",
       "  <tbody>\n",
       "    <tr>\n",
       "      <th>0</th>\n",
       "      <td>Alice</td>\n",
       "      <td>25</td>\n",
       "      <td>NY</td>\n",
       "    </tr>\n",
       "    <tr>\n",
       "      <th>1</th>\n",
       "      <td>Bob</td>\n",
       "      <td>30</td>\n",
       "      <td>LA</td>\n",
       "    </tr>\n",
       "    <tr>\n",
       "      <th>2</th>\n",
       "      <td>Charlie</td>\n",
       "      <td>45</td>\n",
       "      <td>Boston</td>\n",
       "    </tr>\n",
       "  </tbody>\n",
       "</table>\n",
       "</div>"
      ],
      "text/plain": [
       "      Name  Age    City\n",
       "0    Alice   25      NY\n",
       "1      Bob   30      LA\n",
       "2  Charlie   45  Boston"
      ]
     },
     "execution_count": 10,
     "metadata": {},
     "output_type": "execute_result"
    }
   ],
   "source": [
    "df.head()   # Display the entire dataframe"
   ]
  },
  {
   "cell_type": "code",
   "execution_count": 11,
   "metadata": {},
   "outputs": [
    {
     "data": {
      "text/plain": [
       "0      Alice\n",
       "1        Bob\n",
       "2    Charlie\n",
       "Name: Name, dtype: object"
      ]
     },
     "execution_count": 11,
     "metadata": {},
     "output_type": "execute_result"
    }
   ],
   "source": [
    "df['Name']  #Display a single column"
   ]
  },
  {
   "cell_type": "markdown",
   "metadata": {},
   "source": [
    "## MODULE 2"
   ]
  },
  {
   "cell_type": "markdown",
   "metadata": {},
   "source": [
    "    Loading and reading our data:"
   ]
  },
  {
   "cell_type": "code",
   "execution_count": 22,
   "metadata": {},
   "outputs": [],
   "source": [
    "import pandas as pd\n",
    "\n",
    "csv_path = r'C:\\Users\\hp\\Desktop\\preply\\lars\\project\\module 2\\extracted_data.csv'\n",
    "\n",
    "df = pd.read_csv(csv_path)"
   ]
  },
  {
   "cell_type": "code",
   "execution_count": 4,
   "metadata": {},
   "outputs": [
    {
     "data": {
      "text/html": [
       "<div>\n",
       "<style scoped>\n",
       "    .dataframe tbody tr th:only-of-type {\n",
       "        vertical-align: middle;\n",
       "    }\n",
       "\n",
       "    .dataframe tbody tr th {\n",
       "        vertical-align: top;\n",
       "    }\n",
       "\n",
       "    .dataframe thead th {\n",
       "        text-align: right;\n",
       "    }\n",
       "</style>\n",
       "<table border=\"1\" class=\"dataframe\">\n",
       "  <thead>\n",
       "    <tr style=\"text-align: right;\">\n",
       "      <th></th>\n",
       "      <th>Name</th>\n",
       "      <th>Highlights</th>\n",
       "      <th>Investment Rationale</th>\n",
       "      <th>Industry Outlook</th>\n",
       "    </tr>\n",
       "  </thead>\n",
       "  <tbody>\n",
       "    <tr>\n",
       "      <th>0</th>\n",
       "      <td>EQUITY Factsheet_ A.P. Moller - Maersk A_S</td>\n",
       "      <td>Highlights\\nuMaersk’s Q2 2023 EBITDA of USD2.9...</td>\n",
       "      <td>Investment Rationale/Risk\\nuOur call is 2-STAR...</td>\n",
       "      <td>Industry Outlook\\nWe maintain our sector recom...</td>\n",
       "    </tr>\n",
       "  </tbody>\n",
       "</table>\n",
       "</div>"
      ],
      "text/plain": [
       "                                         Name  \\\n",
       "0  EQUITY Factsheet_ A.P. Moller - Maersk A_S   \n",
       "\n",
       "                                          Highlights  \\\n",
       "0  Highlights\\nuMaersk’s Q2 2023 EBITDA of USD2.9...   \n",
       "\n",
       "                                Investment Rationale  \\\n",
       "0  Investment Rationale/Risk\\nuOur call is 2-STAR...   \n",
       "\n",
       "                                    Industry Outlook  \n",
       "0  Industry Outlook\\nWe maintain our sector recom...  "
      ]
     },
     "execution_count": 4,
     "metadata": {},
     "output_type": "execute_result"
    }
   ],
   "source": [
    "df.head()"
   ]
  },
  {
   "cell_type": "code",
   "execution_count": 23,
   "metadata": {},
   "outputs": [
    {
     "name": "stdout",
     "output_type": "stream",
     "text": [
      "Highlights Highlights\n",
      "uMaersk’s Q2 2023 EBITDA of USD2.9 billion (-\n",
      "72% Y/Y; -27% Q/Q) was 16% above consensus \n",
      "estimate, attributed to good cost management \n",
      "instead of strong rates, in our view. The fall in \n",
      "earnings was mainly caused by Ocean (-76% Y/\n",
      "Y; -33% Q/Q) on reduced freight rates (-51% Y/\n",
      "Y; -15% Q/Q) and weaker volumes (-6% Y/Y; \n",
      "+7% Q/Q). \n",
      "uMaersk lifted the bottom end of its 2023 EBITDA \n",
      "guidance to USD9.5-USD11.0 billion from \n",
      "USD8.0-11.0 billion reflecting the stronger H1 \n",
      "2023 results but lowered its 2023 market \n",
      "volume outlook to -4.0% to -1.0% (previously -\n",
      "2.5% to +0.5%) on continued inventory \n",
      "correction till the end of 2023. We think the \n",
      "implied sequential drop in H1 2023 earnings \n",
      "reflects the ongoing decline in Maersk’s \n",
      "contracted rate given that they are being reset \n",
      "to a level nearer to the spot which has fallen \n",
      "sharply since mid-2022. Also, we gathered that \n",
      "the industry’s supply of new vessels may \n",
      "increase freight capacity by 9% and 10% in \n",
      "2023 and 2024 respectively, which we think will \n",
      "outgrow demand causing overcapacity and \n",
      "further deterioration in freight rates.\n",
      "uWe forecast EPS of USD220 for 2023 and \n",
      "USD100 for 2024 as we expect a further \n",
      "weakness in freight rates.\n",
      "Investment Rationale Investment Rationale/Risk\n",
      "uOur call is 2-STARS (Sell). We believe Maersk’s \n",
      "near-term financial performance will be \n",
      "vulnerable to lower freight rates, which have \n",
      "been on a downward trend due to continuing \n",
      "subdued demand and easing of port congestion \n",
      "which release capacity back into service. \n",
      "Furthermore, we think the negative feedback \n",
      "loop to freight rates will continue and think its \n",
      "customers may seek renegotiation given the \n",
      "price differential between contract and spot has \n",
      "widened. Also, the overhang situation may be \n",
      "amplified by the entry of new vessels which are \n",
      "projected to increase the industry’s supply by 9 \n",
      "and 10% in 2023 and 2024 respectively. \n",
      "Nonetheless, we are positive about its long-\n",
      "term strategy of growing its non-ocean logistic \n",
      "business to complement its core business with \n",
      "end-to-end solutions. \n",
      "uUpside risks include strong economic growth, \n",
      "which improves shipping activities, a positive \n",
      "reversal in freight rates, and effective cost \n",
      "management. \n",
      "uOur 12-month target price for Maersk of \n",
      "DKK9,500 reflects a 3.0x 2024 EV/EBITDA, \n",
      "broadly in line with peer average.\n",
      "Industry Outlook Industry Outlook\n",
      "We maintain our sector recommendation for EMEA \n",
      "Industrial sector at neutral for Q4 2023 and 2024. \n",
      "We believe that the key issue facing the sector is \n",
      "the surge in energy price arising from the concern \n",
      "on potential supply disruption from the Middle \n",
      "East. However, supply chain disruptions have \n",
      "eased. This could be attributed to slower demand \n",
      "for goods and weak economy growth in China. In \n",
      "the past 12 months, the Shanghai Containerized \n",
      "Freight Index (SCFI) has declined about 30% to \n",
      "about $900 per TEU. This is a signal of weak \n",
      "demand on global movement of cargoes. \n",
      "Year to date as of October 16, 2023, the EMEA \n",
      "Industrial Index is up 13.0% versus the S&P \n",
      "Europe 350 Index increase of 10.0%. However, in \n",
      "Q3 2023, the EMEA Industrial sector’s \n",
      "performance was at -3.8%, which is below S&P \n",
      "Europe 350’s -1.8%.\n",
      "The eurozone’s annual inflation rate dropped to \n",
      "4.3% in September (from August’s 5.2%). We \n",
      "expect lower inflation impact to be positive to \n",
      "industrial sector earnings as it lowers cost and \n",
      "widens operating margin. In Q4 2023, industrial \n",
      "players will likely focus on revenue growth via \n",
      "business volume increase instead of average \n",
      "selling price increases. For Q4 2023, the outlook \n",
      "should turn more positive as inflation moderates, \n",
      "although this is partially caused by a high base \n",
      "case comparison in Q4 2022. However, the growth \n",
      "momentum is likely to be slow as the factor of \n",
      "China reopening has so far generated little \n",
      "demand growth. In our view, industrial players will \n",
      "shift their focus to grow volume instead of passing \n",
      "on increases in cost as inflation cools down. \n",
      "The Eurozone Manufacturing PMI for September \n",
      "stands at 43.4, which is little changed compared \n",
      "to the August level of 43.5. According to our \n",
      "findings, contractions in order book and an output \n",
      "decline trend is still ongoing. On the positive side, \n",
      "the price of input material has declined and \n",
      "manufacturers are passing the cost savings to \n",
      "their clients.\n",
      "Due to the aircraft engine recall issues (PW1100G \n",
      "Geared Turbofan Engines), we are now neutral on \n",
      "Aerospace & Defense from positive previously. We also lowered our opinion to neutral for Airlines. \n",
      "Although airlines players will likely benefit from \n",
      "the global aviation sector recovery due to \n",
      "Covid-19 normalization, its margin could be \n",
      "affected by the spike in jet fuel price (in line \n",
      "with the higher crude oil price). \n",
      "We are positive on the Industrial Machinery and \n",
      "Industrial Conglomerates sub-sectors. \n",
      "Industrial Machinery sub-sector players are the \n",
      "beneficiaries of high demand due to energy \n",
      "efficiency and automation. For Industrial \n",
      "Conglomerates, strong demand for \n",
      "electrification and sustainability services \n",
      "should continue to support revenue growth.\n",
      "The focus for Trading Companies and \n",
      "Distributors will be to reduce the record-high \n",
      "inventory in the near term, in our view. This \n",
      "may affect their near-term margin, although it \n",
      "could lead to stronger cash flow. For the Heavy \n",
      "Electrical Equipment sub-sector, the smoother \n",
      "supply chain should lead to improvement in \n",
      "revenue recognition. However, the intense \n",
      "competition should keep the margin upside \n",
      "limited.\n",
      "We are less positive on the Building Products \n",
      "and Construction Machinery & Heavy Trucks \n",
      "sub-sectors. We expect the Building Products \n",
      "sub-sector’s revenue to be affected by poor \n",
      "demand for property during slow economy \n",
      "growth/recession in Europe. For the \n",
      "Construction Machinery & Heavy Trucks sub-\n",
      "sector, slower economy growth/recession in \n",
      "Europe should affect construction activity, \n",
      "trucks demand, and rolling stock.\n",
      " / Alan Lim Seong Chun, CF\n",
      "\n"
     ]
    }
   ],
   "source": [
    "def display(df):\n",
    "    for index, row in df.iterrows():\n",
    "        print(\"Highlights\", row['Highlights'])\n",
    "        print('Investment Rationale', row['Investment Rationale'])\n",
    "        print('Industry Outlook', row['Industry Outlook'])\n",
    "        print()\n",
    "display(df)"
   ]
  },
  {
   "cell_type": "markdown",
   "metadata": {},
   "source": [
    "    Removing 'u' for new bullets in the text:"
   ]
  },
  {
   "cell_type": "code",
   "execution_count": 7,
   "metadata": {},
   "outputs": [
    {
     "name": "stdout",
     "output_type": "stream",
     "text": [
      "Hello \n",
      "World\n"
     ]
    }
   ],
   "source": [
    "print('Hello \\nWorld')      # \\n -> newline "
   ]
  },
  {
   "cell_type": "code",
   "execution_count": 24,
   "metadata": {},
   "outputs": [
    {
     "data": {
      "text/html": [
       "<div>\n",
       "<style scoped>\n",
       "    .dataframe tbody tr th:only-of-type {\n",
       "        vertical-align: middle;\n",
       "    }\n",
       "\n",
       "    .dataframe tbody tr th {\n",
       "        vertical-align: top;\n",
       "    }\n",
       "\n",
       "    .dataframe thead th {\n",
       "        text-align: right;\n",
       "    }\n",
       "</style>\n",
       "<table border=\"1\" class=\"dataframe\">\n",
       "  <thead>\n",
       "    <tr style=\"text-align: right;\">\n",
       "      <th></th>\n",
       "      <th>Name</th>\n",
       "      <th>Highlights</th>\n",
       "      <th>Investment Rationale</th>\n",
       "      <th>Industry Outlook</th>\n",
       "    </tr>\n",
       "  </thead>\n",
       "  <tbody>\n",
       "    <tr>\n",
       "      <th>0</th>\n",
       "      <td>EQUITY Factsheet_ A.P. Moller - Maersk A_S</td>\n",
       "      <td>Highlights\\nMaersk’s Q2 2023 EBITDA of USD2.9 ...</td>\n",
       "      <td>Investment Rationale/Risk\\nOur call is 2-STARS...</td>\n",
       "      <td>Industry Outlook\\nWe maintain our sector recom...</td>\n",
       "    </tr>\n",
       "  </tbody>\n",
       "</table>\n",
       "</div>"
      ],
      "text/plain": [
       "                                         Name  \\\n",
       "0  EQUITY Factsheet_ A.P. Moller - Maersk A_S   \n",
       "\n",
       "                                          Highlights  \\\n",
       "0  Highlights\\nMaersk’s Q2 2023 EBITDA of USD2.9 ...   \n",
       "\n",
       "                                Investment Rationale  \\\n",
       "0  Investment Rationale/Risk\\nOur call is 2-STARS...   \n",
       "\n",
       "                                    Industry Outlook  \n",
       "0  Industry Outlook\\nWe maintain our sector recom...  "
      ]
     },
     "execution_count": 24,
     "metadata": {},
     "output_type": "execute_result"
    }
   ],
   "source": [
    "df = df.astype(str)\n",
    "\n",
    "# Remove 'u' characters from all columns\n",
    "df = df.apply(lambda x: x.str.replace(r'\\bu', '', regex=True))  # using regex python libraryto process our text better\n",
    "\n",
    "df.head()"
   ]
  },
  {
   "cell_type": "code",
   "execution_count": 25,
   "metadata": {},
   "outputs": [
    {
     "name": "stdout",
     "output_type": "stream",
     "text": [
      "Highlights Highlights\n",
      "Maersk’s Q2 2023 EBITDA of USD2.9 billion (-\n",
      "72% Y/Y; -27% Q/Q) was 16% above consensus \n",
      "estimate, attributed to good cost management \n",
      "instead of strong rates, in our view. The fall in \n",
      "earnings was mainly caused by Ocean (-76% Y/\n",
      "Y; -33% Q/Q) on reduced freight rates (-51% Y/\n",
      "Y; -15% Q/Q) and weaker volumes (-6% Y/Y; \n",
      "+7% Q/Q). \n",
      "Maersk lifted the bottom end of its 2023 EBITDA \n",
      "guidance to USD9.5-USD11.0 billion from \n",
      "USD8.0-11.0 billion reflecting the stronger H1 \n",
      "2023 results but lowered its 2023 market \n",
      "volume outlook to -4.0% to -1.0% (previously -\n",
      "2.5% to +0.5%) on continued inventory \n",
      "correction till the end of 2023. We think the \n",
      "implied sequential drop in H1 2023 earnings \n",
      "reflects the ongoing decline in Maersk’s \n",
      "contracted rate given that they are being reset \n",
      "to a level nearer to the spot which has fallen \n",
      "sharply since mid-2022. Also, we gathered that \n",
      "the industry’s supply of new vessels may \n",
      "increase freight capacity by 9% and 10% in \n",
      "2023 and 2024 respectively, which we think will \n",
      "outgrow demand causing overcapacity and \n",
      "further deterioration in freight rates.\n",
      "We forecast EPS of USD220 for 2023 and \n",
      "USD100 for 2024 as we expect a further \n",
      "weakness in freight rates.\n",
      "Investment Rationale Investment Rationale/Risk\n",
      "Our call is 2-STARS (Sell). We believe Maersk’s \n",
      "near-term financial performance will be \n",
      "vulnerable to lower freight rates, which have \n",
      "been on a downward trend due to continuing \n",
      "subdued demand and easing of port congestion \n",
      "which release capacity back into service. \n",
      "Furthermore, we think the negative feedback \n",
      "loop to freight rates will continue and think its \n",
      "customers may seek renegotiation given the \n",
      "price differential between contract and spot has \n",
      "widened. Also, the overhang situation may be \n",
      "amplified by the entry of new vessels which are \n",
      "projected to increase the industry’s supply by 9 \n",
      "and 10% in 2023 and 2024 respectively. \n",
      "Nonetheless, we are positive about its long-\n",
      "term strategy of growing its non-ocean logistic \n",
      "business to complement its core business with \n",
      "end-to-end solutions. \n",
      "Upside risks include strong economic growth, \n",
      "which improves shipping activities, a positive \n",
      "reversal in freight rates, and effective cost \n",
      "management. \n",
      "Our 12-month target price for Maersk of \n",
      "DKK9,500 reflects a 3.0x 2024 EV/EBITDA, \n",
      "broadly in line with peer average.\n",
      "Industry Outlook Industry Outlook\n",
      "We maintain our sector recommendation for EMEA \n",
      "Industrial sector at neutral for Q4 2023 and 2024. \n",
      "We believe that the key issue facing the sector is \n",
      "the surge in energy price arising from the concern \n",
      "on potential supply disruption from the Middle \n",
      "East. However, supply chain disruptions have \n",
      "eased. This could be attributed to slower demand \n",
      "for goods and weak economy growth in China. In \n",
      "the past 12 months, the Shanghai Containerized \n",
      "Freight Index (SCFI) has declined about 30% to \n",
      "about $900 per TEU. This is a signal of weak \n",
      "demand on global movement of cargoes. \n",
      "Year to date as of October 16, 2023, the EMEA \n",
      "Industrial Index is p 13.0% versus the S&P \n",
      "Europe 350 Index increase of 10.0%. However, in \n",
      "Q3 2023, the EMEA Industrial sector’s \n",
      "performance was at -3.8%, which is below S&P \n",
      "Europe 350’s -1.8%.\n",
      "The eurozone’s annual inflation rate dropped to \n",
      "4.3% in September (from August’s 5.2%). We \n",
      "expect lower inflation impact to be positive to \n",
      "industrial sector earnings as it lowers cost and \n",
      "widens operating margin. In Q4 2023, industrial \n",
      "players will likely focus on revenue growth via \n",
      "business volume increase instead of average \n",
      "selling price increases. For Q4 2023, the outlook \n",
      "should turn more positive as inflation moderates, \n",
      "although this is partially caused by a high base \n",
      "case comparison in Q4 2022. However, the growth \n",
      "momentum is likely to be slow as the factor of \n",
      "China reopening has so far generated little \n",
      "demand growth. In our view, industrial players will \n",
      "shift their focus to grow volume instead of passing \n",
      "on increases in cost as inflation cools down. \n",
      "The Eurozone Manufacturing PMI for September \n",
      "stands at 43.4, which is little changed compared \n",
      "to the August level of 43.5. According to our \n",
      "findings, contractions in order book and an output \n",
      "decline trend is still ongoing. On the positive side, \n",
      "the price of input material has declined and \n",
      "manufacturers are passing the cost savings to \n",
      "their clients.\n",
      "Due to the aircraft engine recall issues (PW1100G \n",
      "Geared Turbofan Engines), we are now neutral on \n",
      "Aerospace & Defense from positive previously. We also lowered our opinion to neutral for Airlines. \n",
      "Although airlines players will likely benefit from \n",
      "the global aviation sector recovery due to \n",
      "Covid-19 normalization, its margin could be \n",
      "affected by the spike in jet fuel price (in line \n",
      "with the higher crude oil price). \n",
      "We are positive on the Industrial Machinery and \n",
      "Industrial Conglomerates sub-sectors. \n",
      "Industrial Machinery sub-sector players are the \n",
      "beneficiaries of high demand due to energy \n",
      "efficiency and automation. For Industrial \n",
      "Conglomerates, strong demand for \n",
      "electrification and sustainability services \n",
      "should continue to support revenue growth.\n",
      "The focus for Trading Companies and \n",
      "Distributors will be to reduce the record-high \n",
      "inventory in the near term, in our view. This \n",
      "may affect their near-term margin, although it \n",
      "could lead to stronger cash flow. For the Heavy \n",
      "Electrical Equipment sub-sector, the smoother \n",
      "supply chain should lead to improvement in \n",
      "revenue recognition. However, the intense \n",
      "competition should keep the margin pside \n",
      "limited.\n",
      "We are less positive on the Building Products \n",
      "and Construction Machinery & Heavy Trucks \n",
      "sub-sectors. We expect the Building Products \n",
      "sub-sector’s revenue to be affected by poor \n",
      "demand for property during slow economy \n",
      "growth/recession in Europe. For the \n",
      "Construction Machinery & Heavy Trucks sub-\n",
      "sector, slower economy growth/recession in \n",
      "Europe should affect construction activity, \n",
      "trucks demand, and rolling stock.\n",
      " / Alan Lim Seong Chun, CF\n",
      "\n"
     ]
    }
   ],
   "source": [
    "display(df)"
   ]
  },
  {
   "cell_type": "markdown",
   "metadata": {},
   "source": [
    "    Lowercasing:"
   ]
  },
  {
   "cell_type": "markdown",
   "metadata": {},
   "source": [
    "- This ensures uniformity in our text, which is important for analysis.\n",
    "- Ensures a standard formatting, so as to not focus on irrelevant features of the text."
   ]
  },
  {
   "cell_type": "code",
   "execution_count": 26,
   "metadata": {},
   "outputs": [],
   "source": [
    "df['Highlights'] = df['Highlights'].str.lower() # Text converted to lowercase for the column 'Highlights'\n",
    "df['Investment Rationale'] = df['Investment Rationale'].str.lower()\n",
    "df['Industry Outlook'] = df['Industry Outlook'].str.lower()"
   ]
  },
  {
   "cell_type": "code",
   "execution_count": 20,
   "metadata": {},
   "outputs": [
    {
     "data": {
      "text/html": [
       "<div>\n",
       "<style scoped>\n",
       "    .dataframe tbody tr th:only-of-type {\n",
       "        vertical-align: middle;\n",
       "    }\n",
       "\n",
       "    .dataframe tbody tr th {\n",
       "        vertical-align: top;\n",
       "    }\n",
       "\n",
       "    .dataframe thead th {\n",
       "        text-align: right;\n",
       "    }\n",
       "</style>\n",
       "<table border=\"1\" class=\"dataframe\">\n",
       "  <thead>\n",
       "    <tr style=\"text-align: right;\">\n",
       "      <th></th>\n",
       "      <th>Name</th>\n",
       "      <th>Highlights</th>\n",
       "      <th>Investment Rationale</th>\n",
       "      <th>Industry Outlook</th>\n",
       "    </tr>\n",
       "  </thead>\n",
       "  <tbody>\n",
       "    <tr>\n",
       "      <th>0</th>\n",
       "      <td>EQUITY Factsheet_ A.P. Moller - Maersk A_S</td>\n",
       "      <td>highlights\\numaersk’s q2 2023 ebitda of usd2.9...</td>\n",
       "      <td>investment rationale/risk\\nuour call is 2-star...</td>\n",
       "      <td>industry outlook\\nwe maintain our sector recom...</td>\n",
       "    </tr>\n",
       "  </tbody>\n",
       "</table>\n",
       "</div>"
      ],
      "text/plain": [
       "                                         Name  \\\n",
       "0  EQUITY Factsheet_ A.P. Moller - Maersk A_S   \n",
       "\n",
       "                                          Highlights  \\\n",
       "0  highlights\\numaersk’s q2 2023 ebitda of usd2.9...   \n",
       "\n",
       "                                Investment Rationale  \\\n",
       "0  investment rationale/risk\\nuour call is 2-star...   \n",
       "\n",
       "                                    Industry Outlook  \n",
       "0  industry outlook\\nwe maintain our sector recom...  "
      ]
     },
     "execution_count": 20,
     "metadata": {},
     "output_type": "execute_result"
    }
   ],
   "source": [
    "df.head()"
   ]
  },
  {
   "cell_type": "markdown",
   "metadata": {},
   "source": [
    "    Tokenization:"
   ]
  },
  {
   "cell_type": "code",
   "execution_count": 27,
   "metadata": {},
   "outputs": [
    {
     "name": "stderr",
     "output_type": "stream",
     "text": [
      "[nltk_data] Downloading package punkt to\n",
      "[nltk_data]     C:\\Users\\hp\\AppData\\Roaming\\nltk_data...\n",
      "[nltk_data]   Package punkt is already up-to-date!\n"
     ]
    }
   ],
   "source": [
    "import nltk\n",
    "from nltk.tokenize.toktok import ToktokTokenizer \n",
    "\n",
    "nltk.download('punkt')  # 'punkt' tokenizer module must be downloaded to use tokenization in nltk\n",
    "\n",
    "tokenizer=ToktokTokenizer() # Initializing the Toktok tokenizer\n",
    "\n",
    "# tokenize text in 'highlights' using our initialized instance of toktoktokenizer:\n",
    "df['Highlights'] = df['Highlights'].apply(tokenizer.tokenize)   \n",
    "df['Industry Outlook'] = df['Industry Outlook'].apply(tokenizer.tokenize)   \n",
    "df['Investment Rationale'] = df['Investment Rationale'].apply(tokenizer.tokenize)   "
   ]
  },
  {
   "cell_type": "code",
   "execution_count": 22,
   "metadata": {},
   "outputs": [
    {
     "data": {
      "text/html": [
       "<div>\n",
       "<style scoped>\n",
       "    .dataframe tbody tr th:only-of-type {\n",
       "        vertical-align: middle;\n",
       "    }\n",
       "\n",
       "    .dataframe tbody tr th {\n",
       "        vertical-align: top;\n",
       "    }\n",
       "\n",
       "    .dataframe thead th {\n",
       "        text-align: right;\n",
       "    }\n",
       "</style>\n",
       "<table border=\"1\" class=\"dataframe\">\n",
       "  <thead>\n",
       "    <tr style=\"text-align: right;\">\n",
       "      <th></th>\n",
       "      <th>Name</th>\n",
       "      <th>Highlights</th>\n",
       "      <th>Investment Rationale</th>\n",
       "      <th>Industry Outlook</th>\n",
       "    </tr>\n",
       "  </thead>\n",
       "  <tbody>\n",
       "    <tr>\n",
       "      <th>0</th>\n",
       "      <td>EQUITY Factsheet_ A.P. Moller - Maersk A_S</td>\n",
       "      <td>[highlights, umaersk, ’, s, q2, 2023, ebitda, ...</td>\n",
       "      <td>[investment, rationale/risk, uour, call, is, 2...</td>\n",
       "      <td>[industry, outlook, we, maintain, our, sector,...</td>\n",
       "    </tr>\n",
       "  </tbody>\n",
       "</table>\n",
       "</div>"
      ],
      "text/plain": [
       "                                         Name  \\\n",
       "0  EQUITY Factsheet_ A.P. Moller - Maersk A_S   \n",
       "\n",
       "                                          Highlights  \\\n",
       "0  [highlights, umaersk, ’, s, q2, 2023, ebitda, ...   \n",
       "\n",
       "                                Investment Rationale  \\\n",
       "0  [investment, rationale/risk, uour, call, is, 2...   \n",
       "\n",
       "                                    Industry Outlook  \n",
       "0  [industry, outlook, we, maintain, our, sector,...  "
      ]
     },
     "execution_count": 22,
     "metadata": {},
     "output_type": "execute_result"
    }
   ],
   "source": [
    "df.head()"
   ]
  },
  {
   "cell_type": "markdown",
   "metadata": {},
   "source": [
    "    Creating a custom function to print all the content:"
   ]
  },
  {
   "cell_type": "code",
   "execution_count": 17,
   "metadata": {},
   "outputs": [
    {
     "name": "stdout",
     "output_type": "stream",
     "text": [
      "Highlights ['highlights', 'maersk', '’', 's', 'q2', '2023', 'ebitda', 'of', 'usd2.9', 'billion', '(', '-', '72', '%', 'y/y', ';', '-27', '%', 'q/q', ')', 'was', '16', '%', 'above', 'consensus', 'estimate', ',', 'attributed', 'to', 'good', 'cost', 'management', 'instead', 'of', 'strong', 'rates', ',', 'in', 'our', 'view.', 'the', 'fall', 'in', 'earnings', 'was', 'mainly', 'caused', 'by', 'ocean', '(', '-76', '%', 'y/', 'y', ';', '-33', '%', 'q/q', ')', 'on', 'reduced', 'freight', 'rates', '(', '-51', '%', 'y/', 'y', ';', '-15', '%', 'q/q', ')', 'and', 'weaker', 'volumes', '(', '-6', '%', 'y/y', ';', '+7', '%', 'q/q', ')', '.', 'maersk', 'lifted', 'the', 'bottom', 'end', 'of', 'its', '2023', 'ebitda', 'guidance', 'to', 'usd9.5-usd11.0', 'billion', 'from', 'usd8.0-11.0', 'billion', 'reflecting', 'the', 'stronger', 'h1', '2023', 'results', 'but', 'lowered', 'its', '2023', 'market', 'volume', 'outlook', 'to', '-4.0', '%', 'to', '-1.0', '%', '(', 'previously', '-', '2.5', '%', 'to', '+0.5', '%', ')', 'on', 'continued', 'inventory', 'correction', 'till', 'the', 'end', 'of', '2023.', 'we', 'think', 'the', 'implied', 'sequential', 'drop', 'in', 'h1', '2023', 'earnings', 'reflects', 'the', 'ongoing', 'decline', 'in', 'maersk', '’', 's', 'contracted', 'rate', 'given', 'that', 'they', 'are', 'being', 'reset', 'to', 'a', 'level', 'nearer', 'to', 'the', 'spot', 'which', 'has', 'fallen', 'sharply', 'since', 'mid-2022.', 'also', ',', 'we', 'gathered', 'that', 'the', 'industry', '’', 's', 'supply', 'of', 'new', 'vessels', 'may', 'increase', 'freight', 'capacity', 'by', '9', '%', 'and', '10', '%', 'in', '2023', 'and', '2024', 'respectively', ',', 'which', 'we', 'think', 'will', 'outgrow', 'demand', 'causing', 'overcapacity', 'and', 'further', 'deterioration', 'in', 'freight', 'rates.', 'we', 'forecast', 'eps', 'of', 'usd220', 'for', '2023', 'and', 'usd100', 'for', '2024', 'as', 'we', 'expect', 'a', 'further', 'weakness', 'in', 'freight', 'rates', '.']\n",
      "Investment Rationale ['investment', 'rationale/risk', 'our', 'call', 'is', '2-stars', '(', 'sell', ')', '.', 'we', 'believe', 'maersk', '’', 's', 'near-term', 'financial', 'performance', 'will', 'be', 'vulnerable', 'to', 'lower', 'freight', 'rates', ',', 'which', 'have', 'been', 'on', 'a', 'downward', 'trend', 'due', 'to', 'continuing', 'subdued', 'demand', 'and', 'easing', 'of', 'port', 'congestion', 'which', 'release', 'capacity', 'back', 'into', 'service.', 'furthermore', ',', 'we', 'think', 'the', 'negative', 'feedback', 'loop', 'to', 'freight', 'rates', 'will', 'continue', 'and', 'think', 'its', 'customers', 'may', 'seek', 'renegotiation', 'given', 'the', 'price', 'differential', 'between', 'contract', 'and', 'spot', 'has', 'widened.', 'also', ',', 'the', 'overhang', 'situation', 'may', 'be', 'amplified', 'by', 'the', 'entry', 'of', 'new', 'vessels', 'which', 'are', 'projected', 'to', 'increase', 'the', 'industry', '’', 's', 'supply', 'by', '9', 'and', '10', '%', 'in', '2023', 'and', '2024', 'respectively.', 'nonetheless', ',', 'we', 'are', 'positive', 'about', 'its', 'long-', 'term', 'strategy', 'of', 'growing', 'its', 'non-ocean', 'logistic', 'business', 'to', 'complement', 'its', 'core', 'business', 'with', 'end-to-end', 'solutions.', 'upside', 'risks', 'include', 'strong', 'economic', 'growth', ',', 'which', 'improves', 'shipping', 'activities', ',', 'a', 'positive', 'reversal', 'in', 'freight', 'rates', ',', 'and', 'effective', 'cost', 'management.', 'our', '12-month', 'target', 'price', 'for', 'maersk', 'of', 'dkk9,500', 'reflects', 'a', '3.0x', '2024', 'ev/ebitda', ',', 'broadly', 'in', 'line', 'with', 'peer', 'average', '.']\n",
      "Industry Outlook ['industry', 'outlook', 'we', 'maintain', 'our', 'sector', 'recommendation', 'for', 'emea', 'industrial', 'sector', 'at', 'neutral', 'for', 'q4', '2023', 'and', '2024.', 'we', 'believe', 'that', 'the', 'key', 'issue', 'facing', 'the', 'sector', 'is', 'the', 'surge', 'in', 'energy', 'price', 'arising', 'from', 'the', 'concern', 'on', 'potential', 'supply', 'disruption', 'from', 'the', 'middle', 'east.', 'however', ',', 'supply', 'chain', 'disruptions', 'have', 'eased.', 'this', 'could', 'be', 'attributed', 'to', 'slower', 'demand', 'for', 'goods', 'and', 'weak', 'economy', 'growth', 'in', 'china.', 'in', 'the', 'past', '12', 'months', ',', 'the', 'shanghai', 'containerized', 'freight', 'index', '(', 'scfi', ')', 'has', 'declined', 'about', '30', '%', 'to', 'about', '$', '900', 'per', 'teu.', 'this', 'is', 'a', 'signal', 'of', 'weak', 'demand', 'on', 'global', 'movement', 'of', 'cargoes.', 'year', 'to', 'date', 'as', 'of', 'october', '16', ',', '2023', ',', 'the', 'emea', 'industrial', 'index', 'is', 'p', '13.0', '%', 'versus', 'the', 's&p', 'europe', '350', 'index', 'increase', 'of', '10.0', '%', '.', 'however', ',', 'in', 'q3', '2023', ',', 'the', 'emea', 'industrial', 'sector', '’', 's', 'performance', 'was', 'at', '-3.8', '%', ',', 'which', 'is', 'below', 's&p', 'europe', '350', '’', 's', '-1.8', '%', '.', 'the', 'eurozone', '’', 's', 'annual', 'inflation', 'rate', 'dropped', 'to', '4.3', '%', 'in', 'september', '(', 'from', 'august', '’', 's', '5.2', '%', ')', '.', 'we', 'expect', 'lower', 'inflation', 'impact', 'to', 'be', 'positive', 'to', 'industrial', 'sector', 'earnings', 'as', 'it', 'lowers', 'cost', 'and', 'widens', 'operating', 'margin.', 'in', 'q4', '2023', ',', 'industrial', 'players', 'will', 'likely', 'focus', 'on', 'revenue', 'growth', 'via', 'business', 'volume', 'increase', 'instead', 'of', 'average', 'selling', 'price', 'increases.', 'for', 'q4', '2023', ',', 'the', 'outlook', 'should', 'turn', 'more', 'positive', 'as', 'inflation', 'moderates', ',', 'although', 'this', 'is', 'partially', 'caused', 'by', 'a', 'high', 'base', 'case', 'comparison', 'in', 'q4', '2022.', 'however', ',', 'the', 'growth', 'momentum', 'is', 'likely', 'to', 'be', 'slow', 'as', 'the', 'factor', 'of', 'china', 'reopening', 'has', 'so', 'far', 'generated', 'little', 'demand', 'growth.', 'in', 'our', 'view', ',', 'industrial', 'players', 'will', 'shift', 'their', 'focus', 'to', 'grow', 'volume', 'instead', 'of', 'passing', 'on', 'increases', 'in', 'cost', 'as', 'inflation', 'cools', 'down.', 'the', 'eurozone', 'manufacturing', 'pmi', 'for', 'september', 'stands', 'at', '43.4', ',', 'which', 'is', 'little', 'changed', 'compared', 'to', 'the', 'august', 'level', 'of', '43.5.', 'according', 'to', 'our', 'findings', ',', 'contractions', 'in', 'order', 'book', 'and', 'an', 'output', 'decline', 'trend', 'is', 'still', 'ongoing.', 'on', 'the', 'positive', 'side', ',', 'the', 'price', 'of', 'input', 'material', 'has', 'declined', 'and', 'manufacturers', 'are', 'passing', 'the', 'cost', 'savings', 'to', 'their', 'clients.', 'due', 'to', 'the', 'aircraft', 'engine', 'recall', 'issues', '(', 'pw1100g', 'geared', 'turbofan', 'engines', ')', ',', 'we', 'are', 'now', 'neutral', 'on', 'aerospace', '&amp;', 'defense', 'from', 'positive', 'previously.', 'we', 'also', 'lowered', 'our', 'opinion', 'to', 'neutral', 'for', 'airlines.', 'although', 'airlines', 'players', 'will', 'likely', 'benefit', 'from', 'the', 'global', 'aviation', 'sector', 'recovery', 'due', 'to', 'covid-19', 'normalization', ',', 'its', 'margin', 'could', 'be', 'affected', 'by', 'the', 'spike', 'in', 'jet', 'fuel', 'price', '(', 'in', 'line', 'with', 'the', 'higher', 'crude', 'oil', 'price', ')', '.', 'we', 'are', 'positive', 'on', 'the', 'industrial', 'machinery', 'and', 'industrial', 'conglomerates', 'sub-sectors.', 'industrial', 'machinery', 'sub-sector', 'players', 'are', 'the', 'beneficiaries', 'of', 'high', 'demand', 'due', 'to', 'energy', 'efficiency', 'and', 'automation.', 'for', 'industrial', 'conglomerates', ',', 'strong', 'demand', 'for', 'electrification', 'and', 'sustainability', 'services', 'should', 'continue', 'to', 'support', 'revenue', 'growth.', 'the', 'focus', 'for', 'trading', 'companies', 'and', 'distributors', 'will', 'be', 'to', 'reduce', 'the', 'record-high', 'inventory', 'in', 'the', 'near', 'term', ',', 'in', 'our', 'view.', 'this', 'may', 'affect', 'their', 'near-term', 'margin', ',', 'although', 'it', 'could', 'lead', 'to', 'stronger', 'cash', 'flow.', 'for', 'the', 'heavy', 'electrical', 'equipment', 'sub-sector', ',', 'the', 'smoother', 'supply', 'chain', 'should', 'lead', 'to', 'improvement', 'in', 'revenue', 'recognition.', 'however', ',', 'the', 'intense', 'competition', 'should', 'keep', 'the', 'margin', 'pside', 'limited.', 'we', 'are', 'less', 'positive', 'on', 'the', 'building', 'products', 'and', 'construction', 'machinery', '&amp;', 'heavy', 'trucks', 'sub-sectors.', 'we', 'expect', 'the', 'building', 'products', 'sub-sector', '’', 's', 'revenue', 'to', 'be', 'affected', 'by', 'poor', 'demand', 'for', 'property', 'during', 'slow', 'economy', 'growth/recession', 'in', 'europe.', 'for', 'the', 'construction', 'machinery', '&amp;', 'heavy', 'trucks', 'sub-', 'sector', ',', 'slower', 'economy', 'growth/recession', 'in', 'europe', 'should', 'affect', 'construction', 'activity', ',', 'trucks', 'demand', ',', 'and', 'rolling', 'stock.', '/', 'alan', 'lim', 'seong', 'chun', ',', 'cf']\n",
      "\n"
     ]
    }
   ],
   "source": [
    "def display(df):\n",
    "    for index, row in df.iterrows():\n",
    "        print(\"Highlights\", row['Highlights'])\n",
    "        print('Investment Rationale', row['Investment Rationale'])\n",
    "        print('Industry Outlook', row['Industry Outlook'])\n",
    "        print()\n",
    "display(df)"
   ]
  },
  {
   "cell_type": "markdown",
   "metadata": {},
   "source": [
    "    Removing Punctuation:"
   ]
  },
  {
   "cell_type": "code",
   "execution_count": 26,
   "metadata": {},
   "outputs": [
    {
     "name": "stdout",
     "output_type": "stream",
     "text": [
      "['highlights', 'umaersk', '’', 's', 'q2', '2023', 'ebitda', 'of', 'usd2.9', 'billion', '(', '-', '72', '%', 'y/y', ';', '-27', '%', 'q/q', ')', 'was', '16', '%', 'above', 'consensus', 'estimate', ',', 'attributed', 'to', 'good', 'cost', 'management', 'instead', 'of', 'strong', 'rates', ',', 'in', 'our', 'view.', 'the', 'fall', 'in', 'earnings', 'was', 'mainly', 'caused', 'by', 'ocean', '(', '-76', '%', 'y/', 'y', ';', '-33', '%', 'q/q', ')', 'on', 'reduced', 'freight', 'rates', '(', '-51', '%', 'y/', 'y', ';', '-15', '%', 'q/q', ')', 'and', 'weaker', 'volumes', '(', '-6', '%', 'y/y', ';', '+7', '%', 'q/q', ')', '.', 'umaersk', 'lifted', 'the', 'bottom', 'end', 'of', 'its', '2023', 'ebitda', 'guidance', 'to', 'usd9.5-usd11.0', 'billion', 'from', 'usd8.0-11.0', 'billion', 'reflecting', 'the', 'stronger', 'h1', '2023', 'results', 'but', 'lowered', 'its', '2023', 'market', 'volume', 'outlook', 'to', '-4.0', '%', 'to', '-1.0', '%', '(', 'previously', '-', '2.5', '%', 'to', '+0.5', '%', ')', 'on', 'continued', 'inventory', 'correction', 'till', 'the', 'end', 'of', '2023.', 'we', 'think', 'the', 'implied', 'sequential', 'drop', 'in', 'h1', '2023', 'earnings', 'reflects', 'the', 'ongoing', 'decline', 'in', 'maersk', '’', 's', 'contracted', 'rate', 'given', 'that', 'they', 'are', 'being', 'reset', 'to', 'a', 'level', 'nearer', 'to', 'the', 'spot', 'which', 'has', 'fallen', 'sharply', 'since', 'mid-2022.', 'also', ',', 'we', 'gathered', 'that', 'the', 'industry', '’', 's', 'supply', 'of', 'new', 'vessels', 'may', 'increase', 'freight', 'capacity', 'by', '9', '%', 'and', '10', '%', 'in', '2023', 'and', '2024', 'respectively', ',', 'which', 'we', 'think', 'will', 'outgrow', 'demand', 'causing', 'overcapacity', 'and', 'further', 'deterioration', 'in', 'freight', 'rates.', 'uwe', 'forecast', 'eps', 'of', 'usd220', 'for', '2023', 'and', 'usd100', 'for', '2024', 'as', 'we', 'expect', 'a', 'further', 'weakness', 'in', 'freight', 'rates', '.']\n"
     ]
    }
   ],
   "source": [
    "for text in df['Highlights']:\n",
    "    print(text)"
   ]
  },
  {
   "cell_type": "code",
   "execution_count": 18,
   "metadata": {},
   "outputs": [],
   "source": [
    "# DO NOT RUN THIS\n",
    "# Defining a function to remove punc. marks from a list of words \n",
    "\n",
    "import string\n",
    "\n",
    "def remove_punc(tokens):\n",
    "    # Initialize an empty list to store tokens without punctuation:\n",
    "    tokens_without_punc_marks = []\n",
    "\n",
    "    # Create a for loop to iterate through each token in the input list:\n",
    "    for i in tokens:    # i stands for iterator\n",
    "        if i not in string.punctuation: # Checking whether token is NOT a punctuation mark\n",
    "            tokens_without_punc_marks.append(i) # Add token to the list if it is NOT a punc. mark\n",
    "\n",
    "    return tokens_without_punc_marks\n",
    "\n",
    "df['Highlights'] = df['Highlights'].apply(remove_punc)"
   ]
  },
  {
   "cell_type": "code",
   "execution_count": 28,
   "metadata": {},
   "outputs": [],
   "source": [
    "# Doing same task using list comprehension:\n",
    "import string\n",
    "\n",
    "df['Highlights'] = df['Highlights'].apply(lambda tokens: [i for i in tokens if i not in string.punctuation])\n",
    "df['Investment Rationale'] = df['Investment Rationale'].apply(lambda tokens: [i for i in tokens if i not in string.punctuation])\n",
    "df['Industry Outlook'] = df['Industry Outlook'].apply(lambda tokens: [i for i in tokens if i not in string.punctuation])"
   ]
  },
  {
   "cell_type": "markdown",
   "metadata": {},
   "source": [
    "- lambda tokens: [...]: This lambda function takes a list of tokens (named tokens) as input.\n",
    "- [i for i in tokens if i not in string.punc]: This is a list comprehension that iterates over each token (i) in the input list (tokens). For each i (token), it checks if the token is NOT present in the string.punctuation (i.e. it's not a punc mark).\n",
    "- If this condition is true, the token is included in the new list."
   ]
  },
  {
   "cell_type": "code",
   "execution_count": 29,
   "metadata": {},
   "outputs": [
    {
     "name": "stdout",
     "output_type": "stream",
     "text": [
      "Highlights ['highlights', 'umaersk', '’', 's', 'q2', '2023', 'ebitda', 'of', 'usd2.9', 'billion', '72', 'y/y', '-27', 'q/q', 'was', '16', 'above', 'consensus', 'estimate', 'attributed', 'to', 'good', 'cost', 'management', 'instead', 'of', 'strong', 'rates', 'in', 'our', 'view.', 'the', 'fall', 'in', 'earnings', 'was', 'mainly', 'caused', 'by', 'ocean', '-76', 'y/', 'y', '-33', 'q/q', 'on', 'reduced', 'freight', 'rates', '-51', 'y/', 'y', '-15', 'q/q', 'and', 'weaker', 'volumes', '-6', 'y/y', '+7', 'q/q', 'umaersk', 'lifted', 'the', 'bottom', 'end', 'of', 'its', '2023', 'ebitda', 'guidance', 'to', 'usd9.5-usd11.0', 'billion', 'from', 'usd8.0-11.0', 'billion', 'reflecting', 'the', 'stronger', 'h1', '2023', 'results', 'but', 'lowered', 'its', '2023', 'market', 'volume', 'outlook', 'to', '-4.0', 'to', '-1.0', 'previously', '2.5', 'to', '+0.5', 'on', 'continued', 'inventory', 'correction', 'till', 'the', 'end', 'of', '2023.', 'we', 'think', 'the', 'implied', 'sequential', 'drop', 'in', 'h1', '2023', 'earnings', 'reflects', 'the', 'ongoing', 'decline', 'in', 'maersk', '’', 's', 'contracted', 'rate', 'given', 'that', 'they', 'are', 'being', 'reset', 'to', 'a', 'level', 'nearer', 'to', 'the', 'spot', 'which', 'has', 'fallen', 'sharply', 'since', 'mid-2022.', 'also', 'we', 'gathered', 'that', 'the', 'industry', '’', 's', 'supply', 'of', 'new', 'vessels', 'may', 'increase', 'freight', 'capacity', 'by', '9', 'and', '10', 'in', '2023', 'and', '2024', 'respectively', 'which', 'we', 'think', 'will', 'outgrow', 'demand', 'causing', 'overcapacity', 'and', 'further', 'deterioration', 'in', 'freight', 'rates.', 'uwe', 'forecast', 'eps', 'of', 'usd220', 'for', '2023', 'and', 'usd100', 'for', '2024', 'as', 'we', 'expect', 'a', 'further', 'weakness', 'in', 'freight', 'rates']\n",
      "Investment Rationale ['investment', 'rationale/risk', 'uour', 'call', 'is', '2-stars', 'sell', 'we', 'believe', 'maersk', '’', 's', 'near-term', 'financial', 'performance', 'will', 'be', 'vulnerable', 'to', 'lower', 'freight', 'rates', 'which', 'have', 'been', 'on', 'a', 'downward', 'trend', 'due', 'to', 'continuing', 'subdued', 'demand', 'and', 'easing', 'of', 'port', 'congestion', 'which', 'release', 'capacity', 'back', 'into', 'service.', 'furthermore', 'we', 'think', 'the', 'negative', 'feedback', 'loop', 'to', 'freight', 'rates', 'will', 'continue', 'and', 'think', 'its', 'customers', 'may', 'seek', 'renegotiation', 'given', 'the', 'price', 'differential', 'between', 'contract', 'and', 'spot', 'has', 'widened.', 'also', 'the', 'overhang', 'situation', 'may', 'be', 'amplified', 'by', 'the', 'entry', 'of', 'new', 'vessels', 'which', 'are', 'projected', 'to', 'increase', 'the', 'industry', '’', 's', 'supply', 'by', '9', 'and', '10', 'in', '2023', 'and', '2024', 'respectively.', 'nonetheless', 'we', 'are', 'positive', 'about', 'its', 'long-', 'term', 'strategy', 'of', 'growing', 'its', 'non-ocean', 'logistic', 'business', 'to', 'complement', 'its', 'core', 'business', 'with', 'end-to-end', 'solutions.', 'uupside', 'risks', 'include', 'strong', 'economic', 'growth', 'which', 'improves', 'shipping', 'activities', 'a', 'positive', 'reversal', 'in', 'freight', 'rates', 'and', 'effective', 'cost', 'management.', 'uour', '12-month', 'target', 'price', 'for', 'maersk', 'of', 'dkk9,500', 'reflects', 'a', '3.0x', '2024', 'ev/ebitda', 'broadly', 'in', 'line', 'with', 'peer', 'average']\n",
      "Industry Outlook ['industry', 'outlook', 'we', 'maintain', 'our', 'sector', 'recommendation', 'for', 'emea', 'industrial', 'sector', 'at', 'neutral', 'for', 'q4', '2023', 'and', '2024.', 'we', 'believe', 'that', 'the', 'key', 'issue', 'facing', 'the', 'sector', 'is', 'the', 'surge', 'in', 'energy', 'price', 'arising', 'from', 'the', 'concern', 'on', 'potential', 'supply', 'disruption', 'from', 'the', 'middle', 'east.', 'however', 'supply', 'chain', 'disruptions', 'have', 'eased.', 'this', 'could', 'be', 'attributed', 'to', 'slower', 'demand', 'for', 'goods', 'and', 'weak', 'economy', 'growth', 'in', 'china.', 'in', 'the', 'past', '12', 'months', 'the', 'shanghai', 'containerized', 'freight', 'index', 'scfi', 'has', 'declined', 'about', '30', 'to', 'about', '900', 'per', 'teu.', 'this', 'is', 'a', 'signal', 'of', 'weak', 'demand', 'on', 'global', 'movement', 'of', 'cargoes.', 'year', 'to', 'date', 'as', 'of', 'october', '16', '2023', 'the', 'emea', 'industrial', 'index', 'is', 'up', '13.0', 'versus', 'the', 's&p', 'europe', '350', 'index', 'increase', 'of', '10.0', 'however', 'in', 'q3', '2023', 'the', 'emea', 'industrial', 'sector', '’', 's', 'performance', 'was', 'at', '-3.8', 'which', 'is', 'below', 's&p', 'europe', '350', '’', 's', '-1.8', 'the', 'eurozone', '’', 's', 'annual', 'inflation', 'rate', 'dropped', 'to', '4.3', 'in', 'september', 'from', 'august', '’', 's', '5.2', 'we', 'expect', 'lower', 'inflation', 'impact', 'to', 'be', 'positive', 'to', 'industrial', 'sector', 'earnings', 'as', 'it', 'lowers', 'cost', 'and', 'widens', 'operating', 'margin.', 'in', 'q4', '2023', 'industrial', 'players', 'will', 'likely', 'focus', 'on', 'revenue', 'growth', 'via', 'business', 'volume', 'increase', 'instead', 'of', 'average', 'selling', 'price', 'increases.', 'for', 'q4', '2023', 'the', 'outlook', 'should', 'turn', 'more', 'positive', 'as', 'inflation', 'moderates', 'although', 'this', 'is', 'partially', 'caused', 'by', 'a', 'high', 'base', 'case', 'comparison', 'in', 'q4', '2022.', 'however', 'the', 'growth', 'momentum', 'is', 'likely', 'to', 'be', 'slow', 'as', 'the', 'factor', 'of', 'china', 'reopening', 'has', 'so', 'far', 'generated', 'little', 'demand', 'growth.', 'in', 'our', 'view', 'industrial', 'players', 'will', 'shift', 'their', 'focus', 'to', 'grow', 'volume', 'instead', 'of', 'passing', 'on', 'increases', 'in', 'cost', 'as', 'inflation', 'cools', 'down.', 'the', 'eurozone', 'manufacturing', 'pmi', 'for', 'september', 'stands', 'at', '43.4', 'which', 'is', 'little', 'changed', 'compared', 'to', 'the', 'august', 'level', 'of', '43.5.', 'according', 'to', 'our', 'findings', 'contractions', 'in', 'order', 'book', 'and', 'an', 'output', 'decline', 'trend', 'is', 'still', 'ongoing.', 'on', 'the', 'positive', 'side', 'the', 'price', 'of', 'input', 'material', 'has', 'declined', 'and', 'manufacturers', 'are', 'passing', 'the', 'cost', 'savings', 'to', 'their', 'clients.', 'due', 'to', 'the', 'aircraft', 'engine', 'recall', 'issues', 'pw1100g', 'geared', 'turbofan', 'engines', 'we', 'are', 'now', 'neutral', 'on', 'aerospace', '&amp;', 'defense', 'from', 'positive', 'previously.', 'we', 'also', 'lowered', 'our', 'opinion', 'to', 'neutral', 'for', 'airlines.', 'although', 'airlines', 'players', 'will', 'likely', 'benefit', 'from', 'the', 'global', 'aviation', 'sector', 'recovery', 'due', 'to', 'covid-19', 'normalization', 'its', 'margin', 'could', 'be', 'affected', 'by', 'the', 'spike', 'in', 'jet', 'fuel', 'price', 'in', 'line', 'with', 'the', 'higher', 'crude', 'oil', 'price', 'we', 'are', 'positive', 'on', 'the', 'industrial', 'machinery', 'and', 'industrial', 'conglomerates', 'sub-sectors.', 'industrial', 'machinery', 'sub-sector', 'players', 'are', 'the', 'beneficiaries', 'of', 'high', 'demand', 'due', 'to', 'energy', 'efficiency', 'and', 'automation.', 'for', 'industrial', 'conglomerates', 'strong', 'demand', 'for', 'electrification', 'and', 'sustainability', 'services', 'should', 'continue', 'to', 'support', 'revenue', 'growth.', 'the', 'focus', 'for', 'trading', 'companies', 'and', 'distributors', 'will', 'be', 'to', 'reduce', 'the', 'record-high', 'inventory', 'in', 'the', 'near', 'term', 'in', 'our', 'view.', 'this', 'may', 'affect', 'their', 'near-term', 'margin', 'although', 'it', 'could', 'lead', 'to', 'stronger', 'cash', 'flow.', 'for', 'the', 'heavy', 'electrical', 'equipment', 'sub-sector', 'the', 'smoother', 'supply', 'chain', 'should', 'lead', 'to', 'improvement', 'in', 'revenue', 'recognition.', 'however', 'the', 'intense', 'competition', 'should', 'keep', 'the', 'margin', 'upside', 'limited.', 'we', 'are', 'less', 'positive', 'on', 'the', 'building', 'products', 'and', 'construction', 'machinery', '&amp;', 'heavy', 'trucks', 'sub-sectors.', 'we', 'expect', 'the', 'building', 'products', 'sub-sector', '’', 's', 'revenue', 'to', 'be', 'affected', 'by', 'poor', 'demand', 'for', 'property', 'during', 'slow', 'economy', 'growth/recession', 'in', 'europe.', 'for', 'the', 'construction', 'machinery', '&amp;', 'heavy', 'trucks', 'sub-', 'sector', 'slower', 'economy', 'growth/recession', 'in', 'europe', 'should', 'affect', 'construction', 'activity', 'trucks', 'demand', 'and', 'rolling', 'stock.', 'alan', 'lim', 'seong', 'chun', 'cf']\n",
      "\n"
     ]
    }
   ],
   "source": [
    "display(df)"
   ]
  },
  {
   "cell_type": "markdown",
   "metadata": {},
   "source": [
    "Using string.punctuation to remove the punc. marks, results in removal of the following:\n",
    "- (\n",
    "- )\n",
    "- ,\n",
    "- .\n",
    "- '-'\n",
    "- /\n",
    "- %"
   ]
  },
  {
   "cell_type": "markdown",
   "metadata": {},
   "source": [
    "    Removing Stopwords:"
   ]
  },
  {
   "cell_type": "code",
   "execution_count": null,
   "metadata": {},
   "outputs": [],
   "source": [
    "# DO NOT RUN THIS\n",
    "nltk.download('stopwords')\n",
    "stopword_list = nltk.corpus.stopwords.words('english')\n",
    "\n",
    "def remove_stopwords(tokens):\n",
    "    filtered_tokens = []\n",
    "\n",
    "    for i in tokens:\n",
    "        if i not in stopword_list:\n",
    "            filtered_tokens.append(i)\n",
    "    \n",
    "    return filtered_tokens\n",
    "\n",
    "df['Highlights'] = df['Highlights'].apply(remove_stopwords)"
   ]
  },
  {
   "cell_type": "code",
   "execution_count": 29,
   "metadata": {},
   "outputs": [
    {
     "name": "stderr",
     "output_type": "stream",
     "text": [
      "[nltk_data] Downloading package stopwords to\n",
      "[nltk_data]     C:\\Users\\hp\\AppData\\Roaming\\nltk_data...\n",
      "[nltk_data]   Package stopwords is already up-to-date!\n"
     ]
    }
   ],
   "source": [
    "# Doing this using list comprehension:\n",
    "\n",
    "nltk.download('stopwords')\n",
    "stopword_list = nltk.corpus.stopwords.words('english')\n",
    "\n",
    "df['Highlights'] = df['Highlights'].apply(lambda tokens: [i for i in tokens if i not in stopword_list])\n",
    "df['Investment Rationale'] = df['Investment Rationale'].apply(lambda tokens: [i for i in tokens if i not in stopword_list])\n",
    "df['Industry Outlook'] = df['Industry Outlook'].apply(lambda tokens: [i for i in tokens if i not in stopword_list])"
   ]
  },
  {
   "cell_type": "code",
   "execution_count": 31,
   "metadata": {},
   "outputs": [
    {
     "name": "stdout",
     "output_type": "stream",
     "text": [
      "Highlights ['highlights', 'umaersk', '’', 'q2', '2023', 'ebitda', 'usd2.9', 'billion', '72', 'y/y', '-27', 'q/q', '16', 'consensus', 'estimate', 'attributed', 'good', 'cost', 'management', 'instead', 'strong', 'rates', 'view.', 'fall', 'earnings', 'mainly', 'caused', 'ocean', '-76', 'y/', '-33', 'q/q', 'reduced', 'freight', 'rates', '-51', 'y/', '-15', 'q/q', 'weaker', 'volumes', '-6', 'y/y', '+7', 'q/q', 'umaersk', 'lifted', 'bottom', 'end', '2023', 'ebitda', 'guidance', 'usd9.5-usd11.0', 'billion', 'usd8.0-11.0', 'billion', 'reflecting', 'stronger', 'h1', '2023', 'results', 'lowered', '2023', 'market', 'volume', 'outlook', '-4.0', '-1.0', 'previously', '2.5', '+0.5', 'continued', 'inventory', 'correction', 'till', 'end', '2023.', 'think', 'implied', 'sequential', 'drop', 'h1', '2023', 'earnings', 'reflects', 'ongoing', 'decline', 'maersk', '’', 'contracted', 'rate', 'given', 'reset', 'level', 'nearer', 'spot', 'fallen', 'sharply', 'since', 'mid-2022.', 'also', 'gathered', 'industry', '’', 'supply', 'new', 'vessels', 'may', 'increase', 'freight', 'capacity', '9', '10', '2023', '2024', 'respectively', 'think', 'outgrow', 'demand', 'causing', 'overcapacity', 'deterioration', 'freight', 'rates.', 'uwe', 'forecast', 'eps', 'usd220', '2023', 'usd100', '2024', 'expect', 'weakness', 'freight', 'rates']\n",
      "Investment Rationale ['investment', 'rationale/risk', 'uour', 'call', '2-stars', 'sell', 'believe', 'maersk', '’', 'near-term', 'financial', 'performance', 'vulnerable', 'lower', 'freight', 'rates', 'downward', 'trend', 'due', 'continuing', 'subdued', 'demand', 'easing', 'port', 'congestion', 'release', 'capacity', 'back', 'service.', 'furthermore', 'think', 'negative', 'feedback', 'loop', 'freight', 'rates', 'continue', 'think', 'customers', 'may', 'seek', 'renegotiation', 'given', 'price', 'differential', 'contract', 'spot', 'widened.', 'also', 'overhang', 'situation', 'may', 'amplified', 'entry', 'new', 'vessels', 'projected', 'increase', 'industry', '’', 'supply', '9', '10', '2023', '2024', 'respectively.', 'nonetheless', 'positive', 'long-', 'term', 'strategy', 'growing', 'non-ocean', 'logistic', 'business', 'complement', 'core', 'business', 'end-to-end', 'solutions.', 'uupside', 'risks', 'include', 'strong', 'economic', 'growth', 'improves', 'shipping', 'activities', 'positive', 'reversal', 'freight', 'rates', 'effective', 'cost', 'management.', 'uour', '12-month', 'target', 'price', 'maersk', 'dkk9,500', 'reflects', '3.0x', '2024', 'ev/ebitda', 'broadly', 'line', 'peer', 'average']\n",
      "Industry Outlook ['industry', 'outlook', 'maintain', 'sector', 'recommendation', 'emea', 'industrial', 'sector', 'neutral', 'q4', '2023', '2024.', 'believe', 'key', 'issue', 'facing', 'sector', 'surge', 'energy', 'price', 'arising', 'concern', 'potential', 'supply', 'disruption', 'middle', 'east.', 'however', 'supply', 'chain', 'disruptions', 'eased.', 'could', 'attributed', 'slower', 'demand', 'goods', 'weak', 'economy', 'growth', 'china.', 'past', '12', 'months', 'shanghai', 'containerized', 'freight', 'index', 'scfi', 'declined', '30', '900', 'per', 'teu.', 'signal', 'weak', 'demand', 'global', 'movement', 'cargoes.', 'year', 'date', 'october', '16', '2023', 'emea', 'industrial', 'index', '13.0', 'versus', 's&p', 'europe', '350', 'index', 'increase', '10.0', 'however', 'q3', '2023', 'emea', 'industrial', 'sector', '’', 'performance', '-3.8', 's&p', 'europe', '350', '’', '-1.8', 'eurozone', '’', 'annual', 'inflation', 'rate', 'dropped', '4.3', 'september', 'august', '’', '5.2', 'expect', 'lower', 'inflation', 'impact', 'positive', 'industrial', 'sector', 'earnings', 'lowers', 'cost', 'widens', 'operating', 'margin.', 'q4', '2023', 'industrial', 'players', 'likely', 'focus', 'revenue', 'growth', 'via', 'business', 'volume', 'increase', 'instead', 'average', 'selling', 'price', 'increases.', 'q4', '2023', 'outlook', 'turn', 'positive', 'inflation', 'moderates', 'although', 'partially', 'caused', 'high', 'base', 'case', 'comparison', 'q4', '2022.', 'however', 'growth', 'momentum', 'likely', 'slow', 'factor', 'china', 'reopening', 'far', 'generated', 'little', 'demand', 'growth.', 'view', 'industrial', 'players', 'shift', 'focus', 'grow', 'volume', 'instead', 'passing', 'increases', 'cost', 'inflation', 'cools', 'down.', 'eurozone', 'manufacturing', 'pmi', 'september', 'stands', '43.4', 'little', 'changed', 'compared', 'august', 'level', '43.5.', 'according', 'findings', 'contractions', 'order', 'book', 'output', 'decline', 'trend', 'still', 'ongoing.', 'positive', 'side', 'price', 'input', 'material', 'declined', 'manufacturers', 'passing', 'cost', 'savings', 'clients.', 'due', 'aircraft', 'engine', 'recall', 'issues', 'pw1100g', 'geared', 'turbofan', 'engines', 'neutral', 'aerospace', '&amp;', 'defense', 'positive', 'previously.', 'also', 'lowered', 'opinion', 'neutral', 'airlines.', 'although', 'airlines', 'players', 'likely', 'benefit', 'global', 'aviation', 'sector', 'recovery', 'due', 'covid-19', 'normalization', 'margin', 'could', 'affected', 'spike', 'jet', 'fuel', 'price', 'line', 'higher', 'crude', 'oil', 'price', 'positive', 'industrial', 'machinery', 'industrial', 'conglomerates', 'sub-sectors.', 'industrial', 'machinery', 'sub-sector', 'players', 'beneficiaries', 'high', 'demand', 'due', 'energy', 'efficiency', 'automation.', 'industrial', 'conglomerates', 'strong', 'demand', 'electrification', 'sustainability', 'services', 'continue', 'support', 'revenue', 'growth.', 'focus', 'trading', 'companies', 'distributors', 'reduce', 'record-high', 'inventory', 'near', 'term', 'view.', 'may', 'affect', 'near-term', 'margin', 'although', 'could', 'lead', 'stronger', 'cash', 'flow.', 'heavy', 'electrical', 'equipment', 'sub-sector', 'smoother', 'supply', 'chain', 'lead', 'improvement', 'revenue', 'recognition.', 'however', 'intense', 'competition', 'keep', 'margin', 'upside', 'limited.', 'less', 'positive', 'building', 'products', 'construction', 'machinery', '&amp;', 'heavy', 'trucks', 'sub-sectors.', 'expect', 'building', 'products', 'sub-sector', '’', 'revenue', 'affected', 'poor', 'demand', 'property', 'slow', 'economy', 'growth/recession', 'europe.', 'construction', 'machinery', '&amp;', 'heavy', 'trucks', 'sub-', 'sector', 'slower', 'economy', 'growth/recession', 'europe', 'affect', 'construction', 'activity', 'trucks', 'demand', 'rolling', 'stock.', 'alan', 'lim', 'seong', 'chun', 'cf']\n",
      "\n"
     ]
    }
   ],
   "source": [
    "display(df)"
   ]
  },
  {
   "cell_type": "markdown",
   "metadata": {},
   "source": [
    "- Importing stopwords list from NLTK ('stopwords') and download the English stopwords using nltk.download('English')\n",
    "- Using a lambda func and list comprehension to remove stopwords from each i (token) in the text by checking whether the token is not in the set of stopwords (stop_words)."
   ]
  },
  {
   "cell_type": "markdown",
   "metadata": {},
   "source": [
    "Lemmatization:\n",
    "\n",
    "- Lemmatization standardizes words to their base or root forms (lemmas), reducing redundancy and ambiguity in text data.\n",
    "- It reduces the vocabulary size, which can lead to more efficient and accurate NLP models, including sentiment analysis models.\n",
    "- Lemmatization enhances text understanding, improves model performance by handling lexical variations, and ensures compatibility with language-specific rules and morphology."
   ]
  },
  {
   "cell_type": "markdown",
   "metadata": {},
   "source": [
    "Using stemming instead, since it is similar to lemmatization but was used in course."
   ]
  },
  {
   "cell_type": "markdown",
   "metadata": {},
   "source": [
    "     Stemming:"
   ]
  },
  {
   "cell_type": "code",
   "execution_count": null,
   "metadata": {},
   "outputs": [],
   "source": [
    "# DO NOT RUN THIS\n",
    "from nltk.stem import PorterStemmer\n",
    "\n",
    "nltk.download('punkt')\n",
    "nltk.download('stopwords')\n",
    "\n",
    "stemmer = nltk.porter.PorterStemmer()\n",
    "\n",
    "# Without using list comp. (defining a func to perform stemming):\n",
    "def stem_tokens(tokens):\n",
    "    stemmed_tokens = []\n",
    "\n",
    "    for i in tokens:\n",
    "        stemmed_tokens. append(stemmer.stem(i)) # Passing current token to stem it.\n",
    "\n",
    "    return stemmed_tokens\n",
    "\n",
    "df['Highlights'] = df['Highlights'].apply(stem_tokens)"
   ]
  },
  {
   "cell_type": "code",
   "execution_count": 30,
   "metadata": {},
   "outputs": [
    {
     "name": "stderr",
     "output_type": "stream",
     "text": [
      "[nltk_data] Downloading package punkt to\n",
      "[nltk_data]     C:\\Users\\hp\\AppData\\Roaming\\nltk_data...\n",
      "[nltk_data]   Package punkt is already up-to-date!\n",
      "[nltk_data] Downloading package stopwords to\n",
      "[nltk_data]     C:\\Users\\hp\\AppData\\Roaming\\nltk_data...\n",
      "[nltk_data]   Package stopwords is already up-to-date!\n"
     ]
    }
   ],
   "source": [
    "# Using list comprehension to do the same task:\n",
    "from nltk.stem import PorterStemmer\n",
    "\n",
    "nltk.download('punkt')\n",
    "nltk.download('stopwords')\n",
    "\n",
    "stemmer = nltk.porter.PorterStemmer()\n",
    "\n",
    "df['Highlights'] = df['Highlights'].apply(lambda tokens: [stemmer.stem(i) for i in tokens])\n",
    "df['Investment Rationale'] = df['Investment Rationale'].apply(lambda tokens: [stemmer.stem(i) for i in tokens])\n",
    "df['Industry Outlook'] = df['Industry Outlook'].apply(lambda tokens: [stemmer.stem(i) for i in tokens])"
   ]
  },
  {
   "cell_type": "code",
   "execution_count": 33,
   "metadata": {},
   "outputs": [
    {
     "name": "stdout",
     "output_type": "stream",
     "text": [
      "Highlights ['highlight', 'umaersk', '’', 'q2', '2023', 'ebitda', 'usd2.9', 'billion', '72', 'y/i', '-27', 'q/q', '16', 'consensu', 'estim', 'attribut', 'good', 'cost', 'manag', 'instead', 'strong', 'rate', 'view.', 'fall', 'earn', 'mainli', 'caus', 'ocean', '-76', 'y/', '-33', 'q/q', 'reduc', 'freight', 'rate', '-51', 'y/', '-15', 'q/q', 'weaker', 'volum', '-6', 'y/i', '+7', 'q/q', 'umaersk', 'lift', 'bottom', 'end', '2023', 'ebitda', 'guidanc', 'usd9.5-usd11.0', 'billion', 'usd8.0-11.0', 'billion', 'reflect', 'stronger', 'h1', '2023', 'result', 'lower', '2023', 'market', 'volum', 'outlook', '-4.0', '-1.0', 'previous', '2.5', '+0.5', 'continu', 'inventori', 'correct', 'till', 'end', '2023.', 'think', 'impli', 'sequenti', 'drop', 'h1', '2023', 'earn', 'reflect', 'ongo', 'declin', 'maersk', '’', 'contract', 'rate', 'given', 'reset', 'level', 'nearer', 'spot', 'fallen', 'sharpli', 'sinc', 'mid-2022.', 'also', 'gather', 'industri', '’', 'suppli', 'new', 'vessel', 'may', 'increas', 'freight', 'capac', '9', '10', '2023', '2024', 'respect', 'think', 'outgrow', 'demand', 'caus', 'overcapac', 'deterior', 'freight', 'rates.', 'uwe', 'forecast', 'ep', 'usd220', '2023', 'usd100', '2024', 'expect', 'weak', 'freight', 'rate']\n",
      "Investment Rationale ['invest', 'rationale/risk', 'uour', 'call', '2-star', 'sell', 'believ', 'maersk', '’', 'near-term', 'financi', 'perform', 'vulner', 'lower', 'freight', 'rate', 'downward', 'trend', 'due', 'continu', 'subdu', 'demand', 'eas', 'port', 'congest', 'releas', 'capac', 'back', 'service.', 'furthermor', 'think', 'neg', 'feedback', 'loop', 'freight', 'rate', 'continu', 'think', 'custom', 'may', 'seek', 'renegoti', 'given', 'price', 'differenti', 'contract', 'spot', 'widened.', 'also', 'overhang', 'situat', 'may', 'amplifi', 'entri', 'new', 'vessel', 'project', 'increas', 'industri', '’', 'suppli', '9', '10', '2023', '2024', 'respectively.', 'nonetheless', 'posit', 'long-', 'term', 'strategi', 'grow', 'non-ocean', 'logist', 'busi', 'complement', 'core', 'busi', 'end-to-end', 'solutions.', 'uupsid', 'risk', 'includ', 'strong', 'econom', 'growth', 'improv', 'ship', 'activ', 'posit', 'revers', 'freight', 'rate', 'effect', 'cost', 'management.', 'uour', '12-month', 'target', 'price', 'maersk', 'dkk9,500', 'reflect', '3.0x', '2024', 'ev/ebitda', 'broadli', 'line', 'peer', 'averag']\n",
      "Industry Outlook ['industri', 'outlook', 'maintain', 'sector', 'recommend', 'emea', 'industri', 'sector', 'neutral', 'q4', '2023', '2024.', 'believ', 'key', 'issu', 'face', 'sector', 'surg', 'energi', 'price', 'aris', 'concern', 'potenti', 'suppli', 'disrupt', 'middl', 'east.', 'howev', 'suppli', 'chain', 'disrupt', 'eased.', 'could', 'attribut', 'slower', 'demand', 'good', 'weak', 'economi', 'growth', 'china.', 'past', '12', 'month', 'shanghai', 'container', 'freight', 'index', 'scfi', 'declin', '30', '900', 'per', 'teu.', 'signal', 'weak', 'demand', 'global', 'movement', 'cargoes.', 'year', 'date', 'octob', '16', '2023', 'emea', 'industri', 'index', '13.0', 'versu', 's&p', 'europ', '350', 'index', 'increas', '10.0', 'howev', 'q3', '2023', 'emea', 'industri', 'sector', '’', 'perform', '-3.8', 's&p', 'europ', '350', '’', '-1.8', 'eurozon', '’', 'annual', 'inflat', 'rate', 'drop', '4.3', 'septemb', 'august', '’', '5.2', 'expect', 'lower', 'inflat', 'impact', 'posit', 'industri', 'sector', 'earn', 'lower', 'cost', 'widen', 'oper', 'margin.', 'q4', '2023', 'industri', 'player', 'like', 'focu', 'revenu', 'growth', 'via', 'busi', 'volum', 'increas', 'instead', 'averag', 'sell', 'price', 'increases.', 'q4', '2023', 'outlook', 'turn', 'posit', 'inflat', 'moder', 'although', 'partial', 'caus', 'high', 'base', 'case', 'comparison', 'q4', '2022.', 'howev', 'growth', 'momentum', 'like', 'slow', 'factor', 'china', 'reopen', 'far', 'gener', 'littl', 'demand', 'growth.', 'view', 'industri', 'player', 'shift', 'focu', 'grow', 'volum', 'instead', 'pass', 'increas', 'cost', 'inflat', 'cool', 'down.', 'eurozon', 'manufactur', 'pmi', 'septemb', 'stand', '43.4', 'littl', 'chang', 'compar', 'august', 'level', '43.5.', 'accord', 'find', 'contract', 'order', 'book', 'output', 'declin', 'trend', 'still', 'ongoing.', 'posit', 'side', 'price', 'input', 'materi', 'declin', 'manufactur', 'pass', 'cost', 'save', 'clients.', 'due', 'aircraft', 'engin', 'recal', 'issu', 'pw1100g', 'gear', 'turbofan', 'engin', 'neutral', 'aerospac', '&amp;', 'defens', 'posit', 'previously.', 'also', 'lower', 'opinion', 'neutral', 'airlines.', 'although', 'airlin', 'player', 'like', 'benefit', 'global', 'aviat', 'sector', 'recoveri', 'due', 'covid-19', 'normal', 'margin', 'could', 'affect', 'spike', 'jet', 'fuel', 'price', 'line', 'higher', 'crude', 'oil', 'price', 'posit', 'industri', 'machineri', 'industri', 'conglomer', 'sub-sectors.', 'industri', 'machineri', 'sub-sector', 'player', 'beneficiari', 'high', 'demand', 'due', 'energi', 'effici', 'automation.', 'industri', 'conglomer', 'strong', 'demand', 'electrif', 'sustain', 'servic', 'continu', 'support', 'revenu', 'growth.', 'focu', 'trade', 'compani', 'distributor', 'reduc', 'record-high', 'inventori', 'near', 'term', 'view.', 'may', 'affect', 'near-term', 'margin', 'although', 'could', 'lead', 'stronger', 'cash', 'flow.', 'heavi', 'electr', 'equip', 'sub-sector', 'smoother', 'suppli', 'chain', 'lead', 'improv', 'revenu', 'recognition.', 'howev', 'intens', 'competit', 'keep', 'margin', 'upsid', 'limited.', 'less', 'posit', 'build', 'product', 'construct', 'machineri', '&amp;', 'heavi', 'truck', 'sub-sectors.', 'expect', 'build', 'product', 'sub-sector', '’', 'revenu', 'affect', 'poor', 'demand', 'properti', 'slow', 'economi', 'growth/recess', 'europe.', 'construct', 'machineri', '&amp;', 'heavi', 'truck', 'sub-', 'sector', 'slower', 'economi', 'growth/recess', 'europ', 'affect', 'construct', 'activ', 'truck', 'demand', 'roll', 'stock.', 'alan', 'lim', 'seong', 'chun', 'cf']\n",
      "\n"
     ]
    }
   ],
   "source": [
    "display(df)"
   ]
  },
  {
   "cell_type": "markdown",
   "metadata": {},
   "source": [
    "    Removal of non-alphabetic tokens:"
   ]
  },
  {
   "cell_type": "code",
   "execution_count": null,
   "metadata": {},
   "outputs": [],
   "source": [
    "# DO NOT RUN THIS\n",
    "# Without using list comp.\n",
    "\n",
    "def remove_nums(tokens):\n",
    "    alphabetic_tokens = []  # empty list to store alphabetic tokens only!\n",
    "\n",
    "    for i in tokens:\n",
    "        if i.isalpha(): # checks if the token contains only alphabetic characters.\n",
    "            alphabetic_tokens.append(i)\n",
    "    \n",
    "    return alphabetic_tokens\n",
    "\n",
    "df['Highlights'] = df['Highlights'].apply(remove_nums)"
   ]
  },
  {
   "cell_type": "code",
   "execution_count": 31,
   "metadata": {},
   "outputs": [],
   "source": [
    "# Code to use list comprehension and perform same task as done above:\n",
    "\n",
    "df['Highlights'] = df['Highlights'].apply(lambda tokens: [i for i in tokens if i.isalpha()])\n",
    "df['Investment Rationale'] = df['Investment Rationale'].apply(lambda tokens: [i for i in tokens if i.isalpha()])\n",
    "df['Industry Outlook'] = df['Industry Outlook'].apply(lambda tokens: [i for i in tokens if i.isalpha()])"
   ]
  },
  {
   "cell_type": "code",
   "execution_count": 32,
   "metadata": {},
   "outputs": [
    {
     "name": "stdout",
     "output_type": "stream",
     "text": [
      "Highlights ['highlight', 'maersk', 'ebitda', 'billion', 'consensu', 'estim', 'attribut', 'good', 'cost', 'manag', 'instead', 'strong', 'rate', 'fall', 'earn', 'mainli', 'caus', 'ocean', 'reduc', 'freight', 'rate', 'weaker', 'volum', 'maersk', 'lift', 'bottom', 'end', 'ebitda', 'guidanc', 'billion', 'billion', 'reflect', 'stronger', 'result', 'lower', 'market', 'volum', 'outlook', 'previous', 'continu', 'inventori', 'correct', 'till', 'end', 'think', 'impli', 'sequenti', 'drop', 'earn', 'reflect', 'ongo', 'declin', 'maersk', 'contract', 'rate', 'given', 'reset', 'level', 'nearer', 'spot', 'fallen', 'sharpli', 'sinc', 'also', 'gather', 'industri', 'suppli', 'new', 'vessel', 'may', 'increas', 'freight', 'capac', 'respect', 'think', 'outgrow', 'demand', 'caus', 'overcapac', 'deterior', 'freight', 'forecast', 'ep', 'expect', 'weak', 'freight', 'rate']\n",
      "Investment Rationale ['invest', 'call', 'sell', 'believ', 'maersk', 'financi', 'perform', 'vulner', 'lower', 'freight', 'rate', 'downward', 'trend', 'due', 'continu', 'subdu', 'demand', 'eas', 'port', 'congest', 'releas', 'capac', 'back', 'furthermor', 'think', 'neg', 'feedback', 'loop', 'freight', 'rate', 'continu', 'think', 'custom', 'may', 'seek', 'renegoti', 'given', 'price', 'differenti', 'contract', 'spot', 'also', 'overhang', 'situat', 'may', 'amplifi', 'entri', 'new', 'vessel', 'project', 'increas', 'industri', 'suppli', 'nonetheless', 'posit', 'term', 'strategi', 'grow', 'logist', 'busi', 'complement', 'core', 'busi', 'upsid', 'risk', 'includ', 'strong', 'econom', 'growth', 'improv', 'ship', 'activ', 'posit', 'revers', 'freight', 'rate', 'effect', 'cost', 'target', 'price', 'maersk', 'reflect', 'broadli', 'line', 'peer', 'averag']\n",
      "Industry Outlook ['industri', 'outlook', 'maintain', 'sector', 'recommend', 'emea', 'industri', 'sector', 'neutral', 'believ', 'key', 'issu', 'face', 'sector', 'surg', 'energi', 'price', 'aris', 'concern', 'potenti', 'suppli', 'disrupt', 'middl', 'howev', 'suppli', 'chain', 'disrupt', 'could', 'attribut', 'slower', 'demand', 'good', 'weak', 'economi', 'growth', 'past', 'month', 'shanghai', 'container', 'freight', 'index', 'scfi', 'declin', 'per', 'signal', 'weak', 'demand', 'global', 'movement', 'year', 'date', 'octob', 'emea', 'industri', 'index', 'p', 'versu', 'europ', 'index', 'increas', 'howev', 'emea', 'industri', 'sector', 'perform', 'europ', 'eurozon', 'annual', 'inflat', 'rate', 'drop', 'septemb', 'august', 'expect', 'lower', 'inflat', 'impact', 'posit', 'industri', 'sector', 'earn', 'lower', 'cost', 'widen', 'oper', 'industri', 'player', 'like', 'focu', 'revenu', 'growth', 'via', 'busi', 'volum', 'increas', 'instead', 'averag', 'sell', 'price', 'outlook', 'turn', 'posit', 'inflat', 'moder', 'although', 'partial', 'caus', 'high', 'base', 'case', 'comparison', 'howev', 'growth', 'momentum', 'like', 'slow', 'factor', 'china', 'reopen', 'far', 'gener', 'littl', 'demand', 'view', 'industri', 'player', 'shift', 'focu', 'grow', 'volum', 'instead', 'pass', 'increas', 'cost', 'inflat', 'cool', 'eurozon', 'manufactur', 'pmi', 'septemb', 'stand', 'littl', 'chang', 'compar', 'august', 'level', 'accord', 'find', 'contract', 'order', 'book', 'output', 'declin', 'trend', 'still', 'posit', 'side', 'price', 'input', 'materi', 'declin', 'manufactur', 'pass', 'cost', 'save', 'due', 'aircraft', 'engin', 'recal', 'issu', 'gear', 'turbofan', 'engin', 'neutral', 'aerospac', 'defens', 'posit', 'also', 'lower', 'opinion', 'neutral', 'although', 'airlin', 'player', 'like', 'benefit', 'global', 'aviat', 'sector', 'recoveri', 'due', 'normal', 'margin', 'could', 'affect', 'spike', 'jet', 'fuel', 'price', 'line', 'higher', 'crude', 'oil', 'price', 'posit', 'industri', 'machineri', 'industri', 'conglomer', 'industri', 'machineri', 'player', 'beneficiari', 'high', 'demand', 'due', 'energi', 'effici', 'industri', 'conglomer', 'strong', 'demand', 'electrif', 'sustain', 'servic', 'continu', 'support', 'revenu', 'focu', 'trade', 'compani', 'distributor', 'reduc', 'inventori', 'near', 'term', 'may', 'affect', 'margin', 'although', 'could', 'lead', 'stronger', 'cash', 'heavi', 'electr', 'equip', 'smoother', 'suppli', 'chain', 'lead', 'improv', 'revenu', 'howev', 'intens', 'competit', 'keep', 'margin', 'pside', 'less', 'posit', 'build', 'product', 'construct', 'machineri', 'heavi', 'truck', 'expect', 'build', 'product', 'revenu', 'affect', 'poor', 'demand', 'properti', 'slow', 'economi', 'construct', 'machineri', 'heavi', 'truck', 'sector', 'slower', 'economi', 'europ', 'affect', 'construct', 'activ', 'truck', 'demand', 'roll', 'alan', 'lim', 'seong', 'chun', 'cf']\n",
      "\n"
     ]
    }
   ],
   "source": [
    "display(df)"
   ]
  },
  {
   "cell_type": "code",
   "execution_count": 33,
   "metadata": {},
   "outputs": [],
   "source": [
    "csv_path = r'C:\\Users\\hp\\Desktop\\preply\\lars\\project\\module 2\\preprocessed_data.csv'\n",
    "\n",
    "df.to_csv(csv_path, index=False)"
   ]
  }
 ],
 "metadata": {
  "kernelspec": {
   "display_name": "Python 3",
   "language": "python",
   "name": "python3"
  },
  "language_info": {
   "codemirror_mode": {
    "name": "ipython",
    "version": 3
   },
   "file_extension": ".py",
   "mimetype": "text/x-python",
   "name": "python",
   "nbconvert_exporter": "python",
   "pygments_lexer": "ipython3",
   "version": "3.11.0"
  }
 },
 "nbformat": 4,
 "nbformat_minor": 2
}
