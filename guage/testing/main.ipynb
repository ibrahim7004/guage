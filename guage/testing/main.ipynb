{
 "cells": [
  {
   "cell_type": "code",
   "execution_count": 3,
   "metadata": {},
   "outputs": [
    {
     "name": "stdout",
     "output_type": "stream",
     "text": [
      "WARNING:tensorflow:From c:\\Users\\hp\\AppData\\Local\\Programs\\Python\\Python311\\Lib\\site-packages\\tf_keras\\src\\losses.py:2976: The name tf.losses.sparse_softmax_cross_entropy is deprecated. Please use tf.compat.v1.losses.sparse_softmax_cross_entropy instead.\n",
      "\n"
     ]
    }
   ],
   "source": [
    "import transformers\n",
    "from transformers import DistilBertTokenizer\n",
    "from transformers import TFDistilBertForSequenceClassification\n",
    "from transformers import TextClassificationPipeline\n",
    "\n",
    "import tensorflow as tf\n",
    "import pandas as pd\n",
    "import json\n",
    "import gc\n",
    "from sklearn.model_selection import train_test_split\n",
    "\n",
    "from tqdm import tqdm"
   ]
  },
  {
   "cell_type": "code",
   "execution_count": 4,
   "metadata": {},
   "outputs": [],
   "source": [
    "import pandas as pd\n",
    "\n",
    "df = pd.read_csv(r'C:\\Users\\hp\\Desktop\\sem6\\PL Lab\\leb11-OEL\\app\\train_data.csv')"
   ]
  },
  {
   "cell_type": "code",
   "execution_count": 5,
   "metadata": {},
   "outputs": [
    {
     "data": {
      "text/html": [
       "<div>\n",
       "<style scoped>\n",
       "    .dataframe tbody tr th:only-of-type {\n",
       "        vertical-align: middle;\n",
       "    }\n",
       "\n",
       "    .dataframe tbody tr th {\n",
       "        vertical-align: top;\n",
       "    }\n",
       "\n",
       "    .dataframe thead th {\n",
       "        text-align: right;\n",
       "    }\n",
       "</style>\n",
       "<table border=\"1\" class=\"dataframe\">\n",
       "  <thead>\n",
       "    <tr style=\"text-align: right;\">\n",
       "      <th></th>\n",
       "      <th>sentence</th>\n",
       "      <th>label</th>\n",
       "      <th>encoded_text</th>\n",
       "    </tr>\n",
       "  </thead>\n",
       "  <tbody>\n",
       "    <tr>\n",
       "      <th>0</th>\n",
       "      <td>Highlights\\nuMaersk’s Q2 2023 EBITDA of USD2.9...</td>\n",
       "      <td>negative</td>\n",
       "      <td>0</td>\n",
       "    </tr>\n",
       "    <tr>\n",
       "      <th>1</th>\n",
       "      <td>Highlights\\nuWe expect 2023 total sales to con...</td>\n",
       "      <td>positive</td>\n",
       "      <td>1</td>\n",
       "    </tr>\n",
       "    <tr>\n",
       "      <th>2</th>\n",
       "      <td>Highlights\\nuIn 2023, we expect revenue growth...</td>\n",
       "      <td>positive</td>\n",
       "      <td>1</td>\n",
       "    </tr>\n",
       "    <tr>\n",
       "      <th>3</th>\n",
       "      <td>Highlights\\nuTight supply conditions hurt AEIS...</td>\n",
       "      <td>positive</td>\n",
       "      <td>1</td>\n",
       "    </tr>\n",
       "    <tr>\n",
       "      <th>4</th>\n",
       "      <td>Highlights\\nuAena’s Q2 2023 EPS of EUR3.16 bea...</td>\n",
       "      <td>positive</td>\n",
       "      <td>1</td>\n",
       "    </tr>\n",
       "  </tbody>\n",
       "</table>\n",
       "</div>"
      ],
      "text/plain": [
       "                                            sentence     label  encoded_text\n",
       "0  Highlights\\nuMaersk’s Q2 2023 EBITDA of USD2.9...  negative             0\n",
       "1  Highlights\\nuWe expect 2023 total sales to con...  positive             1\n",
       "2  Highlights\\nuIn 2023, we expect revenue growth...  positive             1\n",
       "3  Highlights\\nuTight supply conditions hurt AEIS...  positive             1\n",
       "4  Highlights\\nuAena’s Q2 2023 EPS of EUR3.16 bea...  positive             1"
      ]
     },
     "execution_count": 5,
     "metadata": {},
     "output_type": "execute_result"
    }
   ],
   "source": [
    "df['encoded_text'] = df['label'].astype('category').cat.codes\n",
    "df.head()"
   ]
  },
  {
   "cell_type": "code",
   "execution_count": 6,
   "metadata": {},
   "outputs": [],
   "source": [
    "data_texts = df['sentence'].to_list()\n",
    "data_labels = df['encoded_text'].to_list()"
   ]
  },
  {
   "cell_type": "code",
   "execution_count": 7,
   "metadata": {},
   "outputs": [
    {
     "name": "stdout",
     "output_type": "stream",
     "text": [
      "[0, 1, 1, 1, 1, 1, 0, 1, 1, 1, 0, 1, 1, 1, 1, 1, 0, 1, 1, 0, 1, 1, 0, 0, 1, 1, 1, 1, 0, 1, 1, 0, 1, 0, 1, 1, 1, 0, 0, 1, 1, 1]\n"
     ]
    }
   ],
   "source": [
    "print(data_labels)"
   ]
  },
  {
   "cell_type": "code",
   "execution_count": 8,
   "metadata": {},
   "outputs": [
    {
     "name": "stdout",
     "output_type": "stream",
     "text": [
      "['Highlights\\nuMaersk’s Q2 2023 EBITDA of USD2.9 billion (-\\n72% Y/Y; -27% Q/Q) was 16% above consensus \\nestimate, attributed to good cost management \\ninstead of strong rates, in our view. The fall in \\nearnings was mainly caused by Ocean (-76% Y/\\nY; -33% Q/Q) on reduced freight rates (-51% Y/\\nY; -15% Q/Q) and weaker volumes (-6% Y/Y; \\n+7% Q/Q). \\nuMaersk lifted the bottom end of its 2023 EBITDA \\nguidance to USD9.5-USD11.0 billion from \\nUSD8.0-11.0 billion reflecting the stronger H1 \\n2023 results but lowered its 2023 market \\nvolume outlook to -4.0% to -1.0% (previously -\\n2.5% to +0.5%) on continued inventory \\ncorrection till the end of 2023. We think the \\nimplied sequential drop in H1 2023 earnings \\nreflects the ongoing decline in Maersk’s \\ncontracted rate given that they are being reset \\nto a level nearer to the spot which has fallen \\nsharply since mid-2022. Also, we gathered that \\nthe industry’s supply of new vessels may \\nincrease freight capacity by 9% and 10% in \\n2023 and 2024 respectively, which we think will \\noutgrow demand causing overcapacity and \\nfurther deterioration in freight rates.\\nuWe forecast EPS of USD220 for 2023 and \\nUSD100 for 2024 as we expect a further \\nweakness in freight rates.', 'Highlights\\nuWe expect 2023 total sales to contract 9%  to \\n$39.6 billion, following growth of 1% in 2022. \\nSales in 2021 saw a huge boost from the surge \\nin demand for Covid-19 tests, which brought in \\nrevenue of approximately $7.7 billion for ABT, or \\n18% of total sales. We expect Covid-19 sales \\nwill drop to $1.4 billion in 2023 (vs. $8.4 billion \\nin 2022), as demand wanes following the end of \\nthe public health emergency.   We see total sales \\nreturning to 5% growth in 2024 with \\nacceleration in key franchises such as Alinity \\n(Diagnostic systems), Freestyle Libre \\n(Diabetes), and MitraClip (Heart).\\nuThe pandemic upset ABT’s high growth \\nsegments: medical devices and non-Covid-19 \\ndiagnostics. In  2023,   we anticipate continued \\nrecovery in physician visits and elective \\nprocedure volumes driving growth in ABT’s non-\\nCovid-19-related businesses, allowing ABT to \\nlimit its sales decline as Covid-19 testing \\ndemand tapers. Stripping the impacts of Covid-\\n19 sales and FX, we forecast 2023 organic sales \\ngrowth  in the high-single digits.\\nuWe forecast a 18% Y/Y EPS drop for ABT in \\n2023, but see record EPS of $5.58 by 2026 as \\nABT’s stand-out glucose monitoring technology \\n(Freestyle Libre) gains market share.', 'Highlights\\nuIn 2023, we expect revenue growth of about \\n$53.2 billion, a decrease of 8.4% Y/Y, as the \\nanticipated decline in Humira sales is partially \\noffset by fast-growing immunology drugs \\nSkyrizi and Rinvoq. The 2020 acquisition of the \\nformer Allergan also brought in significant \\ngrowth contributors in medical aesthetics and \\nneuroscience areas. These latter areas \\ncontributed almost $12 billion in revenues in \\n2022. \\nuABBV’s revenues have historically been largely \\ntied to sales of its blockbuster drug, Humira, \\nwhich began to experience biosimilar \\ncompetition outside of the U.S. (OUS) in October \\n2018. In 2022, U.S. Humira sales grew 7.4% \\nversus 2021, while OUS sales of Humira \\ndeclined 22%. In 2023, we expect overall Humira \\nsales to drop 32% Y/Y.\\nuAt the end of March 2023, ABBV had net debt of \\n$55.8 billion (a decline of $12 billion since the \\nend of 2021). In February 2023, ABBV guided to \\na 2023 debt reduction of $4 billion. We note \\nthat 12 months ago, in February 2022, ABBV \\nhad guided to debt reduction of $12 billion in \\n2022, which it successfully achieved. Even with \\nlikely reduced earnings in 2023, we think the \\ncurrent goal on debt reduction is achievable.', 'Highlights\\nuTight supply conditions hurt AEIS’s ability to \\ncapitalize on record end market demand in  \\n2022, but now some key markets have slowed \\ncoming into 2023 (e.g., Semiconductor \\nEquipment, Data Center Computing, and \\nTelecom/Networking). We expect revenues to \\ndecline 8% in 2023 and  rise 8% in 2024, \\nassuming AEIS can work through extended lead \\ntimes and chip away at an elevated backlog of \\n$645M exiting Q2 due to the downturn in the \\nsemi equipment market.\\nuWe estimate AEIS will post a gross margin of \\n37%-38.5% for 2023-2024, vs. 37% in 2022, as \\nsupply chain constraints begin to subside, \\nlowering input costs, and new industrial and \\nmedical design wins come online. We forecast \\nan EBIT margin of 12%-14.5% for 2023-2024, \\nat continued compressed levels due to lower \\nvolumes and manufacturing ramps inside of \\n2023, down from 16.2% in 2022.\\nuAEIS’s balance sheet is in a good spot, with \\n$455M in cash, net debt of $11M, and low \\nleverage (debt-to-EBITDA of 1.5x). AEIS has no \\ndebt maturities in NTM. We advise investors to \\nkeep an eye on inventory turnover levels (2.7x in \\nQ2 vs. 3.1x in Q1), within historical  range, a \\npossible sign AEIS  is better sourcing raw \\nmaterials to meet future demand.', 'Highlights\\nuAena’s Q2 2023 EPS of EUR3.16 beat consensus \\nestimates by 19%. The result was buoyed by \\nimproved passenger traffic in Q2 2023 \\n(particularly April and May), which brought H1 \\n2023 volume to 144.1 million passengers \\n(+23% Y/Y), exceeding the 2019 level by 0.5%.  \\nH1 2023 revenue jumped to EUR2.33 billion \\n(+24% Y/Y) and EBITDA surged to EUR1.17 \\nbillion (+49% Y/Y) thanks to the strong traffic \\nimprovement alongside robust commercial \\nactivities (higher passenger expenditure and \\nrents revenue). Consequently, H1 2023 cash \\nfrom operating activities improved to EUR1.05 \\nbillion (+34% Y/Y).\\nuWe project 13% Y/Y growth in 2023 revenue, \\nwhich is in line with Aena’s 2023 passenger \\ntraffic estimate of being between 94% to 104% \\nof the figures in 2019. Given Aena’s airports \\nhave a higher composition of leisure travelers, \\nwe believe our projection is reasonable as we \\nthink recovery of air travel from China’s \\nreopening will add to the traffic recovery \\nregistered by Aena in 2022. Therefore, we see \\ncontinued strength in 2023 across both \\naeronautical and international activities.\\nuWe estimate EPS of EUR8.70 for 2023 and \\nEUR9.50 for 2024, which reflects a further \\nimprovement from EPS of 6.01 in 2022.', \"Highlights\\nu Q2 sales increased 18% Y/Y (6% organically) on \\npositive price realization and strong growth in \\nelectronics (both residential and \\nnonresidential), partially offset by lower volumes \\nin the mechanical portfolio.We think ALLE will \\nsee continued strong demand in its electronics \\nbusiness in both residential and nonresidential, \\nwith resilience in nonresidential coming from \\nhealth care and education, and expect ALLE's \\nmechanical portfolio to show continued \\nweakness. We also believe the worst of the \\nresidential headwinds are over, with new \\nhousing starts increasing Y/Y in May, the first Y/\\nY increase since April 2022. We see 2023 and \\n2024 sales rising 12.5% and 3%, respectively.\\nuQ2 adjusted EBIT margin expanded 230 bps Y/Y \\non strong pricing and positive productivity net \\nof inflation and investments. We see EBIT \\nmargin expanding in 2023 with high volumes \\nand strong pricing. We forecast 2023 and 2024 \\nEBIT margin to expand 192 bps and 80 bps, \\nrespectively.\\nuWe forecast 2023 and 2024 EPS to rise 18% \\nand 6%, respectively. We estimate share \\nbuybacks of about 1.3M shares in 2023 and 1M \\nin 2024, and note that ALLE has a steady \\ndividend of 1.4% to our 12-month target.\", 'Highlights\\nuAmadeus (AMS) delivered a strong performance \\nfor H1 2023, in line with consensus \\nexpectations amid the continued strengthening \\nof the travel industry, in our view. AMS reported \\nrevenue of EUR2.7 bln (+28% Y/Y), driven by \\n~20-30% broad-based growth in all operating \\nsegments. This was led by Air Distribution \\nrevenues, which grew by 31% on the back of a \\n17% growth in bookings and an expansion in \\naverage revenue per booking, followed by Air IT \\nSolutions growing by 26% Y/Y, driven by \\npassengers boarded evolution which increased \\n36.8%. Lastly, Hospitality & Other Solutions \\ngrew 23.6% from volume growth. We expect the \\ncontinued recovery of air travel to drive \\nperformance in 2023 and forecast revenue to \\ngrow by ~21%, within management guidance of \\n20%- 22.5%. \\nuAMS’s EBITDA grew to EUR1.0 bln, from higher \\ncontributions which offset the rise in costs. This \\ntranslates to a margin of 38.9% (+360 bps Y/Y), \\njust slightly below our expectation of ~40% for \\n2023. \\nuWe maintain our EPS forecast for 2023 of \\nEUR2.30 and for 2024 of EUR2.75.', 'Highlights\\nuWe forecast 11% revenue growth in 2023, up \\nfrom 9% in 2022, broken down as such: first-\\nparty online sales (+4%); physical stores (+5%); \\nthird-party seller services (+19%); subscription \\nservices (+12%); advertising (+23%); and AWS \\n(+14%). On the bottom line, we forecast $28.9B \\nof operating income in 2023 vs. $12.2B in 2022, \\nwith operating margins expanding to 5.1% vs. \\n2.4% in 2022.\\nuIn e-commerce, AMZN is making major strides \\nin lowering its cost to serve, while also \\nincreasing Prime delivery speeds. In advertising, \\nAMZN is capturing more digital-ad share, and \\nwe see this business growing from $38B in \\n2022 to $56B by 2024. In AWS, we believe \\ngrowth troughed in 2Q 2023 at 12%, as we \\nforecast modest acceleration in 2H 2023 and \\nstronger growth in 2024 (+19%), partly driven \\nby new opportunities in generative AI, machine \\nlearning, and large language models.\\nuFree cash flow on a trailing 12-month basis \\nturned positive in 2Q 2023. We see AMZN driving \\nlong-term sustainable free cash flows, driven by \\noperating profit improvement, improvements in \\nworking capital, and lower capex. We note capex \\ngrew at a 48% CAGR between 2018 and 2022. In \\n2023, AMZN plans to cut back on fulfillment and \\ntransportation capex.', 'Highlights\\nuFollowing 25% revenue growth in 2022, we \\nestimate total revenue growth of 14%-16% in \\n2023. Historically, growth has been slow for AXP \\nwith revenue compounding at under 2% a year \\nfrom 2011-2020. However, AXP’s products have \\nbegun to resonate with Millennial/Gen Z \\ncustomers and AXP has been able to acquire \\nnew card holders at an accelerated rate. In Q2 \\n2023, revenue growth decelerated to 12% as \\ndiscount revenue (56% of revenue) grew just \\n8% given a slowdown in consumer spending. \\nuStrength was seen in net interest income \\n(+32% and 21% of revenue) as results \\nbenefited from strong loan growth and net \\ninterest yield expansion. Net card fees grew \\n21% in the second quarter and have risen to \\n12% of total revenue vs. 8.5% in 2018. We view \\ncard fees as a differentiator for AXP as they \\ncontinue to be a consistent revenue driver with \\nunimpeded double-digit growth in each of the \\nlast 20 quarters. \\nuTotal Network volume growth slowed to 9% from \\n16% last quarter. Positively, AXP has responded \\nto slowing spending trends with prudent \\nexpense management and we note marketing \\nspend fell 6% Y/Y. In Q2, net charge-offs (NCOs) \\ncame it at 2.1% vs. 1.1% in the prior year and \\npre-pandemic average of 2.4%-2.8%.', 'Highlights\\nuWe forecast operating revenue growth of \\nbetween 7% and 12% in 2023 and between 7% \\nand 10% in 2024. During  2022, AMP posted a \\n2% decline in adjusted operating revenues \\n(lagging our forecast of a 3% to 6% rise), as a \\n5% rise in Wealth Management revenues was \\noffset by a 26% drop in Asset Management \\nrevenues and flat Retirement & Protection \\nrevenues. Margins were aided by  well-contained  \\noperating costs. We expect growth in 2023 to \\nremain pressured by mixed market \\nperformance, which is masking some decent \\ngrowth trends in AMP’s wealth management \\nunit. \\nuWe forecast adjusted EBIT margins of about \\n29% to 31% in 2023, versus 29.9% reported in \\nthe fourth quarter of 2022 (that was an \\nimprovement over 2021’s 22.3%).  This follows a \\nmulti-year period of mixed margin trends, \\nbeginning in 2014, when EBIT margins were \\n29.4% and steadily declined to 26.4% in 2015, \\nand to 21.3% in 2016, before climbing again to \\n25.7% in 2017 and 27.2% in 2018, and declining \\nto 23.6% in 2019. \\nuWe expect a share buyback program will reduce \\nthe net share count by over 5% annually, \\nproducing operating EPS of $30.30 in 2023 and \\nrising to $33.15 in 2024, and to $36.60 in 2025.', \"Highlights\\nuWe forecast revenue growth of 5% in 2023 and \\n6% in 2024, after increasing by 6.4% in 2022 \\nand 15.8% in 2021. The reopening of on-\\npremise bars and restaurants as Covid-19 \\nrestrictions were lifted was a strong top-line \\ntailwind in both 2021 and 2022. ABI’s worldwide \\nvolume growth totaled just 2.3% in 2022 (beer \\nvolume was +1.8% and non-beer volume was \\n+5.2%) after a 9.6% increase in 2021 due to the \\nwaning of the reopening “boom.” Like many \\nbeverage companies, ABI has leveraged the \\nvalue of its brands to pass through higher costs \\nto consumers in the form of price increases in \\nrecent quarters. We think concerns about the \\nrecent consumer backlash over the Bud Light \\nbrand are overblown, considering the company's \\nglobal portfolio of over 500 beer brands.\\nuWe expect the gross margin to contract slightly \\nin 2023 from last year’s level of 54.5%. ABI’s \\ngross margins contracted 300 bps to 54.5% in \\n2022 due to inflationary pressures on \\ningredients and packaging. In particular, \\nRussia’s invasion of Ukraine beginning in \\nFebruary 2022 caused a surge in the cost of \\nbarley and hops.\\nuWe forecast adjusted EPS of $3.10 for 2023 and \\n$3.60 for 2024, up from $3.07 in 2022 and \\n$2.85 in 2021, primarily due to higher prices.\", 'Highlights\\nuFollowing a 17% increase in segment revenues \\nin 2022 (in line with our forecasted 15%-20% \\nrise), we predict segment revenue growth of \\nbetween 12% and 17% in 2023 and 2024  on \\nmore muted market performance expectations, \\naided by strong asset inflows. Revenue growth \\nin 2022 was partly supported by the January \\n2022 acquisition of approximately 65% of \\nAthene Holding Ltd. (ATH) that APO did not \\nalready own. We expect this $11 billion \\nacquisition to be accretive.\\nuAssets under management (AUM) as of June 30, \\n2023 equaled $617 billion, up 20% year-over-\\nyear; 73% was in yield generating assets, 10% \\nin hybrid assets, and 17% in equity assets. Fee-\\ngenerating AUM totaled $462 billion as of June \\n30, 2023, up 21% from a year earlier. Perpetual \\ncapital totaled $351 billion as of June 30, 2023 \\n(or 57% of total AUM), up 14% year-over-year. \\nDuring the 12 months ended June 30, 2023, \\ninflows totaled $154 billion, up from inflows of \\n$128 billion recorded in 2022. As of June 30, \\n2023, APO’s private equity arm had “dry \\npowder” of $56 billion available to deploy.\\nuWe estimate adjusted net earnings per share of \\n$6.65 in 2023, rising to $7.80 in 2024 and to \\n$9.00 in 2025, versus adjusted EPS of $5.21 \\nreported in 2022.', 'Highlights\\nuBALL installed 12 billion units of aluminum can \\ncapacity in 2021, mostly in North America, a \\nregion initially forecast to grow can volume by \\n10%-12% in 2022. However, weaker demand in \\nNorth America in 2022 (shipments down 0.3%) \\nled to capacity closures at certain locations. We \\nexpect a 3% sales decline  in 2023, with flat \\norganic volumes  offset by the Russian \\ndivestiture. We forecast flat 2023 global  \\nvolumes, with North America down low-single \\ndigits, South America up mid-single digits, and \\nEMEA up mid-single digits.\\nuLeading up to 2022, BALL had been operating at \\nfull capacity in North America and had been in \\nan oversold position. Therefore, BALL had been \\nexpanding capacity, with an emphasis on North \\nand South America. BALL ’s capacity expansions \\nwere targeting an increase of 25% global \\ncapacity by year-end 2023 (off of a 2019 base). \\nHowever, weaker demand led to geographic \\nmismatches in supply and demand and future \\ncapacity growth should be muted. \\nuYear-end net debt-to-trailing-EBITDA in 2022 \\nwas 4.3x (an increase from 3.4x in 2021). 2023 \\ncapex should be $1.2 billion (versus $1.7 billion \\nin 2022) and we forecast free cash flow of $750 \\nmillion, which we think will be used to reduce \\ndebt.', 'Highlights\\nuQ2 sales fell 14% Y/Y on destocking in \\nnonresidential roofing, volume declines in \\nresidential markets, and difficult Y/Y \\ncomparisons, partially offset by strength in \\naerospace. We think CSL will benefit from gains \\nin nonresidential construction spending/\\nupgrades as building codes become more eco-\\nconscious and in aerospace as production rates \\nrecover to pre-pandemic levels, but will see \\nsome offset from residential markets. We \\nexpect 2023 sales to fall 7% and 2024’s to rise \\n6%.\\nuEBIT margin fell 120 bps Y/Y on lower volume, \\npartially offset by positive pricing and CIT profit \\ngrowth. We expect EBIT margin to contract in \\n2023 on lower volumes, partially offset by cuts \\nto SG&A and moderation in key raw material \\nprices (steel and aluminum). We also forecast \\nthat CSL ’s new products, including a \\nthermoplastic polyolefin designed to reduce \\nlabor on large projects and an improved foam \\nand facer technology, will drive margin and sales \\ngrowth in 2024. We see the 2023 EBIT margin \\nfalling 60 bps and 2024’s rising 100 bps.\\nuWe estimate 2023’s EPS to fall 12% and 2024’s \\nto rise 10%.', 'Highlights\\nuCRL posted strong Q2 sales of $1.06B, up  9% Y/\\nY or 11% organically, slightly above \\nexpectations. The core DSA segment (63% of \\ntotal revenue, +12% Y/Y) continued  to post \\nrobust revenue growth in Q2, led by higher \\npricing and volume in the safety assessment \\nbusiness. As of the end of June 2023, CRL ’s \\nDiscovery and Safety Assessment (DSA) backlog \\nwas at $2.8B vs. $3.0B as of March 2023, a \\nslight deceleration Q/Q, but still supporting a \\nlong growth runway. The RMS segment’s \\nrevenue rose by 13% Y/Y, driven by solid \\ndemand globally for research models, \\ncounterbalancing the 4% Y/Y decline in the \\nManufacturing segment. \\nuCRL divested its Avian Vaccine business in \\nDecember 2022 after deciding it no longer \\nmade strategic sense in bringing top- and \\nbottom-line growth to the portfolio. The \\ndivestiture resulted in lower top-line revenue \\ngrowth of 2.3% in Q2, negatively impacting the \\nManufacturing segment sales.\\nuCRL continues operating with elevated capital \\nspending, likely to hit 9% of revenue in 2023 \\n(8% in 2022), which is a marked uptick from a \\nnormalized 6% level. We believe this is a \\nreflection of rising demand from some of CRL ’s \\nend markets that entails new capacity and \\nrepresents a good problem to have.', 'Highlights\\nuWe forecast net written premium growth of  9% \\nto 15% in  2023 and 8% to 12% in 2024, amid  a  \\nstill-healthy premium pricing environment that \\nwe expect will  be enhanced by stable demand \\nfor  commercial lines coverage despite  near-\\nterm economic cross currents.  We expect CB to \\nleverage its dominant position in the large \\ncommercial lines market and produce growth \\nabove the industry average, possibly  via \\nacquisitions (despite its failure to secure a deal \\nwith The Hartford).  Net written premiums rose \\nby 10% in 2022 and 12% in 2021,  a recovery \\nfrom the 4.8% rise posted  in 2020. \\nuThe rebound in operating profitability we expect \\nin 2023 is skewed by an elevated level of \\nweather-related catastrophe losses incurred in \\n2022. Covid 19 related claims, however, have \\nmoderated.  Still, we expect underwriting results \\nto remain profitable, and superior to most \\npeers, evidenced by the combined ratio that \\nended 2022 at 87.6% (84.2% before \\ncatastrophes), versus 89.1% in 2021 (84.8%).   \\nuWe forecast  operating EPS of $18.45 in 2023, \\nrising to $20.30 in 2024, and to $22.35 in 2025, \\nversus operating EPS of $15.24 CB posted in \\n2022. ', 'Highlights\\nuClariant’s operations had remained relatively \\nstrong in 2022 with sales up 24% in local \\ncurrency on strong pricing though 2023 is \\nturning out worse. Q2 2023 sales decreased by \\n7% in local currency or down 17% in CHF as \\npricing remained flat Y/Y while volume \\ndecreased by 5%. The Care Chemicals business \\nunit saw sales decline by 17% in local currency \\nand the Catalysts business unit grew 30% in \\nlocal currency while the Adsorbents & Additives \\nbusiness unit declined 12%. YTD 2023 sales \\ndecreased 3% in local currency or -11% in CHF.\\nuQ2 2023 EBITDA excluding exceptional items \\nwas CHF175 million, down 19% Y/Y in CHF \\nattributable to the decline in volume. Adjusted \\nEBITDA margin decreased 50bps to 16.1% with \\ndeclines in all business units with the Catalysts \\nbusiness unit seeing a decline mostly on the \\nnegative impact of sunliquid. The Care \\nChemicals business unit saw a 530bps decline \\nin EBTIDA margin with volumes and pricing both \\ndeclining, while the Adsorbents & Additives \\nbusiness unit saw a 1720bps decline with a \\nsignificant decline in volumes and slightly \\npositive pricing.\\nuOur EPS estimates for 2023 and 2024 are \\nCHF1.00 and CHF1.10, respectively.', 'Highlights\\nuSGO’s H1 2023 EPS of EUR3.57 (+1.7% Y/Y) \\nsurpassed the consensus estimate of EUR3.27 \\nbut matched our expectations. In our view, the \\noutperformance is attributed to SGO’s ability to \\nregister record margin of 11.3% (up from H1 \\n2022’s 11.0%). The 7.9% Y/Y price increase \\noutweighed the 6.3% decline in business \\nvolume. H1 2023 top line was down 2.1% Y/Y \\nbut improved 1.6% Y/Y on a like-for-like basis. \\nThe company’s balance sheet remains robust, \\nwith a stable Y/Y net debt to EBITDA ratio of 1.2. \\nAbsolute net debt increased 7.8% to EUR8.92 \\nbillion (from EUR8.27 billion as of end June \\n2022).\\nuWe maintain our non-consensus view that \\nSGO’s 2023 earnings will continue to grow. While \\nthe rise in interest rates has weakened the \\ndemand from new construction, there is \\nresilience in demand from renovation for SGO’s \\nproducts. Regionally, we expect stronger \\nearnings from North America and Asia to drive \\nthe growth. Management guided for operating \\nmargin of 9%-11% for H2 2023, which is \\nachievable in our view due to SGO’s strong \\nbrand and expertise in providing sustainable \\nsolutions to the construction industry.\\nuWe maintain our forecasts: 2023 EPS at \\nEUR6.62 and 2024 EPS at EUR6.90.', 'Highlights\\nuWe project revenues rising 2.9% in FY 24 (Jan.) \\nfollowing 10.6% growth in FY 23. DG stores \\nprimarily serve rural areas, catering to \\nconsumers with an average annual income of \\nless than $40,000. As a result, DG’s core \\ncustomer is particularly susceptible to weak \\neconomic conditions. We’re currently seeing \\nDG’s core customer pull back on discretionary \\nspending, a trend that has recently been \\namplified by the conclusion of SNAP emergency \\nallotments, lower tax refunds, and elevated food \\nand gas prices.\\nuWe project 6.8% operating margins in FY 24, \\ndown 200 bps Y/Y, driven by negative sales mix, \\nincreased shrink (e.g., theft) and investments in \\nstore labor hours and repairs and maintenance. \\nLonger term, however, we’re positive on DG \\ngrowing operating margins to above 10%, driven \\nby initiatives like DG Fresh, DG Media, DG \\nWellbeing, private tractor fleet, and distribution \\ncenter productivity.\\nuDG plans to open 990 new U.S. stores in FY 24, \\ndown from its previous target of 1,050, as the \\ncompany plans to open less pOpshelf stores in \\n2023 (90 planned versus the previous \\nexpectation of 150). pOpshelf stores mainly sell \\ndiscretionary items and skew to younger, \\nwealthier, and more suburban shoppers.', 'Highlights\\nuEquinor’s Q2 2023 adjusted net income of \\nUSD2.25 billion (-57% Y/Y; -36% Q/Q) was \\nwithin expectations. The earnings decline was \\ndue to lower energy price realizations, \\nspecifically its Q2 2023 E&P Norway average \\ninternal gas price weakened to USD10.2/mmtu \\nversus USD25.5/mmtu in Q2 2022 and USD17.4 \\nin Q1 2023. Net debt-to-capital employed \\nincreased in Q2 2023 to -35%  (-52% as of Mar-\\n2023) owing to unfavorable tax phasing totaling \\n~USD10 billion and high capital distribution.\\nuLNG prices have retraced significantly, Dutch \\nTTF fell below EUR30/MWh (2022: EUR131/\\nMWh) and Henry Hub dropped below USD2/\\nmmtu (2022: USD6.54/mmbtu) before paring \\nsome losses amid summer. Moreover, we think \\nhigh energy storage levels in European nations \\nand an increasing risk of storage congestion \\nmay reduce the level of anticipated gas price \\nincrease during 2023/2024 winter, thus putting \\nfurther downside pressure on Equinor’s \\nprofitability in 2023. Operationally, we estimate \\nEquinor to raise its hydrocarbon production by \\naround 3% in 2023, supported by new fields \\nfrom Johan Sverdrup Phase 2 and Njord on \\nstream, alongside production ramp-up from \\nPeregrino fields.\\nuWe forecast EPS of USD4.70 for both 2023 and \\n2024.', 'Highlights\\nuFollowing a 9.3% decline in operating revenues \\nin 2022 (versus our forecast of a 2% to 4% \\ndrop), we expect revenues to rise by 6% to 9% \\nin 2023 and by 7% to 10% in 2024, reflecting \\nour expectation of a modest recovery in asset \\nvalues and wider spreads on the rise in interest \\nrates. Our forecast excludes investment and \\nderivative gains and/or losses, which can be \\nsignificant. Operating revenue weakness in \\n2022  primarily reflected 11% lower fee \\nrevenues, a 14% drop in investment income, \\nand a 9% decline in investment management \\nfees, partly offset by 3.5% higher premiums.\\nuWe expect revenues at 65%-owned \\nAllianceBernstein (AB 30 ****) will be flat to up \\n6% in 2023 and will rise by 4% to 7% in 2024, \\nversus the 8% drop reported in 2022. AB’s \\nassets under management (AUM) of $691.5 \\nbillion at  June 30, 2023 rose 7% from $646.4 \\nbillion at December 31, 2022. AB’s fund flow \\ntrends turned positive in Q1, with inflows of \\n$800 million, but eroded in Q2 with $4B of \\noutflows. During 2022, net outflows of $3.6 \\nbillion contrasted with net inflows of $26.1 \\nbillion in 2021.\\nuWe forecast operating EPS of $4.95 in 2023, \\nrising to $6.40 in 2024, and to $7.05 in 2025, \\nversus  operating EPS of $5.08 reported in 2022.', 'Highlights\\nuEssilorLuxottica (EL) delivered a strong Q2 2023 \\nrevenue of EUR6.7 bln (reported: +4.9% Y/Y, \\nconstant rates: +8% Y/Y), driven by broad-\\nbased growth in all segments and regions. On a \\ncomparable basis; Professional solutions rose \\n8.2%, driven by strong performance in the Asia \\nPacific due to Greater China’s growth of >50%, a \\ndiversified customer based in the EMEAs, while \\nNorth America saw a deceleration. In the Direct-\\nto-Consumer segment, performance was up \\n7.8%. Comparable-store sales expanded 5% as \\n>10% growth in EMEA, Asia-Pacific, and Latin \\nAmerica was dragged by North America’s \\ndecline from negative and worsening retail sun \\nbusiness. EL maintains its mid-single-digit \\nannual revenue growth from 2022 to 2026. \\nuEL reported H1 2023 EBIT margin of 18.4% (-10 \\nbps Y/Y) as strong cost management offset \\ninflationary headwinds. For full-year 2023, we \\nestimate a margin of 17%, in line with \\nconsensus estimates. \\nuWe maintain our EPS forecasts for 2023 of \\nEUR6.04 and 2024 of EUR6.75.', 'Highlights\\nuWe expect revenue will grow near 4.5%-5.0% in \\n2023, followed by 3.0%-3.5%  growth in 2024. \\nRevenue increased nearly 17% in 2022, \\nsupported by retail electric sales growth in \\nseveral service territories, as well as favorable \\nFX. We expect rate updates at Fortis Alberta and \\nTEP (Arizona) to support revenues, offset by \\nless favorable first half weather. \\nuWe anticipate an EBIT margin near 26.5% in \\n2023 and 26.5%-27.0% in 2024, compared to \\n24.8% in 2022. We attribute 2022’s declining \\nmargin to sales growth outpacing profit growth, \\nsomewhat driven by inflation in operations and \\nmaintenance costs. We expect rate increases \\nand returns on capital investments to support \\nmargin growth, offset by higher depreciation \\ncosts. \\nuFTS’s 2024-2028 capex plan of $25.0B has \\naround 27% spending targeted at clean energy. \\nFTS has shown strong execution thus far on its \\ngoal of reducing Scope 1 carbon emissions 75% \\nby 2035 (based on 2019 levels), with a 28% \\nreduction in greenhouse gas emissions from \\n2019-2022. Much of FTS’s planned investment \\nin wind, solar, and energy storage in Arizona is \\nnot expected to occur until the latter half of the \\ndecade, however. FTS plans for coal-free \\noperations by 2032.', 'Highlights\\nuFresenius Medical Care’s (FME) Q2 2023 \\nrevenue was up 1% Y/Y (+6% in constant \\ncurrency, cc) with organic revenue growing 6% \\ndriven by both Care Delivery (driven by price) \\nand Care Enablement (driven by both volume \\nand price). We forecast revenue to grow by \\n~2%-4% in 2023 and 2024, largely in line with \\nthe company’s unchanged 2023 guidance of low \\nto mid-single-digit percentage revenue growth \\nat cc.\\nuQ2 2023 operating income grew 5% Y/Y, \\nsupported by reduced personnel costs resulting \\nfrom improved productivity as well as FME25 \\ncost savings (excluding Provider Relief Funding \\nand special items, operating income rose 41%). \\nFME narrowed its 2023 operating income \\nguidance range where it now expects operating \\nincome, adjusted for the government support \\nreceived in 2022, to remain flat or decline by up \\nto low-single-digit percentage (previously flat or \\ndecline by up to high-single-digit). We forecast \\noperating income margin to be ~1%-pts lower \\nin 2023 with the FME25 savings cushioning cost \\ninflation and the absence of government \\nsupport (H1: -10% with margin -0.9%-pts on \\nweaker Q1 numbers).\\nuWe revised our 2023 EPS estimate to EUR2.30 \\n(from EUR2.15) to account for the latest result \\nand keep our 2024 estimate.', 'Highlights\\nuHeidelberg Materials (HEI) posted record results \\nin 2022 as Group revenue grew 21% to an all-\\ntime high of EUR21.1 billion. We see more \\nchallenges to volume in 2023 as energy and raw \\nmaterial prices remain volatile, leading to \\nunpredictable activity in the construction \\nindustry. H1 2023 revenues were up 8.5% to \\nEUR10,473 million, driven largely by price \\nadjustments in all business areas. Revenue \\ngrew in all operating regions on a LFL basis in \\nQ2 2023 but at a slower pace vs. the double-\\ndigit growth in Q1 2023.\\nuHEI’s H1 2023 EBITDA increased to EUR1,787 \\nmillion (+21.3% LFL) as continuous cost \\nmanagement and the easing of energy and raw \\nmaterial costs improved profitability in an \\nenvironment of high inflation and increasing \\ninterest rates which has led to a drop in \\nconstruction activity, particularly in residential \\nconstruction. This led to a 31% LFL EBIT \\nincrease to EUR1,189 million, better than \\nexpected. For 2023, HEI is guiding for EBIT \\nbetween EUR2.7 billion and EUR2.9 billion, from \\nthe previous guidance of between EUR2.50 \\nbillion and EUR2.65 billion previously.\\nuOur 2023 EPS estimate is EUR9.50 (from \\nEUR9.00) and 2024 EPS estimate is EUR10.00 \\n(from EUR9.30).', 'Highlights\\nuWe forecast revenue reaching $9.9B in 2023 \\nand $10.8B in 2024, following a 259% increase \\nto $8.8B in 2022 due to the rebound from \\npandemic-related disruptions. We expect a \\ncontinued growth in revenue per available room \\n(RevPAR) across  geographical regions, with \\nAsia-Pacific and Europe  leading the way, \\nfollowed by North America to a lesser extent. \\nAdditionally, we note management’s guidance of \\nsystem-wide RevPAR growth of 10%-12% and \\nnew unit growth of approximately 5%, along \\nwith a strategic focus on growing fee-based \\nrevenues and capturing market share in the \\nlow- to mid-priced hotel segments within the \\nU.S. HLT’s customer loyalty program (HHonors) \\nalso continues to demonstrate robust growth \\n(+20% Y/Y) surpassing 165M members in Q2 \\n2023. \\nuWe project an adusted EBITDA margin of 67.8% \\nin 2023, a modest decline from 68.9% in 2022, \\nmainly due to persistent inflationary pressures, \\nprimarily labor costs, partially offset by robust \\ntop-line growth. We also expect new unit growth \\nin the 5.0%-5.5% range in 2023, following HLT’s \\naddition of 23,200 rooms in 1H 2023.\\nuAfter depreciation and amortization, as well as \\ninterest expense and taxes, we project EPS of \\n$6.00 in 2023 and $6.65 in 2024.', \"Highlights\\nuWe see organic revenue growth of 4%-6% in \\n2023 as ICE’s recurring revenue (about half of \\ntotal revenue) continues its momentum. We \\nexpect sequential quarterly growth in upcoming \\nquarters to be aided by a rebound in Mortgage \\nTechnology transactional revenue. In Q1, this \\ntransactional revenue was down 53% Y/Y as \\nmortgage rates remained elevated. This revenue \\nthen rebounded 20% sequentially in Q2, but \\nremained more than 60% below 2021 levels. \\nLooking forward, we expect more stable \\nmortgage rates (perhaps even falling in 2024) \\nto lead to an uptick in activity and strong growth \\nin mortgage revenue. \\nuDespite continued mortgage headwinds, we \\nwere impressed by ICE’s adjusted operating \\nmargin of 60.0% (+80 bps Y/Y) in Q2 as \\nadjusted expenses rose just 2%. Looking at full-\\nyear 2023, we see expansion over 2022’s \\noperating margin of 59% and expect an \\noperating margin of 60% as revenue growth \\noutpaces higher employee and technology \\nspend. \\nuOn September 5, 2023, ICE closed its \\nacquisition of Black Knight for $11.9 billion. In \\norder to get the deal done, the two companies  \\nagreed to sell Black Knight's  Optimal Blue \\nbusiness to Constellation Software for $700 \\nmillion. \", 'Highlights\\nuIntesa Sanpaolo’s (ISP) Q2 2023 net income \\nsurged 74% Y/Y to EUR2.27 bln, comfortably \\nbeating S&P Capital IQ consensus estimate of \\nEUR1.86 bln. The result was driven by higher \\nrevenues (+19%), as net interest income \\nincreased by 71% to EUR3.6 bln, and a decline \\nin loan loss provisions to EUR367 mln from \\nEUR730 mln, benefiting from recoveries relating \\nto exposure to Russia and Ukraine. We see \\nconsensus upgrades ahead following ISP’s \\nupward revision in its 2023 guidance, now \\nexpecting net income of well above EUR7 bln \\n(~EUR7 bln previously).\\nuFor 2023, we expect ISP’s net interest income \\nwill be boosted by the higher interest rate \\nenvironment in Europe. We expect its fee and \\ncommission income to show a comeback amid \\npotential market recovery. Despite the \\ninflationary environment, we think ISP should be \\nable to keep operating costs in check due to \\npast efforts to reduce cost and increase \\noperating efficiency. Loan loss provisions will \\nmost likely edge higher due to increasing macro \\nuncertainty, but we believe this will still be at a \\nmanageable level, given ISP’s improving asset \\nquality.\\nuWe raise our EPS forecasts to EUR0.40 (EUR.36) \\nfor 2023 and EUR0.41 (EUR0.38) for 2024.', 'Highlights\\nuWe see high-single-digit organic sales growth \\nof ~7%  in ‘23, driven primarily by  pricing and \\nvolume gains, backed by demand for industrial \\npumps, OE brake pads, aerospace and defense \\ncomponents, and EV and medical connectors. \\nWe expect global OEM market share gains in the \\nautomotive friction and brake pads businesses \\nas well as incremental benefits from \\nacquisitions. We see momentum in aerospace \\ndemand ramping higher through ‘23, coinciding \\nwith strong global air travel. Oil & gas markets \\nare expected to remain supportive and we see \\nITT continuing to diversify and broaden its \\nenergy exposure (i.e., hydrogen/LNG). ITT is \\ninvesting in EVs and other technology to ensure \\nit remains a market leader, which we see \\nbearing fruit through sales and margin gains.\\nuWe expect adj-operating margin to rise 100 bps \\nto 18.2% in ‘23. In our view, pricing benefits \\nacross ITT’s businesses, productivity \\nimprovements, and easing cost inflation will \\ndrive margins higher in ‘23.\\nuWe forecast FCF to rise to $400M in ‘23. We see \\ncapital investments continuing to be routed \\ntoward productivity enhancements and growth \\nin EV market share over the coming quarters. In \\n‘23, we expect M&A to take precedence over \\nshare buybacks.', 'Highlights\\nuWe forecast Philips’ (PHIA) sales to grow by ~3% \\nin 2023, mainly driven by its biggest segment, \\nDiagnostic & Treatment (D&T). In Q2 2023, \\ncomparable sales grew 9% Y/Y, driven by all \\nsegments with D&T growing 12% on continued \\nsupply chain improvement while Personal \\nHealth segment returned to growth (improving \\nsellout trends, although consumer demand \\nremains subdued). PHIA raised its 2023 \\ncomparable sales growth outlook in July 2023 \\n(following the Q2 result) to mid-single digit \\nfrom low-single digit.\\nuWe forecast adjusted EBITA margin to improve \\nto ~9% for 2023 from 7.4% in 2022, with the \\noverall inflationary headwind being cushioned by \\nproductivity measures, largely in line with the \\nguidance of at the upper end of the high-single-\\ndigit range. Adjusted EBITA margin expanded \\n4.9%-pts in Q2 2023 (H1: +3.7%-pts to 9.4%) \\nas productivity and pricing mitigate the cost \\nheadwinds. According to PHIA, productivity \\nmeasures (including reducing workforce – \\nreduction of 6,600 roles as of H1 2023) \\ndelivered a total of EUR427 million in savings in \\nH1 2023.\\nuWe forecast EPS to improve to EUR1.16 for \\n2023 and EUR1.30 for 2024 on better sales and \\nmargin.', 'Highlights\\nuLondon Stock Exchange’s (LSE) H1 2023 \\nadjusted EBITDA was up 4% Y/Y to GBP1.87 bln \\nand its revenue rose 12% Y/Y to GBP3.99 bln. \\nThe result was within expectation, with its \\nadjusted EBITDA and revenue making up 50% \\nand 49% of consensus full year 2023 estimates. \\nAdjusted EBITDA margin contracted to 46.9% \\n(50.4%) due to non-cash FX-related balance \\nsheet adjustment, impact of recent \\nacquisitions, and product development costs. \\nThat said, LSE is still confident of hitting its full \\nyear EBITDA margin of ~48%.\\nuWe forecast high-single-digit CAGR in revenue \\nfor LSE over the next two years, driven by key \\nlong-term drivers such as growth of passive \\nfunds and the rising demand for data and \\ndigitalization. Near-term heightened market \\nvolatility will also benefit LSE’s trading-related \\nrevenues, in our view. We expect a mid-single-\\ndigit rise in underlying operating expenses over \\nthe next two years, mainly driven by spending to \\nimprove operational resilience, expenditure on \\nefficiency-related projects, and development of \\nnew products and services to drive future \\ngrowth. \\nuWe forecast EPS of GBP3.50 for 2023 and \\nGBP3.90 for 2024. ', 'Highlights\\nuMarks & Spencer (MKS) released a trading \\nupdate covering the first 19 weeks of FY24 \\n(Mar.) up to August 12. MKS saw continued \\nmarket share growth in both Clothing & Home \\nand Food. Like-for-Like (LFL) sales growth \\ncame in as a positive to us, up 11% LFL and 6% \\nLFL for Clothing & Home, and Food, respectively. \\nRecall that in its FY23 results, MKS reported \\nsales growth of 9.9%, driven by Clothing & \\nHome (+11.5%), Food (+8.7%), and \\nInternational (+12.6%). The sustained growth \\nmomentum reflects MKS’ attractive value \\nproposition amid continued price investment, in \\nour view. \\nuAs part of its mid-term objectives, MKS targets \\nadjusted operating martin (AOM) to c.4% and \\nc.10% for Food, and Home & Clothing, \\nrespectively. Recall that FY23 AOM at 5.2% is \\nbehind FY22 at 6.5% as muted pricing activity \\nwas insufficient to offset sourcing and freight \\ncosts. In its trading update, MKS indicated \\n“significant improvement against previous \\nexpectations (moderate revenue growth)”, \\nwhich we attribute to the group’s positive \\nprogress towards its strategy, and relatively \\nrobust retail consumer spending. \\nuWe raise our FY24 EPS to GBP0.20 (from \\nGBP0.16) and FY25 to GBP0.23 (from GBP0.19).', 'Highlights\\nuThe recent service revenue recovery indicates \\nsome success for Maxis’ data and Home Fibre \\npivot. Its push for service convergence is \\npositive, offsetting flattish Mobile service \\nrevenue. We also see some signs of a pickup in \\nits Enterprise business. We project service \\nrevenue +3% in 2023 from higher Mobile service \\nrevenue (stable ARPU, subscriber gains for \\npostpaid), Fibre, and Enterprise, and \\naccelerating to +6% in 2024. In H1 2023, \\nrevenue +3%, on +3% service revenue growth \\n(+5% consumer revenue on higher postpaid and \\nfiber; Enterprise +5%). Consumer postpaid led \\nrevenue gains (+9% on higher subs offsetting \\nweaker ARPU) on pre-to-post migration, while \\nprepaid -2%. \\nuWe see net margin to rise slightly in 2023, on \\nMaxis’ focus on cost management and the lack \\nof the Cukai Makmur impact in 2023. On the flip \\nside, we see flat EBITDA margin as Maxis invests \\nin emerging Enterprise services. We expect \\nmargin to see pressure in 2024 as Maxis plays a \\nmore direct role in the second 5G network \\nrollout. In H1 2023, EBITDA +2%, with EBITDA \\nservice margin -0.4%pt on higher device costs \\nand higher operation costs.\\nuWe forecast 2023-2024 EPS of MYR0.16 and \\nMYR0.14. YTD 2023 DPS was MYR0.08, -20%.', 'Highlights\\nuQ2 revenues of $15B, up 3% Y/Y, were higher \\nthan estimates due to higher-than-anticipated \\nsales from the key oncology drug Keytruda \\n(42% of total, +19% Y/Y) across all indications \\nand the HPV vaccine Gardasil (16% of total, \\n+47% Y/Y). In line with expectations, Lagevrio  \\n(antiviral to treat Covid-19) sales continued \\ntheir sharp Y/Y decline (-82% Y/Y) due to lower \\ndemand. The 1% Y/Y revenue decline in Animal \\nHealth (10% of total sales) was slightly above \\nour expectations as livestock underperformed \\nthis quarter (-2% Y/Y).\\nuIn June 2023, MRK completed the acquisition of \\nthe  smaller rival Prometheus Biosciences  in an \\nall-cash deal valued at $10.8B. The deal boosts \\nMRK’s immunology portfolio and increases its \\nresearch capabilities. We also see strength in \\nMRK’s cardiology and oncology portfolios, and \\nthe possibility of extending the use of Keytruda \\nand Lynparza for a wider set of indications in \\noncology is a plus. Also, MRK’s joint venture with \\nModerna offers longer-term potential for \\nindividualized cancer treatment.  \\nuIn July, Merck upgraded its 2023 revenue \\nguidance, which now stands in the range of \\n$58.6B-$58.9B. We now expect MRK sales to be \\nroughly flat Y/Y (+0.1%) vs. a 0.4% decline \\nearlier.', 'Highlights\\nuOMV’s Q2 2023 adjusted income of EUR472 (-\\n67% Y/Y; -54% Q/Q) missed the consensus \\nestimate by 14%. All three core segments \\ndeteriorated, primarily on lower olefin and \\npolyolefin margins, a significant reduction in \\nrefining margins, and lower energy prices. Also, \\nOMV’s Q2 2023 operational performance was \\nuninspiring, in our view, as the utilization rates \\nof refineries and steam crackers were merely \\n73% and 83%, respectively (lower than initial \\n2023 guidance of 95% and 90%, respectively), \\nwhereas hydrocarbon production was down 7% \\nY/Y to 353 kboe/d. Operating cash flow pre-\\nworking capital turned negative in Q2 2023, \\nlifting leverage to 11% versus 2% in Q1 2023. \\nuOMV lowered its 2023 guidance by slashing \\nestimated oil & gas price realization, polyolefin \\nmargin, and refining margin alongside reducing \\nthe estimated utilization rate of crackers and \\nrefinery.  We expect earnings downside linked to \\ndownstream and EU gas exposures. Also, \\nhydrocarbon production is set to decrease due \\nto the depletion of old assets, and the exclusion \\nof Russian volume, which faces increased risks \\ndue to sanctions against Russia.\\nuWe forecast EPS of EUR9.00 for 2023 and \\nEUR8.00 for 2024.', 'Highlights\\nuPartners Group (PGHN) reported 9% Y/Y growth \\nin assets under management (AUM) to \\nUSD141.7 bln as of H1 2023, driven by new \\ncommitments of USD8.0 bln (H1 2022: USD13.1 \\nbln). The company invested USD5.0 bln (H1 \\n2022: USD13.4 bln) as it continues to grow its \\nthematic investment pipeline. Portfolio \\nrealization was USD5.4 bln, down from USD6.4 \\nbln a year ago, but we think this was \\ncommendable given the challenging market \\nenvironment. We expect fundraising to improve \\nin H2 2023, supported by continuing \\nnormalization in the pace of client conversions \\nas well as new strategies coming to market.\\nuPGHN guides for expected gross client demand \\nof USD17-22 bln in 2023, down from USD22-26 \\nbln it guided previously for 2022. We believe this \\nreflects the lower risk appetite among its clients \\namid increasing macro uncertainties, which \\nmay lead to slower AUM growth. That said, we \\nsee improved performance fees for PGHN in \\n2023 as we expect realizations to recover from \\nthe low level experienced in 2022. However, this \\nis subject to market conditions and we may \\nneed to wait until the second half of 2023 to \\nsee realizations start to materialize.\\nuWe forecast EPS of CHF42 for 2023 and CHF52 \\nfor 2024.', 'Highlights\\nuWe estimate 2023 revenue growth of 10% as we \\nsee core price remaining elevated and, coupled \\nwith acquisitions, contributing to additional \\nexpansion in sales. RSG’s customer retention \\nrate has remained solid at 94%+, despite \\npricing actions taken in recent quarters. We \\nanticipate organic volumes being flat to slightly \\npositive in 2023, with pricing and acquisitions \\ndriving top-line growth. Recycled commodity \\nprices meaningfully contracted in 2022 on \\nunfavorable supply-demand, though prices are \\nexpected to recover in 2023 with RSG \\nestimating an average recycled commodity \\nprice of $110-115 per ton.\\nuWe expect the EBITDA margin to expand 30 bps \\nin 2023 to 29.4%. Improved route metrics \\nsupport margins through increased productivity. \\nRSG is managing costs by replacing older \\ntrucks, reducing emissions, improving driver \\nproductivity, and increasing conversions to \\nnatural gas vehicles to reduce fuel costs. Pricing \\nremains robust, with a positive price/cost \\nexpected to support margin expansion in the \\ncoming quarters.\\nuRSG believes that quality acquisitions result in \\nthe most long-term shareholder value creation, \\nwith CFRA expecting over $600M of deals being \\ncompleted by year-end 2023.', 'Highlights\\nuWe estimate revenues growing 22%-23% in \\n2023 and 2024, fueled by durable enterprise \\ndemand for its platform that addresses multiple \\nworkflows (i.e., productivity, efficiency, cost \\ntakeouts, and/or business model \\ntransformation). Net new ACV of $1M+ clients \\nhas compounded solidly (Q2 2023: +30% Y/Y) \\nwith top-tier gross retention (2Q 2023: 99%), \\ndemonstrating the agility and stickiness of \\nNOW’s platform, as it has been able to retire a \\nmore traditional land-and-expand model in \\nmany cases and fill a more mission-critical role \\nfor customers much quicker. Current Revenue \\nPerformance Obligations (cRPO – subscription \\nrevs contracted but not yet recognized) \\ncontinue to grow solidly (2Q 2023: +25%).\\nuNOW’s business is largely recurring (95%+), \\nallowing it to execute in many different \\neconomic climates; gross margin should hover \\naround 81%-82% in 2023 and 2024, while adj. \\noperating margin should step up from 25.7% in \\n2022, to 26%-27% in 2023 and 2024, as strong \\ngrowth and expense discipline help realize \\nincremental operating leverage.\\nuNOW’s balance sheet is clean with no net debt \\n($4.7B in cash/short-term investments and \\n$1.5B in long-term debt). Excess FCF should \\ntotal $2.6B+ in 2023 and $3.1B+ in 2024.', 'Highlights\\nuSociete Generale’s (GLE) Q2 2023 underlying net \\nincome fell 22% Y/Y to EUR1.16 bln but was \\nahead of S&P Capital IQ consensus estimate of \\nEUR744 mln. The result was dragged by lower \\nrevenues in French retail banking (-14%), \\nreflecting contraction in net interest margin due \\nto local consumer protection rule that caps the \\npace at which banks can pass on interest rate \\nrises to households. Investment banking \\nrevenues were down 7% on the back of less \\nfavorable market environment. While underlying \\noperating expenses were stable, it was also a \\nreflection of weaker revenues.\\nuWe expect the net interest margin pressure in \\nFrance to continue until 2024, resulting in GLE’s \\ncontinued underperformance against peers in \\nposting higher retail bank revenues. We think \\nGLE’s exposure to international markets should \\nbe able to support a softer performance in \\nFrance. Past cost actions and ongoing \\ninitiatives should keep its underlying cost/\\nincome ratio stable amid the inflationary \\nenvironment, in our opinion. We see higher cost \\nof risk due to increased macro uncertainties.\\nuWe cut our EPS forecasts to EUR4.20 (EUR4.50) \\nfor 2023 and EUR5.00 (EUR5.20) for 2024.', 'Highlights\\nuQ2 sales fell 14% Y/Y on volume declines in \\nTitanium Technologies and the Advanced \\nPerformance Materials portfolio, partially offset \\nby pricing gains. Volume declines were 27% in \\nTT, 1% in Thermal & Specialized Solutions, and \\n9% in APM. We believe CC will see sales declines \\nof 6% in 2023 and 3% in 2024 given its large \\npresence in the manufacturing of harmful \\nchemicals in most of its segments. \\nuIts TSS segment has a leading position in the \\nfluorochemicals market and its APM segment \\nproduces products containing PFAS and Gen-X \\n(previously known as C8), all of which are highly \\ntoxic and have been linked to certain cancers. \\nWe believe possible regulatory pressure may \\neliminate or restrict CC’s ability to produce \\nproducts containing these chemicals.\\nu Q2 EBIT margin declined Y/Y on lower volumes \\nand higher input/raw material costs, partially \\noffset by strong pricing. We think EBIT margin \\nwill contract in 2023 with high raw material \\nprices, such as chlorine. Also, with  lower \\nforecasted volumes and days sales inventory \\n(DSI) rising to 107 days in Q2 2023 from 78 \\ndays in Q2 2022, we believe margins will be \\nunder significant pressure. We estimate 2023 \\nand 2024 EBIT margin to contract 225 bps and  \\n100 bps.', 'Highlights\\nuWe forecast operating revenue growth of 8%-\\n12% in 2023, amid our view that net earned \\npremiums (which account for about 90% of \\nrevenues) will rise by 9%-12%, net investment \\nincome (8%) will be flat to up 5%, and fee and \\nother revenues (2%) will rise by 5%-8%. Our \\nforecasted rate of revenue growth reflects what \\nwe expect will be a strong pricing environment \\nand stable demand for coverage in 2023.\\nuOur operating profit forecast assumes that \\nunderwriting results remain profitable and that \\nTRV’s prior-year loss development trends \\nremain positive. Results in 2022 reflected a 2% \\nrise in an already elevated level of after-tax \\ncatastrophe losses, offset by a significant \\nimprovement in prior-year loss development \\ntrends. The combined ratio ended 2022 at \\n95.6%, versus 94.5% in 2021; the underlying \\ncombined ratio deteriorated to 92.0% in 2022 \\nfrom 90.3% in 2021. Q2 underwriting results \\ndeteriorated on higher weather claims, but \\nunderlying results were profitable, evidenced by \\nthe underlying combined ratio of 91.1% versus \\n92.8%. \\nuWe forecast operating EPS of $12.24 in 2023, \\nrising to $16.95 in 2024 and to $19.25 in 2025. \\nPer-share results have been helped by share \\nbuybacks, including $2.1 billion in 2022.', 'Highlights\\nuWe see sales growth of 31% in 2023 on \\ncontributions from Evoqua, as well as pricing \\nactions, improved backlog conversion, robust \\nwastewater utility demand, and infrastructure \\nprojects. Q2 orders were down 2% (organically) \\non a difficult comp, though backlog expanded \\n7% organically Y/Y on a book-to-bill greater \\nthan one. XYL ’s Water Infrastructure business is \\nbenefiting from strong price realization globally \\nand robust emerging market demand. For \\nApplied Water, we expect sustained strength in \\ndemand for industrial and commercial \\napplications, partially offset by softness in \\nresidential. We anticipate standout organic \\ngrowth from Measurement & Control Solutions \\nas chip shortages ease and order backlog is \\naddressed.\\nuWe expect the EBITDA margin to benefit from \\npositive price/cost and easing supply chain \\nconstraints, which we see translating into an \\nimproved backlog conversion rate and \\nprofitability. We anticipate an adjusted EBITDA \\nmargin of 18% for 2023.\\nuWe anticipate free cash flow conversion to \\nreturn to about 100% of net income in 2023. \\nLocal and federal infrastructure programs and \\npublic utility growth in emerging markets will be \\npositive catalysts for EPS growth, in our view.']\n"
     ]
    }
   ],
   "source": [
    "print(data_texts)"
   ]
  },
  {
   "cell_type": "code",
   "execution_count": 9,
   "metadata": {},
   "outputs": [],
   "source": [
    "train_texts, val_texts, train_labels, val_labels = train_test_split(data_texts, data_labels, test_size = 0.2, random_state = 0)\n",
    "train_texts, test_texts, train_labels, test_labels = train_test_split(train_texts, train_labels, test_size = 0.01, random_state = 0)"
   ]
  },
  {
   "cell_type": "code",
   "execution_count": 10,
   "metadata": {},
   "outputs": [],
   "source": [
    "tokenizer = DistilBertTokenizer.from_pretrained('distilbert-base-uncased')\n",
    "train_encodings = tokenizer(train_texts, truncation = True, padding = True  )\n",
    "val_encodings = tokenizer(val_texts, truncation = True, padding = True )"
   ]
  },
  {
   "cell_type": "code",
   "execution_count": 11,
   "metadata": {},
   "outputs": [],
   "source": [
    "train_dataset = tf.data.Dataset.from_tensor_slices((\n",
    "    dict(train_encodings),\n",
    "    train_labels\n",
    "))\n",
    "\n",
    "\n",
    "val_dataset = tf.data.Dataset.from_tensor_slices((\n",
    "    dict(val_encodings),\n",
    "    val_labels\n",
    "))"
   ]
  },
  {
   "cell_type": "code",
   "execution_count": 12,
   "metadata": {},
   "outputs": [
    {
     "data": {
      "application/vnd.jupyter.widget-view+json": {
       "model_id": "4e1fc8bc3c6043cba87ae54763045095",
       "version_major": 2,
       "version_minor": 0
      },
      "text/plain": [
       "model.safetensors:   0%|          | 0.00/268M [00:00<?, ?B/s]"
      ]
     },
     "metadata": {},
     "output_type": "display_data"
    },
    {
     "name": "stderr",
     "output_type": "stream",
     "text": [
      "c:\\Users\\hp\\AppData\\Local\\Programs\\Python\\Python311\\Lib\\site-packages\\huggingface_hub\\file_download.py:149: UserWarning: `huggingface_hub` cache-system uses symlinks by default to efficiently store duplicated files but your machine does not support them in C:\\Users\\hp\\.cache\\huggingface\\hub\\models--distilbert-base-uncased. Caching files will still work but in a degraded version that might require more space on your disk. This warning can be disabled by setting the `HF_HUB_DISABLE_SYMLINKS_WARNING` environment variable. For more details, see https://huggingface.co/docs/huggingface_hub/how-to-cache#limitations.\n",
      "To support symlinks on Windows, you either need to activate Developer Mode or to run Python as an administrator. In order to see activate developer mode, see this article: https://docs.microsoft.com/en-us/windows/apps/get-started/enable-your-device-for-development\n",
      "  warnings.warn(message)\n"
     ]
    },
    {
     "name": "stdout",
     "output_type": "stream",
     "text": [
      "WARNING:tensorflow:From c:\\Users\\hp\\AppData\\Local\\Programs\\Python\\Python311\\Lib\\site-packages\\tf_keras\\src\\backend.py:873: The name tf.get_default_graph is deprecated. Please use tf.compat.v1.get_default_graph instead.\n",
      "\n"
     ]
    },
    {
     "name": "stderr",
     "output_type": "stream",
     "text": [
      "Some weights of the PyTorch model were not used when initializing the TF 2.0 model TFDistilBertForSequenceClassification: ['vocab_transform.weight', 'vocab_layer_norm.weight', 'vocab_transform.bias', 'vocab_layer_norm.bias', 'vocab_projector.bias']\n",
      "- This IS expected if you are initializing TFDistilBertForSequenceClassification from a PyTorch model trained on another task or with another architecture (e.g. initializing a TFBertForSequenceClassification model from a BertForPreTraining model).\n",
      "- This IS NOT expected if you are initializing TFDistilBertForSequenceClassification from a PyTorch model that you expect to be exactly identical (e.g. initializing a TFBertForSequenceClassification model from a BertForSequenceClassification model).\n",
      "Some weights or buffers of the TF 2.0 model TFDistilBertForSequenceClassification were not initialized from the PyTorch model and are newly initialized: ['pre_classifier.weight', 'pre_classifier.bias', 'classifier.weight', 'classifier.bias']\n",
      "You should probably TRAIN this model on a down-stream task to be able to use it for predictions and inference.\n"
     ]
    }
   ],
   "source": [
    "model = TFDistilBertForSequenceClassification.from_pretrained('distilbert-base-uncased', num_labels=5)"
   ]
  },
  {
   "cell_type": "code",
   "execution_count": 14,
   "metadata": {},
   "outputs": [
    {
     "ename": "ImportError",
     "evalue": "cannot import name 'TFTrainer' from 'transformers' (c:\\Users\\hp\\AppData\\Local\\Programs\\Python\\Python311\\Lib\\site-packages\\transformers\\__init__.py)",
     "output_type": "error",
     "traceback": [
      "\u001b[1;31m---------------------------------------------------------------------------\u001b[0m",
      "\u001b[1;31mImportError\u001b[0m                               Traceback (most recent call last)",
      "Cell \u001b[1;32mIn[14], line 1\u001b[0m\n\u001b[1;32m----> 1\u001b[0m \u001b[38;5;28;01mfrom\u001b[39;00m \u001b[38;5;21;01mtransformers\u001b[39;00m \u001b[38;5;28;01mimport\u001b[39;00m TFDistilBertForSequenceClassification, TFTrainer, TFTrainingArguments\n\u001b[0;32m      4\u001b[0m training_args \u001b[38;5;241m=\u001b[39m TFTrainingArguments(\n\u001b[0;32m      5\u001b[0m     output_dir\u001b[38;5;241m=\u001b[39m\u001b[38;5;124m'\u001b[39m\u001b[38;5;124m./results\u001b[39m\u001b[38;5;124m'\u001b[39m,          \n\u001b[0;32m      6\u001b[0m     num_train_epochs\u001b[38;5;241m=\u001b[39m\u001b[38;5;241m7\u001b[39m,              \n\u001b[1;32m   (...)\u001b[0m\n\u001b[0;32m     12\u001b[0m     eval_steps\u001b[38;5;241m=\u001b[39m\u001b[38;5;241m100\u001b[39m                   \n\u001b[0;32m     13\u001b[0m )\n\u001b[0;32m     15\u001b[0m \u001b[38;5;28;01mwith\u001b[39;00m training_args\u001b[38;5;241m.\u001b[39mstrategy\u001b[38;5;241m.\u001b[39mscope():\n",
      "\u001b[1;31mImportError\u001b[0m: cannot import name 'TFTrainer' from 'transformers' (c:\\Users\\hp\\AppData\\Local\\Programs\\Python\\Python311\\Lib\\site-packages\\transformers\\__init__.py)"
     ]
    }
   ],
   "source": [
    "from transformers import TFDistilBertForSequenceClassification, TFTrainer, TFTrainingArguments\n",
    "\n",
    "\n",
    "training_args = TFTrainingArguments(\n",
    "    output_dir='./results',          \n",
    "    num_train_epochs=7,              \n",
    "    per_device_train_batch_size=16,  \n",
    "    per_device_eval_batch_size=64,   \n",
    "    warmup_steps=500,                \n",
    "    weight_decay=1e-5,               \n",
    "    logging_dir='./logs',            \n",
    "    eval_steps=100                   \n",
    ")\n",
    "\n",
    "with training_args.strategy.scope():\n",
    "    trainer_model = TFDistilBertForSequenceClassification.from_pretrained('distilbert-base-uncased', num_labels = 5 )\n",
    "\n",
    "\n",
    "trainer = TFTrainer(\n",
    "    model=trainer_model,                 \n",
    "    args=training_args,                  \n",
    "    train_dataset=train_dataset,         \n",
    "    eval_dataset=val_dataset,            \n",
    ")"
   ]
  },
  {
   "cell_type": "code",
   "execution_count": null,
   "metadata": {},
   "outputs": [],
   "source": [
    "trainer.train()"
   ]
  },
  {
   "cell_type": "code",
   "execution_count": null,
   "metadata": {},
   "outputs": [],
   "source": [
    "trainer.evaluate()"
   ]
  },
  {
   "cell_type": "code",
   "execution_count": null,
   "metadata": {},
   "outputs": [],
   "source": [
    "save_directory = r\"C:\\Users\\hp\\Desktop\\preply\\lars\\project\\module 4\\testing\" \n",
    "model.save_pretrained(save_directory)\n",
    "toknizer.save_pretrained(save_directory)"
   ]
  },
  {
   "cell_type": "code",
   "execution_count": null,
   "metadata": {},
   "outputs": [],
   "source": [
    "tokenizer_fine_tuned = DistilBertTokenizer.from_pretrained(save_directory)\n",
    "\n",
    "model_fine_tuned = TFDistilBertForSequenceClassification.from_pretrained(save_directory)"
   ]
  },
  {
   "cell_type": "code",
   "execution_count": null,
   "metadata": {},
   "outputs": [],
   "source": [
    "test_text = test_texts[0]\n",
    "\n",
    "test_text"
   ]
  },
  {
   "cell_type": "code",
   "execution_count": null,
   "metadata": {},
   "outputs": [],
   "source": [
    "predict_input = tokenizer_fine_tuned.encode(\n",
    "    test_text,\n",
    "    truncation = True,\n",
    "    padding = True,\n",
    "    return_tensors = 'tf'    \n",
    ")\n",
    "\n",
    "output = model_fine_tuned(predict_input)[0]\n",
    "\n",
    "prediction_value = tf.argmax(output, axis = 1).numpy()[0]\n",
    "\n",
    "prediction_value"
   ]
  },
  {
   "cell_type": "code",
   "execution_count": null,
   "metadata": {},
   "outputs": [],
   "source": [
    "import torch\n",
    "\n",
    "from transformers import DistilBertForSequenceClassification\n",
    "\n",
    "tokenizer_fine_tuned_pt = DistilBertTokenizer.from_pretrained(save_directory)\n",
    "\n",
    "\n",
    "model_fine_tuned_pt = DistilBertForSequenceClassification.from_pretrained(save_directory, from_tf = True )\n",
    "predict_input_pt = tokenizer_fine_tuned_pt(test_text, truncation = True, padding = True, return_tensors = 'pt' )\n",
    "\n",
    "ouput_pt = model_fine_tuned_pt(predict_input_pt)\n",
    "\n",
    "prediction_value_pt = torch.argmax(ouput_pt[0], dim = 1 ).item()\n",
    "\n",
    "prediction_value_pt"
   ]
  }
 ],
 "metadata": {
  "kernelspec": {
   "display_name": "Python 3",
   "language": "python",
   "name": "python3"
  },
  "language_info": {
   "codemirror_mode": {
    "name": "ipython",
    "version": 3
   },
   "file_extension": ".py",
   "mimetype": "text/x-python",
   "name": "python",
   "nbconvert_exporter": "python",
   "pygments_lexer": "ipython3",
   "version": "3.11.0"
  }
 },
 "nbformat": 4,
 "nbformat_minor": 2
}
