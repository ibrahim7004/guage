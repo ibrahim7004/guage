{
 "cells": [
  {
   "cell_type": "code",
   "execution_count": 1,
   "metadata": {},
   "outputs": [],
   "source": [
    "import pandas as pd\n",
    "\n",
    "csv_path = r'C:\\Users\\hp\\Desktop\\preply\\lars\\project\\module 2\\preprocessed_data.csv'\n",
    "df = pd.read_csv(csv_path)"
   ]
  },
  {
   "cell_type": "code",
   "execution_count": 2,
   "metadata": {},
   "outputs": [],
   "source": [
    "def display(df):\n",
    "    for index, row in df.iterrows():\n",
    "        print(row['Highlights'], \"\\n\", row['Investment Rationale'], \"\\n\", row['Industry Outlook'])"
   ]
  },
  {
   "cell_type": "code",
   "execution_count": 3,
   "metadata": {},
   "outputs": [
    {
     "data": {
      "text/html": [
       "<div>\n",
       "<style scoped>\n",
       "    .dataframe tbody tr th:only-of-type {\n",
       "        vertical-align: middle;\n",
       "    }\n",
       "\n",
       "    .dataframe tbody tr th {\n",
       "        vertical-align: top;\n",
       "    }\n",
       "\n",
       "    .dataframe thead th {\n",
       "        text-align: right;\n",
       "    }\n",
       "</style>\n",
       "<table border=\"1\" class=\"dataframe\">\n",
       "  <thead>\n",
       "    <tr style=\"text-align: right;\">\n",
       "      <th></th>\n",
       "      <th>Name</th>\n",
       "      <th>Highlights</th>\n",
       "      <th>Investment Rationale</th>\n",
       "      <th>Industry Outlook</th>\n",
       "    </tr>\n",
       "  </thead>\n",
       "  <tbody>\n",
       "    <tr>\n",
       "      <th>0</th>\n",
       "      <td>EQUITY Factsheet_ A.P. Moller - Maersk A_S</td>\n",
       "      <td>['highlight', 'maersk', 'ebitda', 'billion', '...</td>\n",
       "      <td>['invest', 'call', 'sell', 'believ', 'maersk',...</td>\n",
       "      <td>['industri', 'outlook', 'maintain', 'sector', ...</td>\n",
       "    </tr>\n",
       "  </tbody>\n",
       "</table>\n",
       "</div>"
      ],
      "text/plain": [
       "                                         Name  \\\n",
       "0  EQUITY Factsheet_ A.P. Moller - Maersk A_S   \n",
       "\n",
       "                                          Highlights  \\\n",
       "0  ['highlight', 'maersk', 'ebitda', 'billion', '...   \n",
       "\n",
       "                                Investment Rationale  \\\n",
       "0  ['invest', 'call', 'sell', 'believ', 'maersk',...   \n",
       "\n",
       "                                    Industry Outlook  \n",
       "0  ['industri', 'outlook', 'maintain', 'sector', ...  "
      ]
     },
     "execution_count": 3,
     "metadata": {},
     "output_type": "execute_result"
    }
   ],
   "source": [
    "df.head()"
   ]
  },
  {
   "cell_type": "markdown",
   "metadata": {},
   "source": [
    "    Removing titles from all the columns:"
   ]
  },
  {
   "cell_type": "code",
   "execution_count": 4,
   "metadata": {},
   "outputs": [],
   "source": [
    "df['Highlights'] = df['Highlights'].apply(lambda x: ' '.join(x.split()[1:]))\n",
    "df['Investment Rationale'] = df['Investment Rationale'].apply(lambda x: ' '.join(x.split()[1:]))\n",
    "df['Industry Outlook'] = df['Industry Outlook'].apply(lambda x: ' '.join(x.split()[2:]))\n"
   ]
  },
  {
   "cell_type": "code",
   "execution_count": 24,
   "metadata": {},
   "outputs": [
    {
     "name": "stdout",
     "output_type": "stream",
     "text": [
      "'maersk', 'ebitda', 'billion', 'consensu', 'estim', 'attribut', 'good', 'cost', 'manag', 'instead', 'strong', 'rate', 'fall', 'earn', 'mainli', 'caus', 'ocean', 'reduc', 'freight', 'rate', 'weaker', 'volum', 'maersk', 'lift', 'bottom', 'end', 'ebitda', 'guidanc', 'billion', 'billion', 'reflect', 'stronger', 'result', 'lower', 'market', 'volum', 'outlook', 'previous', 'continu', 'inventori', 'correct', 'till', 'end', 'think', 'impli', 'sequenti', 'drop', 'earn', 'reflect', 'ongo', 'declin', 'maersk', 'contract', 'rate', 'given', 'reset', 'level', 'nearer', 'spot', 'fallen', 'sharpli', 'sinc', 'also', 'gather', 'industri', 'suppli', 'new', 'vessel', 'may', 'increas', 'freight', 'capac', 'respect', 'think', 'outgrow', 'demand', 'caus', 'overcapac', 'deterior', 'freight', 'forecast', 'ep', 'expect', 'weak', 'freight', 'rate'] \n",
      " 'call', 'sell', 'believ', 'maersk', 'financi', 'perform', 'vulner', 'lower', 'freight', 'rate', 'downward', 'trend', 'due', 'continu', 'subdu', 'demand', 'eas', 'port', 'congest', 'releas', 'capac', 'back', 'furthermor', 'think', 'neg', 'feedback', 'loop', 'freight', 'rate', 'continu', 'think', 'custom', 'may', 'seek', 'renegoti', 'given', 'price', 'differenti', 'contract', 'spot', 'also', 'overhang', 'situat', 'may', 'amplifi', 'entri', 'new', 'vessel', 'project', 'increas', 'industri', 'suppli', 'nonetheless', 'posit', 'term', 'strategi', 'grow', 'logist', 'busi', 'complement', 'core', 'busi', 'upsid', 'risk', 'includ', 'strong', 'econom', 'growth', 'improv', 'ship', 'activ', 'posit', 'revers', 'freight', 'rate', 'effect', 'cost', 'target', 'price', 'maersk', 'reflect', 'broadli', 'line', 'peer', 'averag'] \n",
      " 'maintain', 'sector', 'recommend', 'emea', 'industri', 'sector', 'neutral', 'believ', 'key', 'issu', 'face', 'sector', 'surg', 'energi', 'price', 'aris', 'concern', 'potenti', 'suppli', 'disrupt', 'middl', 'howev', 'suppli', 'chain', 'disrupt', 'could', 'attribut', 'slower', 'demand', 'good', 'weak', 'economi', 'growth', 'past', 'month', 'shanghai', 'container', 'freight', 'index', 'scfi', 'declin', 'per', 'signal', 'weak', 'demand', 'global', 'movement', 'year', 'date', 'octob', 'emea', 'industri', 'index', 'p', 'versu', 'europ', 'index', 'increas', 'howev', 'emea', 'industri', 'sector', 'perform', 'europ', 'eurozon', 'annual', 'inflat', 'rate', 'drop', 'septemb', 'august', 'expect', 'lower', 'inflat', 'impact', 'posit', 'industri', 'sector', 'earn', 'lower', 'cost', 'widen', 'oper', 'industri', 'player', 'like', 'focu', 'revenu', 'growth', 'via', 'busi', 'volum', 'increas', 'instead', 'averag', 'sell', 'price', 'outlook', 'turn', 'posit', 'inflat', 'moder', 'although', 'partial', 'caus', 'high', 'base', 'case', 'comparison', 'howev', 'growth', 'momentum', 'like', 'slow', 'factor', 'china', 'reopen', 'far', 'gener', 'littl', 'demand', 'view', 'industri', 'player', 'shift', 'focu', 'grow', 'volum', 'instead', 'pass', 'increas', 'cost', 'inflat', 'cool', 'eurozon', 'manufactur', 'pmi', 'septemb', 'stand', 'littl', 'chang', 'compar', 'august', 'level', 'accord', 'find', 'contract', 'order', 'book', 'output', 'declin', 'trend', 'still', 'posit', 'side', 'price', 'input', 'materi', 'declin', 'manufactur', 'pass', 'cost', 'save', 'due', 'aircraft', 'engin', 'recal', 'issu', 'gear', 'turbofan', 'engin', 'neutral', 'aerospac', 'defens', 'posit', 'also', 'lower', 'opinion', 'neutral', 'although', 'airlin', 'player', 'like', 'benefit', 'global', 'aviat', 'sector', 'recoveri', 'due', 'normal', 'margin', 'could', 'affect', 'spike', 'jet', 'fuel', 'price', 'line', 'higher', 'crude', 'oil', 'price', 'posit', 'industri', 'machineri', 'industri', 'conglomer', 'industri', 'machineri', 'player', 'beneficiari', 'high', 'demand', 'due', 'energi', 'effici', 'industri', 'conglomer', 'strong', 'demand', 'electrif', 'sustain', 'servic', 'continu', 'support', 'revenu', 'focu', 'trade', 'compani', 'distributor', 'reduc', 'inventori', 'near', 'term', 'may', 'affect', 'margin', 'although', 'could', 'lead', 'stronger', 'cash', 'heavi', 'electr', 'equip', 'smoother', 'suppli', 'chain', 'lead', 'improv', 'revenu', 'howev', 'intens', 'competit', 'keep', 'margin', 'pside', 'less', 'posit', 'build', 'product', 'construct', 'machineri', 'heavi', 'truck', 'expect', 'build', 'product', 'revenu', 'affect', 'poor', 'demand', 'properti', 'slow', 'economi', 'construct', 'machineri', 'heavi', 'truck', 'sector', 'slower', 'economi', 'europ', 'affect', 'construct', 'activ', 'truck', 'demand', 'roll', 'alan', 'lim', 'seong', 'chun', 'cf']\n"
     ]
    }
   ],
   "source": [
    "display(df)"
   ]
  },
  {
   "cell_type": "markdown",
   "metadata": {},
   "source": [
    "    Vectorization:"
   ]
  },
  {
   "cell_type": "markdown",
   "metadata": {},
   "source": [
    "- Vectorization converts textual data into numerical vectors, which are suitable for machine learning algorithms. \n",
    "- It essentially transforms each text document into a vector in a high-dimensional space"
   ]
  },
  {
   "cell_type": "markdown",
   "metadata": {},
   "source": [
    "    Using TF-IDF Vectorization:\n",
    "\n",
    "- This component measures the frequency of a term (word) in a document. \n",
    "- It's calculated as the number of times a term appears in a document divided by the total number of terms in that document. \n",
    "- The idea is that terms with higher frequencies are more important to the document's content."
   ]
  },
  {
   "attachments": {
    "image.png": {
     "image/png": "[encoded data removed]"
    }
   },
   "cell_type": "markdown",
   "metadata": {},
   "source": [
    "![image.png](attachment:image.png)"
   ]
  },
  {
   "attachments": {
    "image.png": {
     "image/png": "[encoded data removed]"
    }
   },
   "cell_type": "markdown",
   "metadata": {},
   "source": [
    "![image.png](attachment:image.png)"
   ]
  },
  {
   "attachments": {
    "image.png": {
     "image/png": "[encoded data removed]"
    }
   },
   "cell_type": "markdown",
   "metadata": {},
   "source": [
    "![image.png](attachment:image.png)"
   ]
  },
  {
   "cell_type": "code",
   "execution_count": 5,
   "metadata": {},
   "outputs": [],
   "source": [
    "from sklearn.feature_extraction.text import TfidfVectorizer\n",
    "\n",
    "# Initialize TF-IDF Vectorizer\n",
    "tfidf_vectorizer = TfidfVectorizer()\n",
    "\n",
    "# Fit and transform the text columns using TF-IDF Vectorization\n",
    "tfidf_matrix = tfidf_vectorizer.fit_transform(df['Highlights'] + ' ' + df['Investment Rationale'] + ' ' + df['Industry Outlook'])\n",
    "\n",
    "# Convert the TF-IDF matrix to a DataFrame for better readability\n",
    "tfidf_df = pd.DataFrame(tfidf_matrix.toarray(), columns=tfidf_vectorizer.get_feature_names_out())"
   ]
  },
  {
   "cell_type": "code",
   "execution_count": 27,
   "metadata": {},
   "outputs": [
    {
     "data": {
      "text/html": [
       "<div>\n",
       "<style scoped>\n",
       "    .dataframe tbody tr th:only-of-type {\n",
       "        vertical-align: middle;\n",
       "    }\n",
       "\n",
       "    .dataframe tbody tr th {\n",
       "        vertical-align: top;\n",
       "    }\n",
       "\n",
       "    .dataframe thead th {\n",
       "        text-align: right;\n",
       "    }\n",
       "</style>\n",
       "<table border=\"1\" class=\"dataframe\">\n",
       "  <thead>\n",
       "    <tr style=\"text-align: right;\">\n",
       "      <th></th>\n",
       "      <th>accord</th>\n",
       "      <th>activ</th>\n",
       "      <th>aerospac</th>\n",
       "      <th>affect</th>\n",
       "      <th>aircraft</th>\n",
       "      <th>airlin</th>\n",
       "      <th>alan</th>\n",
       "      <th>also</th>\n",
       "      <th>although</th>\n",
       "      <th>amplifi</th>\n",
       "      <th>...</th>\n",
       "      <th>versu</th>\n",
       "      <th>vessel</th>\n",
       "      <th>via</th>\n",
       "      <th>view</th>\n",
       "      <th>volum</th>\n",
       "      <th>vulner</th>\n",
       "      <th>weak</th>\n",
       "      <th>weaker</th>\n",
       "      <th>widen</th>\n",
       "      <th>year</th>\n",
       "    </tr>\n",
       "  </thead>\n",
       "  <tbody>\n",
       "    <tr>\n",
       "      <th>0</th>\n",
       "      <td>0.02665</td>\n",
       "      <td>0.0533</td>\n",
       "      <td>0.02665</td>\n",
       "      <td>0.1066</td>\n",
       "      <td>0.02665</td>\n",
       "      <td>0.02665</td>\n",
       "      <td>0.02665</td>\n",
       "      <td>0.07995</td>\n",
       "      <td>0.07995</td>\n",
       "      <td>0.02665</td>\n",
       "      <td>...</td>\n",
       "      <td>0.02665</td>\n",
       "      <td>0.0533</td>\n",
       "      <td>0.02665</td>\n",
       "      <td>0.02665</td>\n",
       "      <td>0.1066</td>\n",
       "      <td>0.02665</td>\n",
       "      <td>0.07995</td>\n",
       "      <td>0.02665</td>\n",
       "      <td>0.02665</td>\n",
       "      <td>0.02665</td>\n",
       "    </tr>\n",
       "  </tbody>\n",
       "</table>\n",
       "<p>1 rows × 261 columns</p>\n",
       "</div>"
      ],
      "text/plain": [
       "    accord   activ  aerospac  affect  aircraft   airlin     alan     also  \\\n",
       "0  0.02665  0.0533   0.02665  0.1066   0.02665  0.02665  0.02665  0.07995   \n",
       "\n",
       "   although  amplifi  ...    versu  vessel      via     view   volum   vulner  \\\n",
       "0   0.07995  0.02665  ...  0.02665  0.0533  0.02665  0.02665  0.1066  0.02665   \n",
       "\n",
       "      weak   weaker    widen     year  \n",
       "0  0.07995  0.02665  0.02665  0.02665  \n",
       "\n",
       "[1 rows x 261 columns]"
      ]
     },
     "execution_count": 27,
     "metadata": {},
     "output_type": "execute_result"
    }
   ],
   "source": [
    "tfidf_df.head()"
   ]
  },
  {
   "cell_type": "code",
   "execution_count": 6,
   "metadata": {},
   "outputs": [],
   "source": [
    "tfidf_df.to_csv(r'C:\\Users\\hp\\Desktop\\preply\\lars\\project\\module 2\\vectorized_df.csv', index=False)"
   ]
  }
 ],
 "metadata": {
  "kernelspec": {
   "display_name": "Python 3",
   "language": "python",
   "name": "python3"
  },
  "language_info": {
   "codemirror_mode": {
    "name": "ipython",
    "version": 3
   },
   "file_extension": ".py",
   "mimetype": "text/x-python",
   "name": "python",
   "nbconvert_exporter": "python",
   "pygments_lexer": "ipython3",
   "version": "3.11.0"
  }
 },
 "nbformat": 4,
 "nbformat_minor": 2
}
