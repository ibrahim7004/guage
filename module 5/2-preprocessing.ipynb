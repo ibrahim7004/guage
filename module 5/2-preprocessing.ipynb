{
 "cells": [
  {
   "cell_type": "markdown",
   "metadata": {},
   "source": [
    "    Loading and reading our data:"
   ]
  },
  {
   "cell_type": "code",
   "execution_count": 53,
   "metadata": {},
   "outputs": [],
   "source": [
    "import pandas as pd\n",
    "\n",
    "csv_path = r'C:\\Users\\hp\\Desktop\\preply\\lars\\project\\module 5\\extracted_data.csv'\n",
    "\n",
    "df = pd.read_csv(csv_path)"
   ]
  },
  {
   "cell_type": "code",
   "execution_count": 2,
   "metadata": {},
   "outputs": [
    {
     "data": {
      "text/html": [
       "<div>\n",
       "<style scoped>\n",
       "    .dataframe tbody tr th:only-of-type {\n",
       "        vertical-align: middle;\n",
       "    }\n",
       "\n",
       "    .dataframe tbody tr th {\n",
       "        vertical-align: top;\n",
       "    }\n",
       "\n",
       "    .dataframe thead th {\n",
       "        text-align: right;\n",
       "    }\n",
       "</style>\n",
       "<table border=\"1\" class=\"dataframe\">\n",
       "  <thead>\n",
       "    <tr style=\"text-align: right;\">\n",
       "      <th></th>\n",
       "      <th>Name</th>\n",
       "      <th>Highlights</th>\n",
       "      <th>Investment Rationale</th>\n",
       "      <th>Industry Outlook</th>\n",
       "    </tr>\n",
       "  </thead>\n",
       "  <tbody>\n",
       "    <tr>\n",
       "      <th>0</th>\n",
       "      <td>EQUITY Factsheet_ A.P. Moller - Maersk A_S</td>\n",
       "      <td>Highlights\\nuMaersk’s Q2 2023 EBITDA of USD2.9...</td>\n",
       "      <td>Investment Rationale/Risk\\nuOur call is 2-STAR...</td>\n",
       "      <td>Industry Outlook\\nWe maintain our sector recom...</td>\n",
       "    </tr>\n",
       "    <tr>\n",
       "      <th>1</th>\n",
       "      <td>EQUITY Factsheet_ Abbott Laboratories</td>\n",
       "      <td>Highlights\\nuWe expect 2023 total sales to con...</td>\n",
       "      <td>Investment Rationale/Risk\\nuWe think shares of...</td>\n",
       "      <td>Industry Outlook\\nOur fundamental outlook for ...</td>\n",
       "    </tr>\n",
       "    <tr>\n",
       "      <th>2</th>\n",
       "      <td>EQUITY Factsheet_ AbbVie Inc.</td>\n",
       "      <td>Highlights\\nuIn 2023, we expect revenue growth...</td>\n",
       "      <td>Investment Rationale/Risk\\nuOur opinion on sha...</td>\n",
       "      <td>Industry Outlook\\nWe have a neutral outlook on...</td>\n",
       "    </tr>\n",
       "    <tr>\n",
       "      <th>3</th>\n",
       "      <td>EQUITY Factsheet_ Adobe Inc. (1)</td>\n",
       "      <td>Highlights\\nuWe project sales to grow 13% in F...</td>\n",
       "      <td>Investment Rationale/Risk\\nuOur Buy recommenda...</td>\n",
       "      <td>Industry Outlook\\nCFRA has a positive fundamen...</td>\n",
       "    </tr>\n",
       "    <tr>\n",
       "      <th>4</th>\n",
       "      <td>EQUITY Factsheet_ Advanced Energy Industries Inc.</td>\n",
       "      <td>Highlights\\nuTight supply conditions hurt AEIS...</td>\n",
       "      <td>Investment Rationale/Risk\\nuFollowing an exten...</td>\n",
       "      <td>Industry Outlook\\nWe have a neutral fundamenta...</td>\n",
       "    </tr>\n",
       "  </tbody>\n",
       "</table>\n",
       "</div>"
      ],
      "text/plain": [
       "                                                Name  \\\n",
       "0         EQUITY Factsheet_ A.P. Moller - Maersk A_S   \n",
       "1              EQUITY Factsheet_ Abbott Laboratories   \n",
       "2                      EQUITY Factsheet_ AbbVie Inc.   \n",
       "3                   EQUITY Factsheet_ Adobe Inc. (1)   \n",
       "4  EQUITY Factsheet_ Advanced Energy Industries Inc.   \n",
       "\n",
       "                                          Highlights  \\\n",
       "0  Highlights\\nuMaersk’s Q2 2023 EBITDA of USD2.9...   \n",
       "1  Highlights\\nuWe expect 2023 total sales to con...   \n",
       "2  Highlights\\nuIn 2023, we expect revenue growth...   \n",
       "3  Highlights\\nuWe project sales to grow 13% in F...   \n",
       "4  Highlights\\nuTight supply conditions hurt AEIS...   \n",
       "\n",
       "                                Investment Rationale  \\\n",
       "0  Investment Rationale/Risk\\nuOur call is 2-STAR...   \n",
       "1  Investment Rationale/Risk\\nuWe think shares of...   \n",
       "2  Investment Rationale/Risk\\nuOur opinion on sha...   \n",
       "3  Investment Rationale/Risk\\nuOur Buy recommenda...   \n",
       "4  Investment Rationale/Risk\\nuFollowing an exten...   \n",
       "\n",
       "                                    Industry Outlook  \n",
       "0  Industry Outlook\\nWe maintain our sector recom...  \n",
       "1  Industry Outlook\\nOur fundamental outlook for ...  \n",
       "2  Industry Outlook\\nWe have a neutral outlook on...  \n",
       "3  Industry Outlook\\nCFRA has a positive fundamen...  \n",
       "4  Industry Outlook\\nWe have a neutral fundamenta...  "
      ]
     },
     "execution_count": 2,
     "metadata": {},
     "output_type": "execute_result"
    }
   ],
   "source": [
    "df.head()"
   ]
  },
  {
   "cell_type": "markdown",
   "metadata": {},
   "source": [
    "    Removing 'u' for new bullets in the text:"
   ]
  },
  {
   "cell_type": "code",
   "execution_count": 54,
   "metadata": {},
   "outputs": [],
   "source": [
    "df = df.astype(str)\n",
    "\n",
    "# Remove 'u' characters from all columns\n",
    "df = df.apply(lambda x: x.str.replace(r'\\bu', '', regex=True))  # using regex python libraryto process our text better"
   ]
  },
  {
   "cell_type": "code",
   "execution_count": 4,
   "metadata": {},
   "outputs": [
    {
     "data": {
      "text/html": [
       "<div>\n",
       "<style scoped>\n",
       "    .dataframe tbody tr th:only-of-type {\n",
       "        vertical-align: middle;\n",
       "    }\n",
       "\n",
       "    .dataframe tbody tr th {\n",
       "        vertical-align: top;\n",
       "    }\n",
       "\n",
       "    .dataframe thead th {\n",
       "        text-align: right;\n",
       "    }\n",
       "</style>\n",
       "<table border=\"1\" class=\"dataframe\">\n",
       "  <thead>\n",
       "    <tr style=\"text-align: right;\">\n",
       "      <th></th>\n",
       "      <th>Name</th>\n",
       "      <th>Highlights</th>\n",
       "      <th>Investment Rationale</th>\n",
       "      <th>Industry Outlook</th>\n",
       "    </tr>\n",
       "  </thead>\n",
       "  <tbody>\n",
       "    <tr>\n",
       "      <th>0</th>\n",
       "      <td>EQUITY Factsheet_ A.P. Moller - Maersk A_S</td>\n",
       "      <td>Highlights\\nMaersk’s Q2 2023 EBITDA of USD2.9 ...</td>\n",
       "      <td>Investment Rationale/Risk\\nOur call is 2-STARS...</td>\n",
       "      <td>Industry Outlook\\nWe maintain our sector recom...</td>\n",
       "    </tr>\n",
       "    <tr>\n",
       "      <th>1</th>\n",
       "      <td>EQUITY Factsheet_ Abbott Laboratories</td>\n",
       "      <td>Highlights\\nWe expect 2023 total sales to cont...</td>\n",
       "      <td>Investment Rationale/Risk\\nWe think shares of ...</td>\n",
       "      <td>Industry Outlook\\nOur fundamental outlook for ...</td>\n",
       "    </tr>\n",
       "    <tr>\n",
       "      <th>2</th>\n",
       "      <td>EQUITY Factsheet_ AbbVie Inc.</td>\n",
       "      <td>Highlights\\nIn 2023, we expect revenue growth ...</td>\n",
       "      <td>Investment Rationale/Risk\\nOur opinion on shar...</td>\n",
       "      <td>Industry Outlook\\nWe have a neutral outlook on...</td>\n",
       "    </tr>\n",
       "    <tr>\n",
       "      <th>3</th>\n",
       "      <td>EQUITY Factsheet_ Adobe Inc. (1)</td>\n",
       "      <td>Highlights\\nWe project sales to grow 13% in FY...</td>\n",
       "      <td>Investment Rationale/Risk\\nOur Buy recommendat...</td>\n",
       "      <td>Industry Outlook\\nCFRA has a positive fundamen...</td>\n",
       "    </tr>\n",
       "    <tr>\n",
       "      <th>4</th>\n",
       "      <td>EQUITY Factsheet_ Advanced Energy Industries Inc.</td>\n",
       "      <td>Highlights\\nTight supply conditions hurt AEIS’...</td>\n",
       "      <td>Investment Rationale/Risk\\nFollowing an extend...</td>\n",
       "      <td>Industry Outlook\\nWe have a neutral fundamenta...</td>\n",
       "    </tr>\n",
       "  </tbody>\n",
       "</table>\n",
       "</div>"
      ],
      "text/plain": [
       "                                                Name  \\\n",
       "0         EQUITY Factsheet_ A.P. Moller - Maersk A_S   \n",
       "1              EQUITY Factsheet_ Abbott Laboratories   \n",
       "2                      EQUITY Factsheet_ AbbVie Inc.   \n",
       "3                   EQUITY Factsheet_ Adobe Inc. (1)   \n",
       "4  EQUITY Factsheet_ Advanced Energy Industries Inc.   \n",
       "\n",
       "                                          Highlights  \\\n",
       "0  Highlights\\nMaersk’s Q2 2023 EBITDA of USD2.9 ...   \n",
       "1  Highlights\\nWe expect 2023 total sales to cont...   \n",
       "2  Highlights\\nIn 2023, we expect revenue growth ...   \n",
       "3  Highlights\\nWe project sales to grow 13% in FY...   \n",
       "4  Highlights\\nTight supply conditions hurt AEIS’...   \n",
       "\n",
       "                                Investment Rationale  \\\n",
       "0  Investment Rationale/Risk\\nOur call is 2-STARS...   \n",
       "1  Investment Rationale/Risk\\nWe think shares of ...   \n",
       "2  Investment Rationale/Risk\\nOur opinion on shar...   \n",
       "3  Investment Rationale/Risk\\nOur Buy recommendat...   \n",
       "4  Investment Rationale/Risk\\nFollowing an extend...   \n",
       "\n",
       "                                    Industry Outlook  \n",
       "0  Industry Outlook\\nWe maintain our sector recom...  \n",
       "1  Industry Outlook\\nOur fundamental outlook for ...  \n",
       "2  Industry Outlook\\nWe have a neutral outlook on...  \n",
       "3  Industry Outlook\\nCFRA has a positive fundamen...  \n",
       "4  Industry Outlook\\nWe have a neutral fundamenta...  "
      ]
     },
     "execution_count": 4,
     "metadata": {},
     "output_type": "execute_result"
    }
   ],
   "source": [
    "df.head()"
   ]
  },
  {
   "cell_type": "markdown",
   "metadata": {},
   "source": [
    "    Lowercasing:"
   ]
  },
  {
   "cell_type": "markdown",
   "metadata": {},
   "source": [
    "- This ensures uniformity in our text, which is important for analysis.\n",
    "- Ensures a standard formatting, so as to not focus on irrelevant features of the text."
   ]
  },
  {
   "cell_type": "code",
   "execution_count": 55,
   "metadata": {},
   "outputs": [],
   "source": [
    "df['Highlights'] = df['Highlights'].str.lower() # Text converted to lowercase for the column 'Highlights'\n",
    "df['Investment Rationale'] = df['Investment Rationale'].str.lower()\n",
    "df['Industry Outlook'] = df['Industry Outlook'].str.lower()"
   ]
  },
  {
   "cell_type": "code",
   "execution_count": 6,
   "metadata": {},
   "outputs": [
    {
     "data": {
      "text/html": [
       "<div>\n",
       "<style scoped>\n",
       "    .dataframe tbody tr th:only-of-type {\n",
       "        vertical-align: middle;\n",
       "    }\n",
       "\n",
       "    .dataframe tbody tr th {\n",
       "        vertical-align: top;\n",
       "    }\n",
       "\n",
       "    .dataframe thead th {\n",
       "        text-align: right;\n",
       "    }\n",
       "</style>\n",
       "<table border=\"1\" class=\"dataframe\">\n",
       "  <thead>\n",
       "    <tr style=\"text-align: right;\">\n",
       "      <th></th>\n",
       "      <th>Name</th>\n",
       "      <th>Highlights</th>\n",
       "      <th>Investment Rationale</th>\n",
       "      <th>Industry Outlook</th>\n",
       "    </tr>\n",
       "  </thead>\n",
       "  <tbody>\n",
       "    <tr>\n",
       "      <th>0</th>\n",
       "      <td>EQUITY Factsheet_ A.P. Moller - Maersk A_S</td>\n",
       "      <td>highlights\\nmaersk’s q2 2023 ebitda of usd2.9 ...</td>\n",
       "      <td>investment rationale/risk\\nour call is 2-stars...</td>\n",
       "      <td>industry outlook\\nwe maintain our sector recom...</td>\n",
       "    </tr>\n",
       "    <tr>\n",
       "      <th>1</th>\n",
       "      <td>EQUITY Factsheet_ Abbott Laboratories</td>\n",
       "      <td>highlights\\nwe expect 2023 total sales to cont...</td>\n",
       "      <td>investment rationale/risk\\nwe think shares of ...</td>\n",
       "      <td>industry outlook\\nour fundamental outlook for ...</td>\n",
       "    </tr>\n",
       "    <tr>\n",
       "      <th>2</th>\n",
       "      <td>EQUITY Factsheet_ AbbVie Inc.</td>\n",
       "      <td>highlights\\nin 2023, we expect revenue growth ...</td>\n",
       "      <td>investment rationale/risk\\nour opinion on shar...</td>\n",
       "      <td>industry outlook\\nwe have a neutral outlook on...</td>\n",
       "    </tr>\n",
       "    <tr>\n",
       "      <th>3</th>\n",
       "      <td>EQUITY Factsheet_ Adobe Inc. (1)</td>\n",
       "      <td>highlights\\nwe project sales to grow 13% in fy...</td>\n",
       "      <td>investment rationale/risk\\nour buy recommendat...</td>\n",
       "      <td>industry outlook\\ncfra has a positive fundamen...</td>\n",
       "    </tr>\n",
       "    <tr>\n",
       "      <th>4</th>\n",
       "      <td>EQUITY Factsheet_ Advanced Energy Industries Inc.</td>\n",
       "      <td>highlights\\ntight supply conditions hurt aeis’...</td>\n",
       "      <td>investment rationale/risk\\nfollowing an extend...</td>\n",
       "      <td>industry outlook\\nwe have a neutral fundamenta...</td>\n",
       "    </tr>\n",
       "  </tbody>\n",
       "</table>\n",
       "</div>"
      ],
      "text/plain": [
       "                                                Name  \\\n",
       "0         EQUITY Factsheet_ A.P. Moller - Maersk A_S   \n",
       "1              EQUITY Factsheet_ Abbott Laboratories   \n",
       "2                      EQUITY Factsheet_ AbbVie Inc.   \n",
       "3                   EQUITY Factsheet_ Adobe Inc. (1)   \n",
       "4  EQUITY Factsheet_ Advanced Energy Industries Inc.   \n",
       "\n",
       "                                          Highlights  \\\n",
       "0  highlights\\nmaersk’s q2 2023 ebitda of usd2.9 ...   \n",
       "1  highlights\\nwe expect 2023 total sales to cont...   \n",
       "2  highlights\\nin 2023, we expect revenue growth ...   \n",
       "3  highlights\\nwe project sales to grow 13% in fy...   \n",
       "4  highlights\\ntight supply conditions hurt aeis’...   \n",
       "\n",
       "                                Investment Rationale  \\\n",
       "0  investment rationale/risk\\nour call is 2-stars...   \n",
       "1  investment rationale/risk\\nwe think shares of ...   \n",
       "2  investment rationale/risk\\nour opinion on shar...   \n",
       "3  investment rationale/risk\\nour buy recommendat...   \n",
       "4  investment rationale/risk\\nfollowing an extend...   \n",
       "\n",
       "                                    Industry Outlook  \n",
       "0  industry outlook\\nwe maintain our sector recom...  \n",
       "1  industry outlook\\nour fundamental outlook for ...  \n",
       "2  industry outlook\\nwe have a neutral outlook on...  \n",
       "3  industry outlook\\ncfra has a positive fundamen...  \n",
       "4  industry outlook\\nwe have a neutral fundamenta...  "
      ]
     },
     "execution_count": 6,
     "metadata": {},
     "output_type": "execute_result"
    }
   ],
   "source": [
    "df.head()"
   ]
  },
  {
   "cell_type": "markdown",
   "metadata": {},
   "source": [
    "    Tokenization:"
   ]
  },
  {
   "cell_type": "code",
   "execution_count": 56,
   "metadata": {},
   "outputs": [
    {
     "name": "stderr",
     "output_type": "stream",
     "text": [
      "[nltk_data] Downloading package punkt to\n",
      "[nltk_data]     C:\\Users\\hp\\AppData\\Roaming\\nltk_data...\n",
      "[nltk_data]   Package punkt is already up-to-date!\n"
     ]
    }
   ],
   "source": [
    "import nltk\n",
    "from nltk.tokenize.toktok import ToktokTokenizer \n",
    "\n",
    "nltk.download('punkt')  # 'punkt' tokenizer module must be downloaded to use tokenization in nltk\n",
    "\n",
    "tokenizer=ToktokTokenizer() # Initializing the Toktok tokenizer\n",
    "\n",
    "# tokenize text in 'highlights' using our initialized instance of toktoktokenizer:\n",
    "df['Highlights'] = df['Highlights'].apply(tokenizer.tokenize)   \n",
    "df['Industry Outlook'] = df['Industry Outlook'].apply(tokenizer.tokenize)   \n",
    "df['Investment Rationale'] = df['Investment Rationale'].apply(tokenizer.tokenize)   "
   ]
  },
  {
   "cell_type": "code",
   "execution_count": 8,
   "metadata": {},
   "outputs": [
    {
     "data": {
      "text/html": [
       "<div>\n",
       "<style scoped>\n",
       "    .dataframe tbody tr th:only-of-type {\n",
       "        vertical-align: middle;\n",
       "    }\n",
       "\n",
       "    .dataframe tbody tr th {\n",
       "        vertical-align: top;\n",
       "    }\n",
       "\n",
       "    .dataframe thead th {\n",
       "        text-align: right;\n",
       "    }\n",
       "</style>\n",
       "<table border=\"1\" class=\"dataframe\">\n",
       "  <thead>\n",
       "    <tr style=\"text-align: right;\">\n",
       "      <th></th>\n",
       "      <th>Name</th>\n",
       "      <th>Highlights</th>\n",
       "      <th>Investment Rationale</th>\n",
       "      <th>Industry Outlook</th>\n",
       "    </tr>\n",
       "  </thead>\n",
       "  <tbody>\n",
       "    <tr>\n",
       "      <th>0</th>\n",
       "      <td>EQUITY Factsheet_ A.P. Moller - Maersk A_S</td>\n",
       "      <td>[highlights, maersk, ’, s, q2, 2023, ebitda, o...</td>\n",
       "      <td>[investment, rationale/risk, our, call, is, 2-...</td>\n",
       "      <td>[industry, outlook, we, maintain, our, sector,...</td>\n",
       "    </tr>\n",
       "    <tr>\n",
       "      <th>1</th>\n",
       "      <td>EQUITY Factsheet_ Abbott Laboratories</td>\n",
       "      <td>[highlights, we, expect, 2023, total, sales, t...</td>\n",
       "      <td>[investment, rationale/risk, we, think, shares...</td>\n",
       "      <td>[industry, outlook, our, fundamental, outlook,...</td>\n",
       "    </tr>\n",
       "    <tr>\n",
       "      <th>2</th>\n",
       "      <td>EQUITY Factsheet_ AbbVie Inc.</td>\n",
       "      <td>[highlights, in, 2023, ,, we, expect, revenue,...</td>\n",
       "      <td>[investment, rationale/risk, our, opinion, on,...</td>\n",
       "      <td>[industry, outlook, we, have, a, neutral, outl...</td>\n",
       "    </tr>\n",
       "    <tr>\n",
       "      <th>3</th>\n",
       "      <td>EQUITY Factsheet_ Adobe Inc. (1)</td>\n",
       "      <td>[highlights, we, project, sales, to, grow, 13,...</td>\n",
       "      <td>[investment, rationale/risk, our, buy, recomme...</td>\n",
       "      <td>[industry, outlook, cfra, has, a, positive, fu...</td>\n",
       "    </tr>\n",
       "    <tr>\n",
       "      <th>4</th>\n",
       "      <td>EQUITY Factsheet_ Advanced Energy Industries Inc.</td>\n",
       "      <td>[highlights, tight, supply, conditions, hurt, ...</td>\n",
       "      <td>[investment, rationale/risk, following, an, ex...</td>\n",
       "      <td>[industry, outlook, we, have, a, neutral, fund...</td>\n",
       "    </tr>\n",
       "  </tbody>\n",
       "</table>\n",
       "</div>"
      ],
      "text/plain": [
       "                                                Name  \\\n",
       "0         EQUITY Factsheet_ A.P. Moller - Maersk A_S   \n",
       "1              EQUITY Factsheet_ Abbott Laboratories   \n",
       "2                      EQUITY Factsheet_ AbbVie Inc.   \n",
       "3                   EQUITY Factsheet_ Adobe Inc. (1)   \n",
       "4  EQUITY Factsheet_ Advanced Energy Industries Inc.   \n",
       "\n",
       "                                          Highlights  \\\n",
       "0  [highlights, maersk, ’, s, q2, 2023, ebitda, o...   \n",
       "1  [highlights, we, expect, 2023, total, sales, t...   \n",
       "2  [highlights, in, 2023, ,, we, expect, revenue,...   \n",
       "3  [highlights, we, project, sales, to, grow, 13,...   \n",
       "4  [highlights, tight, supply, conditions, hurt, ...   \n",
       "\n",
       "                                Investment Rationale  \\\n",
       "0  [investment, rationale/risk, our, call, is, 2-...   \n",
       "1  [investment, rationale/risk, we, think, shares...   \n",
       "2  [investment, rationale/risk, our, opinion, on,...   \n",
       "3  [investment, rationale/risk, our, buy, recomme...   \n",
       "4  [investment, rationale/risk, following, an, ex...   \n",
       "\n",
       "                                    Industry Outlook  \n",
       "0  [industry, outlook, we, maintain, our, sector,...  \n",
       "1  [industry, outlook, our, fundamental, outlook,...  \n",
       "2  [industry, outlook, we, have, a, neutral, outl...  \n",
       "3  [industry, outlook, cfra, has, a, positive, fu...  \n",
       "4  [industry, outlook, we, have, a, neutral, fund...  "
      ]
     },
     "execution_count": 8,
     "metadata": {},
     "output_type": "execute_result"
    }
   ],
   "source": [
    "df.head()"
   ]
  },
  {
   "cell_type": "markdown",
   "metadata": {},
   "source": [
    "    Removing Punctuation:"
   ]
  },
  {
   "cell_type": "code",
   "execution_count": 57,
   "metadata": {},
   "outputs": [],
   "source": [
    "# Defining a function to remove punc. marks from a list of words \n",
    "\n",
    "import string\n",
    "\n",
    "def remove_punc(tokens):\n",
    "    # Initialize an empty list to store tokens without punctuation:\n",
    "    tokens_without_punc_marks = []\n",
    "\n",
    "    # Create a for loop to iterate through each token in the input list:\n",
    "    for i in tokens:    # i stands for iterator\n",
    "        if i not in string.punctuation: # Checking whether token is NOT a punctuation mark\n",
    "            tokens_without_punc_marks.append(i) # Add token to the list if it is NOT a punc. mark\n",
    "\n",
    "    return tokens_without_punc_marks"
   ]
  },
  {
   "cell_type": "code",
   "execution_count": 58,
   "metadata": {},
   "outputs": [],
   "source": [
    "df['Highlights'] = df['Highlights'].apply(remove_punc)\n",
    "df['Investment Rationale'] = df['Investment Rationale'].apply(remove_punc)\n",
    "df['Industry Outlook'] = df['Industry Outlook'].apply(remove_punc)"
   ]
  },
  {
   "cell_type": "code",
   "execution_count": 12,
   "metadata": {},
   "outputs": [
    {
     "data": {
      "text/html": [
       "<div>\n",
       "<style scoped>\n",
       "    .dataframe tbody tr th:only-of-type {\n",
       "        vertical-align: middle;\n",
       "    }\n",
       "\n",
       "    .dataframe tbody tr th {\n",
       "        vertical-align: top;\n",
       "    }\n",
       "\n",
       "    .dataframe thead th {\n",
       "        text-align: right;\n",
       "    }\n",
       "</style>\n",
       "<table border=\"1\" class=\"dataframe\">\n",
       "  <thead>\n",
       "    <tr style=\"text-align: right;\">\n",
       "      <th></th>\n",
       "      <th>Name</th>\n",
       "      <th>Highlights</th>\n",
       "      <th>Investment Rationale</th>\n",
       "      <th>Industry Outlook</th>\n",
       "    </tr>\n",
       "  </thead>\n",
       "  <tbody>\n",
       "    <tr>\n",
       "      <th>0</th>\n",
       "      <td>EQUITY Factsheet_ A.P. Moller - Maersk A_S</td>\n",
       "      <td>[highlights, maersk, ’, s, q2, 2023, ebitda, o...</td>\n",
       "      <td>[investment, rationale/risk, our, call, is, 2-...</td>\n",
       "      <td>[industry, outlook, we, maintain, our, sector,...</td>\n",
       "    </tr>\n",
       "    <tr>\n",
       "      <th>1</th>\n",
       "      <td>EQUITY Factsheet_ Abbott Laboratories</td>\n",
       "      <td>[highlights, we, expect, 2023, total, sales, t...</td>\n",
       "      <td>[investment, rationale/risk, we, think, shares...</td>\n",
       "      <td>[industry, outlook, our, fundamental, outlook,...</td>\n",
       "    </tr>\n",
       "    <tr>\n",
       "      <th>2</th>\n",
       "      <td>EQUITY Factsheet_ AbbVie Inc.</td>\n",
       "      <td>[highlights, in, 2023, we, expect, revenue, gr...</td>\n",
       "      <td>[investment, rationale/risk, our, opinion, on,...</td>\n",
       "      <td>[industry, outlook, we, have, a, neutral, outl...</td>\n",
       "    </tr>\n",
       "    <tr>\n",
       "      <th>3</th>\n",
       "      <td>EQUITY Factsheet_ Adobe Inc. (1)</td>\n",
       "      <td>[highlights, we, project, sales, to, grow, 13,...</td>\n",
       "      <td>[investment, rationale/risk, our, buy, recomme...</td>\n",
       "      <td>[industry, outlook, cfra, has, a, positive, fu...</td>\n",
       "    </tr>\n",
       "    <tr>\n",
       "      <th>4</th>\n",
       "      <td>EQUITY Factsheet_ Advanced Energy Industries Inc.</td>\n",
       "      <td>[highlights, tight, supply, conditions, hurt, ...</td>\n",
       "      <td>[investment, rationale/risk, following, an, ex...</td>\n",
       "      <td>[industry, outlook, we, have, a, neutral, fund...</td>\n",
       "    </tr>\n",
       "  </tbody>\n",
       "</table>\n",
       "</div>"
      ],
      "text/plain": [
       "                                                Name  \\\n",
       "0         EQUITY Factsheet_ A.P. Moller - Maersk A_S   \n",
       "1              EQUITY Factsheet_ Abbott Laboratories   \n",
       "2                      EQUITY Factsheet_ AbbVie Inc.   \n",
       "3                   EQUITY Factsheet_ Adobe Inc. (1)   \n",
       "4  EQUITY Factsheet_ Advanced Energy Industries Inc.   \n",
       "\n",
       "                                          Highlights  \\\n",
       "0  [highlights, maersk, ’, s, q2, 2023, ebitda, o...   \n",
       "1  [highlights, we, expect, 2023, total, sales, t...   \n",
       "2  [highlights, in, 2023, we, expect, revenue, gr...   \n",
       "3  [highlights, we, project, sales, to, grow, 13,...   \n",
       "4  [highlights, tight, supply, conditions, hurt, ...   \n",
       "\n",
       "                                Investment Rationale  \\\n",
       "0  [investment, rationale/risk, our, call, is, 2-...   \n",
       "1  [investment, rationale/risk, we, think, shares...   \n",
       "2  [investment, rationale/risk, our, opinion, on,...   \n",
       "3  [investment, rationale/risk, our, buy, recomme...   \n",
       "4  [investment, rationale/risk, following, an, ex...   \n",
       "\n",
       "                                    Industry Outlook  \n",
       "0  [industry, outlook, we, maintain, our, sector,...  \n",
       "1  [industry, outlook, our, fundamental, outlook,...  \n",
       "2  [industry, outlook, we, have, a, neutral, outl...  \n",
       "3  [industry, outlook, cfra, has, a, positive, fu...  \n",
       "4  [industry, outlook, we, have, a, neutral, fund...  "
      ]
     },
     "execution_count": 12,
     "metadata": {},
     "output_type": "execute_result"
    }
   ],
   "source": [
    "df.head()"
   ]
  },
  {
   "cell_type": "markdown",
   "metadata": {},
   "source": [
    "Using string.punctuation to remove the punc. marks, results in removal of the following:\n",
    "- (\n",
    "- )\n",
    "- ,\n",
    "- .\n",
    "- '-'\n",
    "- /\n",
    "- %"
   ]
  },
  {
   "cell_type": "markdown",
   "metadata": {},
   "source": [
    "    Removing Stopwords:"
   ]
  },
  {
   "cell_type": "code",
   "execution_count": 59,
   "metadata": {},
   "outputs": [
    {
     "name": "stderr",
     "output_type": "stream",
     "text": [
      "[nltk_data] Downloading package stopwords to\n",
      "[nltk_data]     C:\\Users\\hp\\AppData\\Roaming\\nltk_data...\n",
      "[nltk_data]   Package stopwords is already up-to-date!\n"
     ]
    }
   ],
   "source": [
    "nltk.download('stopwords')\n",
    "stopword_list = nltk.corpus.stopwords.words('english')\n",
    "\n",
    "def remove_stopwords(tokens):\n",
    "    filtered_tokens = []\n",
    "\n",
    "    for i in tokens:\n",
    "        if i not in stopword_list:\n",
    "            filtered_tokens.append(i)\n",
    "    \n",
    "    return filtered_tokens"
   ]
  },
  {
   "cell_type": "code",
   "execution_count": 60,
   "metadata": {},
   "outputs": [],
   "source": [
    "df['Highlights'] = df['Highlights'].apply(remove_stopwords)\n",
    "df['Investment Rationale'] = df['Investment Rationale'].apply(remove_stopwords)\n",
    "df['Industry Outlook'] = df['Industry Outlook'].apply(remove_stopwords)"
   ]
  },
  {
   "cell_type": "code",
   "execution_count": 15,
   "metadata": {},
   "outputs": [
    {
     "data": {
      "text/html": [
       "<div>\n",
       "<style scoped>\n",
       "    .dataframe tbody tr th:only-of-type {\n",
       "        vertical-align: middle;\n",
       "    }\n",
       "\n",
       "    .dataframe tbody tr th {\n",
       "        vertical-align: top;\n",
       "    }\n",
       "\n",
       "    .dataframe thead th {\n",
       "        text-align: right;\n",
       "    }\n",
       "</style>\n",
       "<table border=\"1\" class=\"dataframe\">\n",
       "  <thead>\n",
       "    <tr style=\"text-align: right;\">\n",
       "      <th></th>\n",
       "      <th>Name</th>\n",
       "      <th>Highlights</th>\n",
       "      <th>Investment Rationale</th>\n",
       "      <th>Industry Outlook</th>\n",
       "    </tr>\n",
       "  </thead>\n",
       "  <tbody>\n",
       "    <tr>\n",
       "      <th>0</th>\n",
       "      <td>EQUITY Factsheet_ A.P. Moller - Maersk A_S</td>\n",
       "      <td>[highlights, maersk, ’, q2, 2023, ebitda, usd2...</td>\n",
       "      <td>[investment, rationale/risk, call, 2-stars, se...</td>\n",
       "      <td>[industry, outlook, maintain, sector, recommen...</td>\n",
       "    </tr>\n",
       "    <tr>\n",
       "      <th>1</th>\n",
       "      <td>EQUITY Factsheet_ Abbott Laboratories</td>\n",
       "      <td>[highlights, expect, 2023, total, sales, contr...</td>\n",
       "      <td>[investment, rationale/risk, think, shares, ab...</td>\n",
       "      <td>[industry, outlook, fundamental, outlook, heal...</td>\n",
       "    </tr>\n",
       "    <tr>\n",
       "      <th>2</th>\n",
       "      <td>EQUITY Factsheet_ AbbVie Inc.</td>\n",
       "      <td>[highlights, 2023, expect, revenue, growth, 53...</td>\n",
       "      <td>[investment, rationale/risk, opinion, shares, ...</td>\n",
       "      <td>[industry, outlook, neutral, outlook, biotech,...</td>\n",
       "    </tr>\n",
       "    <tr>\n",
       "      <th>3</th>\n",
       "      <td>EQUITY Factsheet_ Adobe Inc. (1)</td>\n",
       "      <td>[highlights, project, sales, grow, 13, fy, 202...</td>\n",
       "      <td>[investment, rationale/risk, buy, recommendati...</td>\n",
       "      <td>[industry, outlook, cfra, positive, fundamenta...</td>\n",
       "    </tr>\n",
       "    <tr>\n",
       "      <th>4</th>\n",
       "      <td>EQUITY Factsheet_ Advanced Energy Industries Inc.</td>\n",
       "      <td>[highlights, tight, supply, conditions, hurt, ...</td>\n",
       "      <td>[investment, rationale/risk, following, extend...</td>\n",
       "      <td>[industry, outlook, neutral, fundamental, outl...</td>\n",
       "    </tr>\n",
       "  </tbody>\n",
       "</table>\n",
       "</div>"
      ],
      "text/plain": [
       "                                                Name  \\\n",
       "0         EQUITY Factsheet_ A.P. Moller - Maersk A_S   \n",
       "1              EQUITY Factsheet_ Abbott Laboratories   \n",
       "2                      EQUITY Factsheet_ AbbVie Inc.   \n",
       "3                   EQUITY Factsheet_ Adobe Inc. (1)   \n",
       "4  EQUITY Factsheet_ Advanced Energy Industries Inc.   \n",
       "\n",
       "                                          Highlights  \\\n",
       "0  [highlights, maersk, ’, q2, 2023, ebitda, usd2...   \n",
       "1  [highlights, expect, 2023, total, sales, contr...   \n",
       "2  [highlights, 2023, expect, revenue, growth, 53...   \n",
       "3  [highlights, project, sales, grow, 13, fy, 202...   \n",
       "4  [highlights, tight, supply, conditions, hurt, ...   \n",
       "\n",
       "                                Investment Rationale  \\\n",
       "0  [investment, rationale/risk, call, 2-stars, se...   \n",
       "1  [investment, rationale/risk, think, shares, ab...   \n",
       "2  [investment, rationale/risk, opinion, shares, ...   \n",
       "3  [investment, rationale/risk, buy, recommendati...   \n",
       "4  [investment, rationale/risk, following, extend...   \n",
       "\n",
       "                                    Industry Outlook  \n",
       "0  [industry, outlook, maintain, sector, recommen...  \n",
       "1  [industry, outlook, fundamental, outlook, heal...  \n",
       "2  [industry, outlook, neutral, outlook, biotech,...  \n",
       "3  [industry, outlook, cfra, positive, fundamenta...  \n",
       "4  [industry, outlook, neutral, fundamental, outl...  "
      ]
     },
     "execution_count": 15,
     "metadata": {},
     "output_type": "execute_result"
    }
   ],
   "source": [
    "df.head()"
   ]
  },
  {
   "cell_type": "markdown",
   "metadata": {},
   "source": [
    "- Importing stopwords list from NLTK ('stopwords') and download the English stopwords using nltk.download('English')\n",
    "- Using a lambda func and list comprehension to remove stopwords from each i (token) in the text by checking whether the token is not in the set of stopwords (stop_words)."
   ]
  },
  {
   "cell_type": "markdown",
   "metadata": {},
   "source": [
    "Lemmatization:\n",
    "\n",
    "- Lemmatization standardizes words to their base or root forms (lemmas), reducing redundancy and ambiguity in text data.\n",
    "- It reduces the vocabulary size, which can lead to more efficient and accurate NLP models, including sentiment analysis models.\n",
    "- Lemmatization enhances text understanding, improves model performance by handling lexical variations, and ensures compatibility with language-specific rules and morphology."
   ]
  },
  {
   "cell_type": "markdown",
   "metadata": {},
   "source": [
    "Using stemming instead, since it is similar to lemmatization but was used in course."
   ]
  },
  {
   "cell_type": "markdown",
   "metadata": {},
   "source": [
    "     Stemming:"
   ]
  },
  {
   "cell_type": "code",
   "execution_count": 61,
   "metadata": {},
   "outputs": [
    {
     "name": "stderr",
     "output_type": "stream",
     "text": [
      "[nltk_data] Downloading package punkt to\n",
      "[nltk_data]     C:\\Users\\hp\\AppData\\Roaming\\nltk_data...\n",
      "[nltk_data]   Package punkt is already up-to-date!\n",
      "[nltk_data] Downloading package stopwords to\n",
      "[nltk_data]     C:\\Users\\hp\\AppData\\Roaming\\nltk_data...\n",
      "[nltk_data]   Package stopwords is already up-to-date!\n"
     ]
    }
   ],
   "source": [
    "from nltk.stem import PorterStemmer\n",
    "\n",
    "nltk.download('punkt')\n",
    "nltk.download('stopwords')\n",
    "\n",
    "stemmer = nltk.porter.PorterStemmer()\n",
    "\n",
    "# Without using list comp. (defining a func to perform stemming):\n",
    "def stem_tokens(tokens):\n",
    "    stemmed_tokens = []\n",
    "\n",
    "    for i in tokens:\n",
    "        stemmed_tokens. append(stemmer.stem(i)) # Passing current token to stem it.\n",
    "\n",
    "    return stemmed_tokens"
   ]
  },
  {
   "cell_type": "code",
   "execution_count": 62,
   "metadata": {},
   "outputs": [],
   "source": [
    "df['Highlights'] = df['Highlights'].apply(stem_tokens)\n",
    "df['Investment Rationale'] = df['Investment Rationale'].apply(stem_tokens)\n",
    "df['Industry Outlook'] = df['Industry Outlook'].apply(stem_tokens)"
   ]
  },
  {
   "cell_type": "code",
   "execution_count": 63,
   "metadata": {},
   "outputs": [
    {
     "data": {
      "text/html": [
       "<div>\n",
       "<style scoped>\n",
       "    .dataframe tbody tr th:only-of-type {\n",
       "        vertical-align: middle;\n",
       "    }\n",
       "\n",
       "    .dataframe tbody tr th {\n",
       "        vertical-align: top;\n",
       "    }\n",
       "\n",
       "    .dataframe thead th {\n",
       "        text-align: right;\n",
       "    }\n",
       "</style>\n",
       "<table border=\"1\" class=\"dataframe\">\n",
       "  <thead>\n",
       "    <tr style=\"text-align: right;\">\n",
       "      <th></th>\n",
       "      <th>Name</th>\n",
       "      <th>Highlights</th>\n",
       "      <th>Investment Rationale</th>\n",
       "      <th>Industry Outlook</th>\n",
       "    </tr>\n",
       "  </thead>\n",
       "  <tbody>\n",
       "    <tr>\n",
       "      <th>0</th>\n",
       "      <td>EQUITY Factsheet_ A.P. Moller - Maersk A_S</td>\n",
       "      <td>[highlight, maersk, ’, q2, 2023, ebitda, usd2....</td>\n",
       "      <td>[invest, rationale/risk, call, 2-star, sell, b...</td>\n",
       "      <td>[industri, outlook, maintain, sector, recommen...</td>\n",
       "    </tr>\n",
       "    <tr>\n",
       "      <th>1</th>\n",
       "      <td>EQUITY Factsheet_ Abbott Laboratories</td>\n",
       "      <td>[highlight, expect, 2023, total, sale, contrac...</td>\n",
       "      <td>[invest, rationale/risk, think, share, abt, ou...</td>\n",
       "      <td>[industri, outlook, fundament, outlook, health...</td>\n",
       "    </tr>\n",
       "    <tr>\n",
       "      <th>2</th>\n",
       "      <td>EQUITY Factsheet_ AbbVie Inc.</td>\n",
       "      <td>[highlight, 2023, expect, revenu, growth, 53.2...</td>\n",
       "      <td>[invest, rationale/risk, opinion, share, abbvi...</td>\n",
       "      <td>[industri, outlook, neutral, outlook, biotech,...</td>\n",
       "    </tr>\n",
       "    <tr>\n",
       "      <th>3</th>\n",
       "      <td>EQUITY Factsheet_ Adobe Inc. (1)</td>\n",
       "      <td>[highlight, project, sale, grow, 13, fy, 2024,...</td>\n",
       "      <td>[invest, rationale/risk, buy, recommend, refle...</td>\n",
       "      <td>[industri, outlook, cfra, posit, fundament, ou...</td>\n",
       "    </tr>\n",
       "    <tr>\n",
       "      <th>4</th>\n",
       "      <td>EQUITY Factsheet_ Advanced Energy Industries Inc.</td>\n",
       "      <td>[highlight, tight, suppli, condit, hurt, aei, ...</td>\n",
       "      <td>[invest, rationale/risk, follow, extend, perio...</td>\n",
       "      <td>[industri, outlook, neutral, fundament, outloo...</td>\n",
       "    </tr>\n",
       "  </tbody>\n",
       "</table>\n",
       "</div>"
      ],
      "text/plain": [
       "                                                Name  \\\n",
       "0         EQUITY Factsheet_ A.P. Moller - Maersk A_S   \n",
       "1              EQUITY Factsheet_ Abbott Laboratories   \n",
       "2                      EQUITY Factsheet_ AbbVie Inc.   \n",
       "3                   EQUITY Factsheet_ Adobe Inc. (1)   \n",
       "4  EQUITY Factsheet_ Advanced Energy Industries Inc.   \n",
       "\n",
       "                                          Highlights  \\\n",
       "0  [highlight, maersk, ’, q2, 2023, ebitda, usd2....   \n",
       "1  [highlight, expect, 2023, total, sale, contrac...   \n",
       "2  [highlight, 2023, expect, revenu, growth, 53.2...   \n",
       "3  [highlight, project, sale, grow, 13, fy, 2024,...   \n",
       "4  [highlight, tight, suppli, condit, hurt, aei, ...   \n",
       "\n",
       "                                Investment Rationale  \\\n",
       "0  [invest, rationale/risk, call, 2-star, sell, b...   \n",
       "1  [invest, rationale/risk, think, share, abt, ou...   \n",
       "2  [invest, rationale/risk, opinion, share, abbvi...   \n",
       "3  [invest, rationale/risk, buy, recommend, refle...   \n",
       "4  [invest, rationale/risk, follow, extend, perio...   \n",
       "\n",
       "                                    Industry Outlook  \n",
       "0  [industri, outlook, maintain, sector, recommen...  \n",
       "1  [industri, outlook, fundament, outlook, health...  \n",
       "2  [industri, outlook, neutral, outlook, biotech,...  \n",
       "3  [industri, outlook, cfra, posit, fundament, ou...  \n",
       "4  [industri, outlook, neutral, fundament, outloo...  "
      ]
     },
     "execution_count": 63,
     "metadata": {},
     "output_type": "execute_result"
    }
   ],
   "source": [
    "df.head()"
   ]
  },
  {
   "cell_type": "markdown",
   "metadata": {},
   "source": [
    "    Removal of non-alphabetic tokens:"
   ]
  },
  {
   "cell_type": "code",
   "execution_count": 64,
   "metadata": {},
   "outputs": [],
   "source": [
    "def remove_nums(tokens):\n",
    "    alphabetic_tokens = []  # empty list to store alphabetic tokens only!\n",
    "\n",
    "    for i in tokens:\n",
    "        if i.isalpha(): # checks if the token contains only alphabetic characters.\n",
    "            alphabetic_tokens.append(i)\n",
    "    \n",
    "    return alphabetic_tokens"
   ]
  },
  {
   "cell_type": "code",
   "execution_count": 65,
   "metadata": {},
   "outputs": [],
   "source": [
    "df['Highlights'] = df['Highlights'].apply(remove_nums)\n",
    "df['Investment Rationale'] = df['Investment Rationale'].apply(remove_nums)\n",
    "df['Industry Outlook'] = df['Industry Outlook'].apply(remove_nums)"
   ]
  },
  {
   "cell_type": "code",
   "execution_count": 21,
   "metadata": {},
   "outputs": [
    {
     "data": {
      "text/html": [
       "<div>\n",
       "<style scoped>\n",
       "    .dataframe tbody tr th:only-of-type {\n",
       "        vertical-align: middle;\n",
       "    }\n",
       "\n",
       "    .dataframe tbody tr th {\n",
       "        vertical-align: top;\n",
       "    }\n",
       "\n",
       "    .dataframe thead th {\n",
       "        text-align: right;\n",
       "    }\n",
       "</style>\n",
       "<table border=\"1\" class=\"dataframe\">\n",
       "  <thead>\n",
       "    <tr style=\"text-align: right;\">\n",
       "      <th></th>\n",
       "      <th>Name</th>\n",
       "      <th>Highlights</th>\n",
       "      <th>Investment Rationale</th>\n",
       "      <th>Industry Outlook</th>\n",
       "    </tr>\n",
       "  </thead>\n",
       "  <tbody>\n",
       "    <tr>\n",
       "      <th>0</th>\n",
       "      <td>EQUITY Factsheet_ A.P. Moller - Maersk A_S</td>\n",
       "      <td>[highlight, maersk, ebitda, billion, consensu,...</td>\n",
       "      <td>[invest, call, sell, believ, maersk, financi, ...</td>\n",
       "      <td>[industri, outlook, maintain, sector, recommen...</td>\n",
       "    </tr>\n",
       "    <tr>\n",
       "      <th>1</th>\n",
       "      <td>EQUITY Factsheet_ Abbott Laboratories</td>\n",
       "      <td>[highlight, expect, total, sale, contract, bil...</td>\n",
       "      <td>[invest, think, share, abt, outperform, market...</td>\n",
       "      <td>[industri, outlook, fundament, outlook, health...</td>\n",
       "    </tr>\n",
       "    <tr>\n",
       "      <th>2</th>\n",
       "      <td>EQUITY Factsheet_ AbbVie Inc.</td>\n",
       "      <td>[highlight, expect, revenu, growth, billion, d...</td>\n",
       "      <td>[invest, opinion, share, abbvi, hold, follow, ...</td>\n",
       "      <td>[industri, outlook, neutral, outlook, biotech,...</td>\n",
       "    </tr>\n",
       "    <tr>\n",
       "      <th>3</th>\n",
       "      <td>EQUITY Factsheet_ Adobe Inc. (1)</td>\n",
       "      <td>[highlight, project, sale, grow, fy, fy, compa...</td>\n",
       "      <td>[invest, buy, recommend, reflect, view, potent...</td>\n",
       "      <td>[industri, outlook, cfra, posit, fundament, ou...</td>\n",
       "    </tr>\n",
       "    <tr>\n",
       "      <th>4</th>\n",
       "      <td>EQUITY Factsheet_ Advanced Energy Industries Inc.</td>\n",
       "      <td>[highlight, tight, suppli, condit, hurt, aei, ...</td>\n",
       "      <td>[invest, follow, extend, period, aei, abil, so...</td>\n",
       "      <td>[industri, outlook, neutral, fundament, outloo...</td>\n",
       "    </tr>\n",
       "  </tbody>\n",
       "</table>\n",
       "</div>"
      ],
      "text/plain": [
       "                                                Name  \\\n",
       "0         EQUITY Factsheet_ A.P. Moller - Maersk A_S   \n",
       "1              EQUITY Factsheet_ Abbott Laboratories   \n",
       "2                      EQUITY Factsheet_ AbbVie Inc.   \n",
       "3                   EQUITY Factsheet_ Adobe Inc. (1)   \n",
       "4  EQUITY Factsheet_ Advanced Energy Industries Inc.   \n",
       "\n",
       "                                          Highlights  \\\n",
       "0  [highlight, maersk, ebitda, billion, consensu,...   \n",
       "1  [highlight, expect, total, sale, contract, bil...   \n",
       "2  [highlight, expect, revenu, growth, billion, d...   \n",
       "3  [highlight, project, sale, grow, fy, fy, compa...   \n",
       "4  [highlight, tight, suppli, condit, hurt, aei, ...   \n",
       "\n",
       "                                Investment Rationale  \\\n",
       "0  [invest, call, sell, believ, maersk, financi, ...   \n",
       "1  [invest, think, share, abt, outperform, market...   \n",
       "2  [invest, opinion, share, abbvi, hold, follow, ...   \n",
       "3  [invest, buy, recommend, reflect, view, potent...   \n",
       "4  [invest, follow, extend, period, aei, abil, so...   \n",
       "\n",
       "                                    Industry Outlook  \n",
       "0  [industri, outlook, maintain, sector, recommen...  \n",
       "1  [industri, outlook, fundament, outlook, health...  \n",
       "2  [industri, outlook, neutral, outlook, biotech,...  \n",
       "3  [industri, outlook, cfra, posit, fundament, ou...  \n",
       "4  [industri, outlook, neutral, fundament, outloo...  "
      ]
     },
     "execution_count": 21,
     "metadata": {},
     "output_type": "execute_result"
    }
   ],
   "source": [
    "df.head()"
   ]
  },
  {
   "cell_type": "markdown",
   "metadata": {},
   "source": [
    "    Removing Titles (Section Headings) from each entry:"
   ]
  },
  {
   "cell_type": "code",
   "execution_count": 66,
   "metadata": {},
   "outputs": [],
   "source": [
    "df['Highlights'] = df['Highlights'].apply(lambda x: x[1:])\n",
    "df['Investment Rationale'] = df['Investment Rationale'].apply(lambda x: x[1:])\n",
    "df['Industry Outlook'] = df['Industry Outlook'].apply(lambda x: x[2:])"
   ]
  },
  {
   "cell_type": "code",
   "execution_count": 67,
   "metadata": {},
   "outputs": [
    {
     "data": {
      "text/html": [
       "<div>\n",
       "<style scoped>\n",
       "    .dataframe tbody tr th:only-of-type {\n",
       "        vertical-align: middle;\n",
       "    }\n",
       "\n",
       "    .dataframe tbody tr th {\n",
       "        vertical-align: top;\n",
       "    }\n",
       "\n",
       "    .dataframe thead th {\n",
       "        text-align: right;\n",
       "    }\n",
       "</style>\n",
       "<table border=\"1\" class=\"dataframe\">\n",
       "  <thead>\n",
       "    <tr style=\"text-align: right;\">\n",
       "      <th></th>\n",
       "      <th>Name</th>\n",
       "      <th>Highlights</th>\n",
       "      <th>Investment Rationale</th>\n",
       "      <th>Industry Outlook</th>\n",
       "    </tr>\n",
       "  </thead>\n",
       "  <tbody>\n",
       "    <tr>\n",
       "      <th>0</th>\n",
       "      <td>EQUITY Factsheet_ A.P. Moller - Maersk A_S</td>\n",
       "      <td>[maersk, ebitda, billion, consensu, estim, att...</td>\n",
       "      <td>[call, sell, believ, maersk, financi, perform,...</td>\n",
       "      <td>[maintain, sector, recommend, emea, industri, ...</td>\n",
       "    </tr>\n",
       "    <tr>\n",
       "      <th>1</th>\n",
       "      <td>EQUITY Factsheet_ Abbott Laboratories</td>\n",
       "      <td>[expect, total, sale, contract, billion, follo...</td>\n",
       "      <td>[think, share, abt, outperform, market, peer, ...</td>\n",
       "      <td>[fundament, outlook, health, care, equip, medi...</td>\n",
       "    </tr>\n",
       "    <tr>\n",
       "      <th>2</th>\n",
       "      <td>EQUITY Factsheet_ AbbVie Inc.</td>\n",
       "      <td>[expect, revenu, growth, billion, decreas, ant...</td>\n",
       "      <td>[opinion, share, abbvi, hold, follow, earn, ne...</td>\n",
       "      <td>[neutral, outlook, biotech, expect, lower, dem...</td>\n",
       "    </tr>\n",
       "    <tr>\n",
       "      <th>3</th>\n",
       "      <td>EQUITY Factsheet_ Adobe Inc. (1)</td>\n",
       "      <td>[project, sale, grow, fy, fy, compar, outlook,...</td>\n",
       "      <td>[buy, recommend, reflect, view, potenti, ai, m...</td>\n",
       "      <td>[cfra, posit, fundament, outlook, applic, soft...</td>\n",
       "    </tr>\n",
       "    <tr>\n",
       "      <th>4</th>\n",
       "      <td>EQUITY Factsheet_ Advanced Energy Industries Inc.</td>\n",
       "      <td>[tight, suppli, condit, hurt, aei, abil, capit...</td>\n",
       "      <td>[follow, extend, period, aei, abil, sourc, nec...</td>\n",
       "      <td>[neutral, fundament, outlook, electron, equip,...</td>\n",
       "    </tr>\n",
       "  </tbody>\n",
       "</table>\n",
       "</div>"
      ],
      "text/plain": [
       "                                                Name  \\\n",
       "0         EQUITY Factsheet_ A.P. Moller - Maersk A_S   \n",
       "1              EQUITY Factsheet_ Abbott Laboratories   \n",
       "2                      EQUITY Factsheet_ AbbVie Inc.   \n",
       "3                   EQUITY Factsheet_ Adobe Inc. (1)   \n",
       "4  EQUITY Factsheet_ Advanced Energy Industries Inc.   \n",
       "\n",
       "                                          Highlights  \\\n",
       "0  [maersk, ebitda, billion, consensu, estim, att...   \n",
       "1  [expect, total, sale, contract, billion, follo...   \n",
       "2  [expect, revenu, growth, billion, decreas, ant...   \n",
       "3  [project, sale, grow, fy, fy, compar, outlook,...   \n",
       "4  [tight, suppli, condit, hurt, aei, abil, capit...   \n",
       "\n",
       "                                Investment Rationale  \\\n",
       "0  [call, sell, believ, maersk, financi, perform,...   \n",
       "1  [think, share, abt, outperform, market, peer, ...   \n",
       "2  [opinion, share, abbvi, hold, follow, earn, ne...   \n",
       "3  [buy, recommend, reflect, view, potenti, ai, m...   \n",
       "4  [follow, extend, period, aei, abil, sourc, nec...   \n",
       "\n",
       "                                    Industry Outlook  \n",
       "0  [maintain, sector, recommend, emea, industri, ...  \n",
       "1  [fundament, outlook, health, care, equip, medi...  \n",
       "2  [neutral, outlook, biotech, expect, lower, dem...  \n",
       "3  [cfra, posit, fundament, outlook, applic, soft...  \n",
       "4  [neutral, fundament, outlook, electron, equip,...  "
      ]
     },
     "execution_count": 67,
     "metadata": {},
     "output_type": "execute_result"
    }
   ],
   "source": [
    "df.head()"
   ]
  },
  {
   "cell_type": "code",
   "execution_count": 68,
   "metadata": {},
   "outputs": [
    {
     "name": "stdout",
     "output_type": "stream",
     "text": [
      "Preprocessing File saved to Module 5\n"
     ]
    }
   ],
   "source": [
    "csv_path = r'C:\\Users\\hp\\Desktop\\preply\\lars\\project\\module 5\\preprocessed_data.csv'\n",
    "\n",
    "df.to_csv(csv_path, index=False)\n",
    "\n",
    "print('Preprocessing File saved to Module 5')"
   ]
  }
 ],
 "metadata": {
  "kernelspec": {
   "display_name": "Python 3",
   "language": "python",
   "name": "python3"
  },
  "language_info": {
   "codemirror_mode": {
    "name": "ipython",
    "version": 3
   },
   "file_extension": ".py",
   "mimetype": "text/x-python",
   "name": "python",
   "nbconvert_exporter": "python",
   "pygments_lexer": "ipython3",
   "version": "3.11.0"
  }
 },
 "nbformat": 4,
 "nbformat_minor": 2
}
