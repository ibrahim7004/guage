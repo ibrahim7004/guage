{
 "cells": [
  {
   "cell_type": "code",
   "execution_count": 1,
   "metadata": {},
   "outputs": [],
   "source": [
    "file_path = r'C:\\Users\\hp\\Desktop\\preply\\lars\\project\\module 5\\preprocessed_data.csv'"
   ]
  },
  {
   "cell_type": "code",
   "execution_count": 3,
   "metadata": {},
   "outputs": [],
   "source": [
    "import pandas as pd\n",
    "\n",
    "df = pd.read_csv(file_path)"
   ]
  },
  {
   "cell_type": "code",
   "execution_count": 4,
   "metadata": {},
   "outputs": [
    {
     "data": {
      "text/html": [
       "<div>\n",
       "<style scoped>\n",
       "    .dataframe tbody tr th:only-of-type {\n",
       "        vertical-align: middle;\n",
       "    }\n",
       "\n",
       "    .dataframe tbody tr th {\n",
       "        vertical-align: top;\n",
       "    }\n",
       "\n",
       "    .dataframe thead th {\n",
       "        text-align: right;\n",
       "    }\n",
       "</style>\n",
       "<table border=\"1\" class=\"dataframe\">\n",
       "  <thead>\n",
       "    <tr style=\"text-align: right;\">\n",
       "      <th></th>\n",
       "      <th>Name</th>\n",
       "      <th>Highlights</th>\n",
       "      <th>Investment Rationale</th>\n",
       "      <th>Industry Outlook</th>\n",
       "    </tr>\n",
       "  </thead>\n",
       "  <tbody>\n",
       "    <tr>\n",
       "      <th>0</th>\n",
       "      <td>EQUITY Factsheet_ A.P. Moller - Maersk A_S</td>\n",
       "      <td>['maersk', 'ebitda', 'billion', 'consensu', 'e...</td>\n",
       "      <td>['call', 'sell', 'believ', 'maersk', 'financi'...</td>\n",
       "      <td>['maintain', 'sector', 'recommend', 'emea', 'i...</td>\n",
       "    </tr>\n",
       "    <tr>\n",
       "      <th>1</th>\n",
       "      <td>EQUITY Factsheet_ Abbott Laboratories</td>\n",
       "      <td>['expect', 'total', 'sale', 'contract', 'billi...</td>\n",
       "      <td>['think', 'share', 'abt', 'outperform', 'marke...</td>\n",
       "      <td>['fundament', 'outlook', 'health', 'care', 'eq...</td>\n",
       "    </tr>\n",
       "    <tr>\n",
       "      <th>2</th>\n",
       "      <td>EQUITY Factsheet_ AbbVie Inc.</td>\n",
       "      <td>['expect', 'revenu', 'growth', 'billion', 'dec...</td>\n",
       "      <td>['opinion', 'share', 'abbvi', 'hold', 'follow'...</td>\n",
       "      <td>['neutral', 'outlook', 'biotech', 'expect', 'l...</td>\n",
       "    </tr>\n",
       "    <tr>\n",
       "      <th>3</th>\n",
       "      <td>EQUITY Factsheet_ Adobe Inc. (1)</td>\n",
       "      <td>['project', 'sale', 'grow', 'fy', 'fy', 'compa...</td>\n",
       "      <td>['buy', 'recommend', 'reflect', 'view', 'poten...</td>\n",
       "      <td>['cfra', 'posit', 'fundament', 'outlook', 'app...</td>\n",
       "    </tr>\n",
       "    <tr>\n",
       "      <th>4</th>\n",
       "      <td>EQUITY Factsheet_ Advanced Energy Industries Inc.</td>\n",
       "      <td>['tight', 'suppli', 'condit', 'hurt', 'aei', '...</td>\n",
       "      <td>['follow', 'extend', 'period', 'aei', 'abil', ...</td>\n",
       "      <td>['neutral', 'fundament', 'outlook', 'electron'...</td>\n",
       "    </tr>\n",
       "  </tbody>\n",
       "</table>\n",
       "</div>"
      ],
      "text/plain": [
       "                                                Name  \\\n",
       "0         EQUITY Factsheet_ A.P. Moller - Maersk A_S   \n",
       "1              EQUITY Factsheet_ Abbott Laboratories   \n",
       "2                      EQUITY Factsheet_ AbbVie Inc.   \n",
       "3                   EQUITY Factsheet_ Adobe Inc. (1)   \n",
       "4  EQUITY Factsheet_ Advanced Energy Industries Inc.   \n",
       "\n",
       "                                          Highlights  \\\n",
       "0  ['maersk', 'ebitda', 'billion', 'consensu', 'e...   \n",
       "1  ['expect', 'total', 'sale', 'contract', 'billi...   \n",
       "2  ['expect', 'revenu', 'growth', 'billion', 'dec...   \n",
       "3  ['project', 'sale', 'grow', 'fy', 'fy', 'compa...   \n",
       "4  ['tight', 'suppli', 'condit', 'hurt', 'aei', '...   \n",
       "\n",
       "                                Investment Rationale  \\\n",
       "0  ['call', 'sell', 'believ', 'maersk', 'financi'...   \n",
       "1  ['think', 'share', 'abt', 'outperform', 'marke...   \n",
       "2  ['opinion', 'share', 'abbvi', 'hold', 'follow'...   \n",
       "3  ['buy', 'recommend', 'reflect', 'view', 'poten...   \n",
       "4  ['follow', 'extend', 'period', 'aei', 'abil', ...   \n",
       "\n",
       "                                    Industry Outlook  \n",
       "0  ['maintain', 'sector', 'recommend', 'emea', 'i...  \n",
       "1  ['fundament', 'outlook', 'health', 'care', 'eq...  \n",
       "2  ['neutral', 'outlook', 'biotech', 'expect', 'l...  \n",
       "3  ['cfra', 'posit', 'fundament', 'outlook', 'app...  \n",
       "4  ['neutral', 'fundament', 'outlook', 'electron'...  "
      ]
     },
     "execution_count": 4,
     "metadata": {},
     "output_type": "execute_result"
    }
   ],
   "source": [
    "df.head()"
   ]
  },
  {
   "cell_type": "code",
   "execution_count": 5,
   "metadata": {},
   "outputs": [
    {
     "data": {
      "text/plain": [
       "834"
      ]
     },
     "execution_count": 5,
     "metadata": {},
     "output_type": "execute_result"
    }
   ],
   "source": [
    "len(df['Highlights'][0])"
   ]
  },
  {
   "cell_type": "code",
   "execution_count": 17,
   "metadata": {},
   "outputs": [
    {
     "data": {
      "text/plain": [
       "4501"
      ]
     },
     "execution_count": 17,
     "metadata": {},
     "output_type": "execute_result"
    }
   ],
   "source": [
    "len(df['Highlights'][0]) + len(df['Investment Rationale'][0]) + len(df['Industry Outlook'][0])"
   ]
  },
  {
   "cell_type": "code",
   "execution_count": 6,
   "metadata": {},
   "outputs": [],
   "source": [
    "# Create the 'Content' column by concatenating text from 'Highlights', 'Investment Rationale', and 'Industry Outlook'\n",
    "df['Content'] = df['Highlights'] + ' ' + df['Investment Rationale'] + ' ' + df['Industry Outlook']\n",
    "\n",
    "# Create a new DataFrame with only 'Name' and 'Content' columns\n",
    "central_df = df[['Name', 'Content']]"
   ]
  },
  {
   "cell_type": "code",
   "execution_count": 12,
   "metadata": {},
   "outputs": [
    {
     "data": {
      "text/html": [
       "<div>\n",
       "<style scoped>\n",
       "    .dataframe tbody tr th:only-of-type {\n",
       "        vertical-align: middle;\n",
       "    }\n",
       "\n",
       "    .dataframe tbody tr th {\n",
       "        vertical-align: top;\n",
       "    }\n",
       "\n",
       "    .dataframe thead th {\n",
       "        text-align: right;\n",
       "    }\n",
       "</style>\n",
       "<table border=\"1\" class=\"dataframe\">\n",
       "  <thead>\n",
       "    <tr style=\"text-align: right;\">\n",
       "      <th></th>\n",
       "      <th>Name</th>\n",
       "      <th>Content</th>\n",
       "    </tr>\n",
       "  </thead>\n",
       "  <tbody>\n",
       "    <tr>\n",
       "      <th>0</th>\n",
       "      <td>EQUITY Factsheet_ A.P. Moller - Maersk A_S</td>\n",
       "      <td>['maersk', 'ebitda', 'billion', 'consensu', 'e...</td>\n",
       "    </tr>\n",
       "    <tr>\n",
       "      <th>1</th>\n",
       "      <td>EQUITY Factsheet_ Abbott Laboratories</td>\n",
       "      <td>['expect', 'total', 'sale', 'contract', 'billi...</td>\n",
       "    </tr>\n",
       "    <tr>\n",
       "      <th>2</th>\n",
       "      <td>EQUITY Factsheet_ AbbVie Inc.</td>\n",
       "      <td>['expect', 'revenu', 'growth', 'billion', 'dec...</td>\n",
       "    </tr>\n",
       "    <tr>\n",
       "      <th>3</th>\n",
       "      <td>EQUITY Factsheet_ Adobe Inc. (1)</td>\n",
       "      <td>['project', 'sale', 'grow', 'fy', 'fy', 'compa...</td>\n",
       "    </tr>\n",
       "    <tr>\n",
       "      <th>4</th>\n",
       "      <td>EQUITY Factsheet_ Advanced Energy Industries Inc.</td>\n",
       "      <td>['tight', 'suppli', 'condit', 'hurt', 'aei', '...</td>\n",
       "    </tr>\n",
       "  </tbody>\n",
       "</table>\n",
       "</div>"
      ],
      "text/plain": [
       "                                                Name  \\\n",
       "0         EQUITY Factsheet_ A.P. Moller - Maersk A_S   \n",
       "1              EQUITY Factsheet_ Abbott Laboratories   \n",
       "2                      EQUITY Factsheet_ AbbVie Inc.   \n",
       "3                   EQUITY Factsheet_ Adobe Inc. (1)   \n",
       "4  EQUITY Factsheet_ Advanced Energy Industries Inc.   \n",
       "\n",
       "                                             Content  \n",
       "0  ['maersk', 'ebitda', 'billion', 'consensu', 'e...  \n",
       "1  ['expect', 'total', 'sale', 'contract', 'billi...  \n",
       "2  ['expect', 'revenu', 'growth', 'billion', 'dec...  \n",
       "3  ['project', 'sale', 'grow', 'fy', 'fy', 'compa...  \n",
       "4  ['tight', 'suppli', 'condit', 'hurt', 'aei', '...  "
      ]
     },
     "execution_count": 12,
     "metadata": {},
     "output_type": "execute_result"
    }
   ],
   "source": [
    "central_df.head()"
   ]
  },
  {
   "cell_type": "code",
   "execution_count": 16,
   "metadata": {},
   "outputs": [
    {
     "data": {
      "text/plain": [
       "4503"
      ]
     },
     "execution_count": 16,
     "metadata": {},
     "output_type": "execute_result"
    }
   ],
   "source": [
    "len(central_df['Content'][0])"
   ]
  },
  {
   "cell_type": "code",
   "execution_count": 7,
   "metadata": {},
   "outputs": [
    {
     "name": "stdout",
     "output_type": "stream",
     "text": [
      "Consolidated Data saved to Module 5.\n"
     ]
    }
   ],
   "source": [
    "csv_path = r'C:\\Users\\hp\\Desktop\\preply\\lars\\project\\module 5\\consolidated_data.csv'\n",
    "\n",
    "central_df.to_csv(csv_path, index=False)\n",
    "\n",
    "print('Consolidated Data saved to Module 5.')"
   ]
  }
 ],
 "metadata": {
  "kernelspec": {
   "display_name": "Python 3",
   "language": "python",
   "name": "python3"
  },
  "language_info": {
   "codemirror_mode": {
    "name": "ipython",
    "version": 3
   },
   "file_extension": ".py",
   "mimetype": "text/x-python",
   "name": "python",
   "nbconvert_exporter": "python",
   "pygments_lexer": "ipython3",
   "version": "3.11.0"
  }
 },
 "nbformat": 4,
 "nbformat_minor": 2
}
