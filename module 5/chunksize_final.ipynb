{
 "cells": [
  {
   "cell_type": "code",
   "execution_count": 1,
   "metadata": {},
   "outputs": [
    {
     "name": "stderr",
     "output_type": "stream",
     "text": [
      "c:\\Users\\hp\\AppData\\Local\\Programs\\Python\\Python311\\Lib\\site-packages\\requests\\__init__.py:102: RequestsDependencyWarning: urllib3 (1.26.15) or chardet (5.2.0)/charset_normalizer (2.0.12) doesn't match a supported version!\n",
      "  warnings.warn(\"urllib3 ({}) or chardet ({})/charset_normalizer ({}) doesn't match a supported \"\n"
     ]
    }
   ],
   "source": [
    "import pandas as pd\n",
    "from transformers import AutoTokenizer, AutoModelForSequenceClassification\n",
    "import torch\n",
    "\n",
    "tokenizer = AutoTokenizer.from_pretrained(\"mrm8488/distilroberta-finetuned-financial-news-sentiment-analysis\")\n",
    "model = AutoModelForSequenceClassification.from_pretrained(\"mrm8488/distilroberta-finetuned-financial-news-sentiment-analysis\")"
   ]
  },
  {
   "cell_type": "code",
   "execution_count": 2,
   "metadata": {},
   "outputs": [],
   "source": [
    "csv_path = r'C:\\Users\\hp\\Desktop\\preply\\lars\\project\\module 5\\consolidated_data.csv'\n",
    "df = pd.read_csv(csv_path)"
   ]
  },
  {
   "cell_type": "code",
   "execution_count": 3,
   "metadata": {},
   "outputs": [
    {
     "data": {
      "text/html": [
       "<div>\n",
       "<style scoped>\n",
       "    .dataframe tbody tr th:only-of-type {\n",
       "        vertical-align: middle;\n",
       "    }\n",
       "\n",
       "    .dataframe tbody tr th {\n",
       "        vertical-align: top;\n",
       "    }\n",
       "\n",
       "    .dataframe thead th {\n",
       "        text-align: right;\n",
       "    }\n",
       "</style>\n",
       "<table border=\"1\" class=\"dataframe\">\n",
       "  <thead>\n",
       "    <tr style=\"text-align: right;\">\n",
       "      <th></th>\n",
       "      <th>Name</th>\n",
       "      <th>Content</th>\n",
       "    </tr>\n",
       "  </thead>\n",
       "  <tbody>\n",
       "    <tr>\n",
       "      <th>0</th>\n",
       "      <td>EQUITY Factsheet_ A.P. Moller - Maersk A_S</td>\n",
       "      <td>['maersk', 'ebitda', 'billion', 'consensu', 'e...</td>\n",
       "    </tr>\n",
       "    <tr>\n",
       "      <th>1</th>\n",
       "      <td>EQUITY Factsheet_ Abbott Laboratories</td>\n",
       "      <td>['expect', 'total', 'sale', 'contract', 'billi...</td>\n",
       "    </tr>\n",
       "    <tr>\n",
       "      <th>2</th>\n",
       "      <td>EQUITY Factsheet_ AbbVie Inc.</td>\n",
       "      <td>['expect', 'revenu', 'growth', 'billion', 'dec...</td>\n",
       "    </tr>\n",
       "    <tr>\n",
       "      <th>3</th>\n",
       "      <td>EQUITY Factsheet_ Adobe Inc. (1)</td>\n",
       "      <td>['project', 'sale', 'grow', 'fy', 'fy', 'compa...</td>\n",
       "    </tr>\n",
       "    <tr>\n",
       "      <th>4</th>\n",
       "      <td>EQUITY Factsheet_ Advanced Energy Industries Inc.</td>\n",
       "      <td>['tight', 'suppli', 'condit', 'hurt', 'aei', '...</td>\n",
       "    </tr>\n",
       "  </tbody>\n",
       "</table>\n",
       "</div>"
      ],
      "text/plain": [
       "                                                Name  \\\n",
       "0         EQUITY Factsheet_ A.P. Moller - Maersk A_S   \n",
       "1              EQUITY Factsheet_ Abbott Laboratories   \n",
       "2                      EQUITY Factsheet_ AbbVie Inc.   \n",
       "3                   EQUITY Factsheet_ Adobe Inc. (1)   \n",
       "4  EQUITY Factsheet_ Advanced Energy Industries Inc.   \n",
       "\n",
       "                                             Content  \n",
       "0  ['maersk', 'ebitda', 'billion', 'consensu', 'e...  \n",
       "1  ['expect', 'total', 'sale', 'contract', 'billi...  \n",
       "2  ['expect', 'revenu', 'growth', 'billion', 'dec...  \n",
       "3  ['project', 'sale', 'grow', 'fy', 'fy', 'compa...  \n",
       "4  ['tight', 'suppli', 'condit', 'hurt', 'aei', '...  "
      ]
     },
     "execution_count": 3,
     "metadata": {},
     "output_type": "execute_result"
    }
   ],
   "source": [
    "df.head()"
   ]
  },
  {
   "cell_type": "code",
   "execution_count": 4,
   "metadata": {},
   "outputs": [],
   "source": [
    "def chunk_size(input_ids, attention_mask, total_len):\n",
    "    prob_list = []\n",
    "    start = 0\n",
    "    win_length = 510\n",
    "    loop = True\n",
    "\n",
    "    while loop:\n",
    "        end = start + win_length\n",
    "\n",
    "        if end >= total_len:\n",
    "            loop = False \n",
    "            end = total_len\n",
    "\n",
    "        # Defining the text chunk:\n",
    "        input_ids_chunk = input_ids[start:end]\n",
    "        attention_mask_chunk = attention_mask[start:end]\n",
    "\n",
    "        # Referring to specific classes:\n",
    "        input_ids_chunk = [101] + input_ids_chunk + [102]\n",
    "        attention_mask_chunk = [1] + attention_mask_chunk + [1]\n",
    "\n",
    "        # Convert to PyTorch Tensors:\n",
    "        input_dict = {'input_ids' : torch.Tensor([input_ids_chunk]).long(),\n",
    "                      'attention_mask' : torch.Tensor([attention_mask_chunk]).int()}\n",
    "        \n",
    "        outputs = model(**input_dict)\n",
    "        probabilities = torch.nn.functional.softmax(outputs[0], dim = -1)\n",
    "        prob_list.append(probabilities)\n",
    "\n",
    "        start = end\n",
    "\n",
    "    return prob_list"
   ]
  },
  {
   "cell_type": "code",
   "execution_count": 5,
   "metadata": {},
   "outputs": [],
   "source": [
    "def get_mean_from_prob(prob_list):\n",
    "    with torch.no_grad():\n",
    "        stacks = torch.stack(prob_list)\n",
    "\n",
    "        stacks = stacks.resize(stacks.shape[0], stacks.shape[2])\n",
    "\n",
    "        mean = stacks.mean(dim=0)\n",
    "\n",
    "    return mean"
   ]
  },
  {
   "cell_type": "code",
   "execution_count": 16,
   "metadata": {},
   "outputs": [
    {
     "name": "stdout",
     "output_type": "stream",
     "text": [
      "1\n"
     ]
    }
   ],
   "source": [
    "text = df['Content'][5]\n",
    "tokens = tokenizer.encode_plus(text, add_special_tokens=False)\n",
    "input_ids = tokens['input_ids']\n",
    "attention_mask = tokens['attention_mask']\n",
    "total_len = len(input_ids)\n",
    "prob_list = chunk_size(input_ids, attention_mask, total_len)\n",
    "stacks = torch.stack(prob_list)\n",
    "shape = stacks.shape\n",
    "mean = get_mean_from_prob(prob_list)\n",
    "print(torch.argmax(mean).item())"
   ]
  },
  {
   "cell_type": "code",
   "execution_count": 6,
   "metadata": {},
   "outputs": [
    {
     "name": "stderr",
     "output_type": "stream",
     "text": [
      "Token indices sequence length is longer than the specified maximum sequence length for this model (1699 > 512). Running this sequence through the model will result in indexing errors\n",
      "c:\\Users\\hp\\AppData\\Local\\Programs\\Python\\Python311\\Lib\\site-packages\\torch\\_tensor.py:868: UserWarning: non-inplace resize is deprecated\n",
      "  warnings.warn(\"non-inplace resize is deprecated\")\n",
      "c:\\Users\\hp\\AppData\\Local\\Programs\\Python\\Python311\\Lib\\site-packages\\torch\\_tensor.py:868: UserWarning: non-inplace resize is deprecated\n",
      "  warnings.warn(\"non-inplace resize is deprecated\")\n"
     ]
    }
   ],
   "source": [
    "for text in df['Content']:\n",
    "    tokens = tokenizer.encode_plus(text, add_special_tokens=False)\n",
    "    input_ids = tokens['input_ids']\n",
    "    attention_mask = tokens['attention_mask']\n",
    "    total_len = len(input_ids)\n",
    "    prob_list = chunk_size(input_ids, attention_mask, total_len)\n",
    "    stacks = torch.stack(prob_list)\n",
    "    shape = stacks.shape\n",
    "    mean = get_mean_from_prob(prob_list)\n",
    "    sentiment_value = torch.argmax(mean).item()\n",
    "\n",
    "    if sentiment_value == 0:\n",
    "        df['Sentiment'] = 'Negative'\n",
    "    elif sentiment_value == 1:\n",
    "        df['Sentiment'] = 'Neutral'\n",
    "    else:\n",
    "        df['Sentiment'] = 'Positive'"
   ]
  },
  {
   "cell_type": "code",
   "execution_count": 7,
   "metadata": {},
   "outputs": [
    {
     "data": {
      "text/html": [
       "<div>\n",
       "<style scoped>\n",
       "    .dataframe tbody tr th:only-of-type {\n",
       "        vertical-align: middle;\n",
       "    }\n",
       "\n",
       "    .dataframe tbody tr th {\n",
       "        vertical-align: top;\n",
       "    }\n",
       "\n",
       "    .dataframe thead th {\n",
       "        text-align: right;\n",
       "    }\n",
       "</style>\n",
       "<table border=\"1\" class=\"dataframe\">\n",
       "  <thead>\n",
       "    <tr style=\"text-align: right;\">\n",
       "      <th></th>\n",
       "      <th>Name</th>\n",
       "      <th>Content</th>\n",
       "      <th>Sentiment</th>\n",
       "    </tr>\n",
       "  </thead>\n",
       "  <tbody>\n",
       "    <tr>\n",
       "      <th>0</th>\n",
       "      <td>EQUITY Factsheet_ A.P. Moller - Maersk A_S</td>\n",
       "      <td>['maersk', 'ebitda', 'billion', 'consensu', 'e...</td>\n",
       "      <td>Neutral</td>\n",
       "    </tr>\n",
       "    <tr>\n",
       "      <th>1</th>\n",
       "      <td>EQUITY Factsheet_ Abbott Laboratories</td>\n",
       "      <td>['expect', 'total', 'sale', 'contract', 'billi...</td>\n",
       "      <td>Neutral</td>\n",
       "    </tr>\n",
       "    <tr>\n",
       "      <th>2</th>\n",
       "      <td>EQUITY Factsheet_ AbbVie Inc.</td>\n",
       "      <td>['expect', 'revenu', 'growth', 'billion', 'dec...</td>\n",
       "      <td>Neutral</td>\n",
       "    </tr>\n",
       "    <tr>\n",
       "      <th>3</th>\n",
       "      <td>EQUITY Factsheet_ Adobe Inc. (1)</td>\n",
       "      <td>['project', 'sale', 'grow', 'fy', 'fy', 'compa...</td>\n",
       "      <td>Neutral</td>\n",
       "    </tr>\n",
       "    <tr>\n",
       "      <th>4</th>\n",
       "      <td>EQUITY Factsheet_ Advanced Energy Industries Inc.</td>\n",
       "      <td>['tight', 'suppli', 'condit', 'hurt', 'aei', '...</td>\n",
       "      <td>Neutral</td>\n",
       "    </tr>\n",
       "  </tbody>\n",
       "</table>\n",
       "</div>"
      ],
      "text/plain": [
       "                                                Name  \\\n",
       "0         EQUITY Factsheet_ A.P. Moller - Maersk A_S   \n",
       "1              EQUITY Factsheet_ Abbott Laboratories   \n",
       "2                      EQUITY Factsheet_ AbbVie Inc.   \n",
       "3                   EQUITY Factsheet_ Adobe Inc. (1)   \n",
       "4  EQUITY Factsheet_ Advanced Energy Industries Inc.   \n",
       "\n",
       "                                             Content Sentiment  \n",
       "0  ['maersk', 'ebitda', 'billion', 'consensu', 'e...   Neutral  \n",
       "1  ['expect', 'total', 'sale', 'contract', 'billi...   Neutral  \n",
       "2  ['expect', 'revenu', 'growth', 'billion', 'dec...   Neutral  \n",
       "3  ['project', 'sale', 'grow', 'fy', 'fy', 'compa...   Neutral  \n",
       "4  ['tight', 'suppli', 'condit', 'hurt', 'aei', '...   Neutral  "
      ]
     },
     "execution_count": 7,
     "metadata": {},
     "output_type": "execute_result"
    }
   ],
   "source": [
    "df.head()"
   ]
  },
  {
   "cell_type": "code",
   "execution_count": 9,
   "metadata": {},
   "outputs": [
    {
     "name": "stdout",
     "output_type": "stream",
     "text": [
      "Final CSV stored to Module 5.\n"
     ]
    }
   ],
   "source": [
    "df.to_csv(r'C:\\Users\\hp\\Desktop\\preply\\lars\\project\\module 5\\final_csv.csv')\n",
    "\n",
    "print('Final CSV stored to Module 5.')"
   ]
  },
  {
   "cell_type": "code",
   "execution_count": null,
   "metadata": {},
   "outputs": [],
   "source": []
  }
 ],
 "metadata": {
  "kernelspec": {
   "display_name": "Python 3",
   "language": "python",
   "name": "python3"
  },
  "language_info": {
   "codemirror_mode": {
    "name": "ipython",
    "version": 3
   },
   "file_extension": ".py",
   "mimetype": "text/x-python",
   "name": "python",
   "nbconvert_exporter": "python",
   "pygments_lexer": "ipython3",
   "version": "3.11.0"
  }
 },
 "nbformat": 4,
 "nbformat_minor": 2
}
